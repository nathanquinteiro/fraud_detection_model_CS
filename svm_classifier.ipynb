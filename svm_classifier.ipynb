{
 "cells": [
  {
   "cell_type": "markdown",
   "metadata": {},
   "source": [
    "## Import"
   ]
  },
  {
   "cell_type": "code",
   "execution_count": 5,
   "metadata": {
    "collapsed": true
   },
   "outputs": [],
   "source": [
    "import numpy as np\n",
    "import pandas as pd\n",
    "\n",
    "from sklearn import svm\n",
    "from sklearn.metrics import classification_report, confusion_matrix"
   ]
  },
  {
   "cell_type": "markdown",
   "metadata": {},
   "source": [
    "## Load data"
   ]
  },
  {
   "cell_type": "code",
   "execution_count": 6,
   "metadata": {},
   "outputs": [
    {
     "data": {
      "text/html": [
       "<div>\n",
       "<style scoped>\n",
       "    .dataframe tbody tr th:only-of-type {\n",
       "        vertical-align: middle;\n",
       "    }\n",
       "\n",
       "    .dataframe tbody tr th {\n",
       "        vertical-align: top;\n",
       "    }\n",
       "\n",
       "    .dataframe thead th {\n",
       "        text-align: right;\n",
       "    }\n",
       "</style>\n",
       "<table border=\"1\" class=\"dataframe\">\n",
       "  <thead>\n",
       "    <tr style=\"text-align: right;\">\n",
       "      <th></th>\n",
       "      <th>Unnamed: 0</th>\n",
       "      <th>suspicious</th>\n",
       "      <th>turnover</th>\n",
       "      <th>transaction_count</th>\n",
       "      <th>io_ratio</th>\n",
       "      <th>age</th>\n",
       "      <th>is_pep</th>\n",
       "      <th>inactive_days_average</th>\n",
       "      <th>inactive_days_max</th>\n",
       "      <th>n_of_accounts</th>\n",
       "      <th>...</th>\n",
       "      <th>66</th>\n",
       "      <th>94</th>\n",
       "      <th>113</th>\n",
       "      <th>117</th>\n",
       "      <th>123</th>\n",
       "      <th>134</th>\n",
       "      <th>141</th>\n",
       "      <th>172</th>\n",
       "      <th>176</th>\n",
       "      <th>191</th>\n",
       "    </tr>\n",
       "  </thead>\n",
       "  <tbody>\n",
       "    <tr>\n",
       "      <th>0</th>\n",
       "      <td>0</td>\n",
       "      <td>0</td>\n",
       "      <td>0.155125</td>\n",
       "      <td>-0.351472</td>\n",
       "      <td>0.142857</td>\n",
       "      <td>1.846726</td>\n",
       "      <td>0</td>\n",
       "      <td>-0.421064</td>\n",
       "      <td>0.109291</td>\n",
       "      <td>1.004971</td>\n",
       "      <td>...</td>\n",
       "      <td>0</td>\n",
       "      <td>0</td>\n",
       "      <td>0</td>\n",
       "      <td>0</td>\n",
       "      <td>0</td>\n",
       "      <td>1</td>\n",
       "      <td>0</td>\n",
       "      <td>0</td>\n",
       "      <td>0</td>\n",
       "      <td>0</td>\n",
       "    </tr>\n",
       "    <tr>\n",
       "      <th>1</th>\n",
       "      <td>2</td>\n",
       "      <td>0</td>\n",
       "      <td>-0.120970</td>\n",
       "      <td>-0.450145</td>\n",
       "      <td>0.666667</td>\n",
       "      <td>1.736926</td>\n",
       "      <td>0</td>\n",
       "      <td>-0.212421</td>\n",
       "      <td>-0.544681</td>\n",
       "      <td>0.002766</td>\n",
       "      <td>...</td>\n",
       "      <td>0</td>\n",
       "      <td>0</td>\n",
       "      <td>0</td>\n",
       "      <td>0</td>\n",
       "      <td>0</td>\n",
       "      <td>0</td>\n",
       "      <td>0</td>\n",
       "      <td>0</td>\n",
       "      <td>0</td>\n",
       "      <td>1</td>\n",
       "    </tr>\n",
       "    <tr>\n",
       "      <th>2</th>\n",
       "      <td>3</td>\n",
       "      <td>0</td>\n",
       "      <td>-0.113288</td>\n",
       "      <td>1.473972</td>\n",
       "      <td>0.308642</td>\n",
       "      <td>1.736926</td>\n",
       "      <td>0</td>\n",
       "      <td>-0.845109</td>\n",
       "      <td>-0.255424</td>\n",
       "      <td>0.002766</td>\n",
       "      <td>...</td>\n",
       "      <td>0</td>\n",
       "      <td>0</td>\n",
       "      <td>0</td>\n",
       "      <td>0</td>\n",
       "      <td>0</td>\n",
       "      <td>0</td>\n",
       "      <td>0</td>\n",
       "      <td>0</td>\n",
       "      <td>0</td>\n",
       "      <td>0</td>\n",
       "    </tr>\n",
       "    <tr>\n",
       "      <th>3</th>\n",
       "      <td>4</td>\n",
       "      <td>0</td>\n",
       "      <td>-0.046812</td>\n",
       "      <td>-0.499481</td>\n",
       "      <td>1.000000</td>\n",
       "      <td>-0.349274</td>\n",
       "      <td>0</td>\n",
       "      <td>1.886961</td>\n",
       "      <td>0.411125</td>\n",
       "      <td>2.007176</td>\n",
       "      <td>...</td>\n",
       "      <td>0</td>\n",
       "      <td>0</td>\n",
       "      <td>0</td>\n",
       "      <td>0</td>\n",
       "      <td>0</td>\n",
       "      <td>0</td>\n",
       "      <td>0</td>\n",
       "      <td>1</td>\n",
       "      <td>0</td>\n",
       "      <td>0</td>\n",
       "    </tr>\n",
       "    <tr>\n",
       "      <th>4</th>\n",
       "      <td>5</td>\n",
       "      <td>0</td>\n",
       "      <td>-0.125078</td>\n",
       "      <td>-0.450145</td>\n",
       "      <td>0.333333</td>\n",
       "      <td>-0.513974</td>\n",
       "      <td>0</td>\n",
       "      <td>-0.046033</td>\n",
       "      <td>-0.318306</td>\n",
       "      <td>0.002766</td>\n",
       "      <td>...</td>\n",
       "      <td>0</td>\n",
       "      <td>0</td>\n",
       "      <td>0</td>\n",
       "      <td>0</td>\n",
       "      <td>0</td>\n",
       "      <td>0</td>\n",
       "      <td>0</td>\n",
       "      <td>1</td>\n",
       "      <td>0</td>\n",
       "      <td>0</td>\n",
       "    </tr>\n",
       "  </tbody>\n",
       "</table>\n",
       "<p>5 rows × 43 columns</p>\n",
       "</div>"
      ],
      "text/plain": [
       "   Unnamed: 0  suspicious  turnover  transaction_count  io_ratio       age  \\\n",
       "0           0           0  0.155125          -0.351472  0.142857  1.846726   \n",
       "1           2           0 -0.120970          -0.450145  0.666667  1.736926   \n",
       "2           3           0 -0.113288           1.473972  0.308642  1.736926   \n",
       "3           4           0 -0.046812          -0.499481  1.000000 -0.349274   \n",
       "4           5           0 -0.125078          -0.450145  0.333333 -0.513974   \n",
       "\n",
       "   is_pep  inactive_days_average  inactive_days_max  n_of_accounts ...   66  \\\n",
       "0       0              -0.421064           0.109291       1.004971 ...    0   \n",
       "1       0              -0.212421          -0.544681       0.002766 ...    0   \n",
       "2       0              -0.845109          -0.255424       0.002766 ...    0   \n",
       "3       0               1.886961           0.411125       2.007176 ...    0   \n",
       "4       0              -0.046033          -0.318306       0.002766 ...    0   \n",
       "\n",
       "   94  113  117  123  134  141  172  176  191  \n",
       "0   0    0    0    0    1    0    0    0    0  \n",
       "1   0    0    0    0    0    0    0    0    1  \n",
       "2   0    0    0    0    0    0    0    0    0  \n",
       "3   0    0    0    0    0    0    1    0    0  \n",
       "4   0    0    0    0    0    0    1    0    0  \n",
       "\n",
       "[5 rows x 43 columns]"
      ]
     },
     "execution_count": 6,
     "metadata": {},
     "output_type": "execute_result"
    }
   ],
   "source": [
    "train_data = pd.read_csv(\"data/final_train.csv\")\n",
    "train_data.head()"
   ]
  },
  {
   "cell_type": "markdown",
   "metadata": {},
   "source": [
    "## Split train/validation"
   ]
  },
  {
   "cell_type": "code",
   "execution_count": 7,
   "metadata": {
    "collapsed": true
   },
   "outputs": [],
   "source": [
    "msk = np.random.rand(len(train_data)) < 0.8\n",
    "train = train_data[msk]\n",
    "test = train_data[~msk]"
   ]
  },
  {
   "cell_type": "code",
   "execution_count": 8,
   "metadata": {
    "collapsed": true
   },
   "outputs": [],
   "source": [
    "X_train = train.drop([\"Unnamed: 0\", \"suspicious\"], axis=1)\n",
    "y_train = train[\"suspicious\"]\n",
    "\n",
    "X_test = test.drop([\"Unnamed: 0\", \"suspicious\"], axis=1)\n",
    "y_test = test[\"suspicious\"]"
   ]
  },
  {
   "cell_type": "markdown",
   "metadata": {},
   "source": [
    "## Define the SVM model"
   ]
  },
  {
   "cell_type": "code",
   "execution_count": null,
   "metadata": {},
   "outputs": [
    {
     "name": "stdout",
     "output_type": "stream",
     "text": [
      "[LibSVM]"
     ]
    }
   ],
   "source": [
    "classifier = svm.SVC(kernel='rbf', random_state=0, verbose=True)\n",
    "classifier.fit(X_train, y_train)"
   ]
  },
  {
   "cell_type": "code",
   "execution_count": null,
   "metadata": {},
   "outputs": [],
   "source": [
    "y_pred = svclassifier.predict(X_test)\n",
    "print(confusion_matrix(y_test,y_pred))  \n",
    "print(classification_report(y_test,y_pred)) "
   ]
  },
  {
   "cell_type": "code",
   "execution_count": null,
   "metadata": {
    "collapsed": true
   },
   "outputs": [],
   "source": []
  }
 ],
 "metadata": {
  "kernelspec": {
   "display_name": "Python (lauzhack18)",
   "language": "python",
   "name": "lauzhack18-env"
  },
  "language_info": {
   "codemirror_mode": {
    "name": "ipython",
    "version": 3
   },
   "file_extension": ".py",
   "mimetype": "text/x-python",
   "name": "python",
   "nbconvert_exporter": "python",
   "pygments_lexer": "ipython3",
   "version": "3.6.0"
  }
 },
 "nbformat": 4,
 "nbformat_minor": 2
}

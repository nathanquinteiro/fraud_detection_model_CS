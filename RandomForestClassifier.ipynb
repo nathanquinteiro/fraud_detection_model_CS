{
 "cells": [
  {
   "cell_type": "markdown",
   "metadata": {},
   "source": [
    "## Import"
   ]
  },
  {
   "cell_type": "code",
   "execution_count": 538,
   "metadata": {
    "collapsed": true
   },
   "outputs": [],
   "source": [
    "import numpy as np\n",
    "import pandas as pd\n",
    "\n",
    "from sklearn import svm\n",
    "from sklearn.metrics import classification_report, confusion_matrix\n",
    "from sklearn.preprocessing import MinMaxScaler\n",
    "from sklearn.ensemble import RandomForestClassifier\n",
    "from sklearn.metrics import recall_score, precision_score\n",
    "\n",
    "import warnings\n",
    "warnings.filterwarnings('ignore')"
   ]
  },
  {
   "cell_type": "markdown",
   "metadata": {},
   "source": [
    "## Load data"
   ]
  },
  {
   "cell_type": "code",
   "execution_count": 492,
   "metadata": {
    "collapsed": false
   },
   "outputs": [
    {
     "data": {
      "text/html": [
       "<div>\n",
       "<style scoped>\n",
       "    .dataframe tbody tr th:only-of-type {\n",
       "        vertical-align: middle;\n",
       "    }\n",
       "\n",
       "    .dataframe tbody tr th {\n",
       "        vertical-align: top;\n",
       "    }\n",
       "\n",
       "    .dataframe thead th {\n",
       "        text-align: right;\n",
       "    }\n",
       "</style>\n",
       "<table border=\"1\" class=\"dataframe\">\n",
       "  <thead>\n",
       "    <tr style=\"text-align: right;\">\n",
       "      <th></th>\n",
       "      <th>Unnamed: 0</th>\n",
       "      <th>suspicious</th>\n",
       "      <th>turnover</th>\n",
       "      <th>transaction_count</th>\n",
       "      <th>io_ratio</th>\n",
       "      <th>age</th>\n",
       "      <th>is_pep</th>\n",
       "      <th>inactive_days_average</th>\n",
       "      <th>inactive_days_max</th>\n",
       "      <th>n_of_accounts</th>\n",
       "      <th>...</th>\n",
       "      <th>distinct_counterparties_log</th>\n",
       "      <th>transaction_in</th>\n",
       "      <th>transaction_out</th>\n",
       "      <th>transaction_in_log</th>\n",
       "      <th>transaction_out_log</th>\n",
       "      <th>transaction_count_log</th>\n",
       "      <th>0</th>\n",
       "      <th>1</th>\n",
       "      <th>2</th>\n",
       "      <th>3</th>\n",
       "    </tr>\n",
       "  </thead>\n",
       "  <tbody>\n",
       "    <tr>\n",
       "      <th>0</th>\n",
       "      <td>0</td>\n",
       "      <td>0</td>\n",
       "      <td>0.143663</td>\n",
       "      <td>-0.351520</td>\n",
       "      <td>0.142857</td>\n",
       "      <td>1.846564</td>\n",
       "      <td>0</td>\n",
       "      <td>-0.421181</td>\n",
       "      <td>0.108757</td>\n",
       "      <td>1.005063</td>\n",
       "      <td>...</td>\n",
       "      <td>1.039112</td>\n",
       "      <td>-0.432306</td>\n",
       "      <td>-0.312382</td>\n",
       "      <td>-0.721217</td>\n",
       "      <td>0.260517</td>\n",
       "      <td>0.183046</td>\n",
       "      <td>0</td>\n",
       "      <td>0</td>\n",
       "      <td>1</td>\n",
       "      <td>0</td>\n",
       "    </tr>\n",
       "    <tr>\n",
       "      <th>1</th>\n",
       "      <td>2</td>\n",
       "      <td>0</td>\n",
       "      <td>-0.113321</td>\n",
       "      <td>-0.450280</td>\n",
       "      <td>0.666667</td>\n",
       "      <td>1.736781</td>\n",
       "      <td>0</td>\n",
       "      <td>-0.212764</td>\n",
       "      <td>-0.544194</td>\n",
       "      <td>0.003134</td>\n",
       "      <td>...</td>\n",
       "      <td>-0.615425</td>\n",
       "      <td>-0.352255</td>\n",
       "      <td>-0.489128</td>\n",
       "      <td>-0.174106</td>\n",
       "      <td>-0.888673</td>\n",
       "      <td>-0.330729</td>\n",
       "      <td>0</td>\n",
       "      <td>0</td>\n",
       "      <td>1</td>\n",
       "      <td>0</td>\n",
       "    </tr>\n",
       "    <tr>\n",
       "      <th>2</th>\n",
       "      <td>3</td>\n",
       "      <td>0</td>\n",
       "      <td>-0.106171</td>\n",
       "      <td>1.475538</td>\n",
       "      <td>0.308642</td>\n",
       "      <td>1.736781</td>\n",
       "      <td>0</td>\n",
       "      <td>-0.844768</td>\n",
       "      <td>-0.255389</td>\n",
       "      <td>0.003134</td>\n",
       "      <td>...</td>\n",
       "      <td>0.024637</td>\n",
       "      <td>1.488931</td>\n",
       "      <td>1.455079</td>\n",
       "      <td>1.819491</td>\n",
       "      <td>1.693087</td>\n",
       "      <td>1.667765</td>\n",
       "      <td>0</td>\n",
       "      <td>0</td>\n",
       "      <td>1</td>\n",
       "      <td>0</td>\n",
       "    </tr>\n",
       "    <tr>\n",
       "      <th>3</th>\n",
       "      <td>4</td>\n",
       "      <td>0</td>\n",
       "      <td>-0.044296</td>\n",
       "      <td>-0.499660</td>\n",
       "      <td>1.000000</td>\n",
       "      <td>-0.349103</td>\n",
       "      <td>0</td>\n",
       "      <td>1.884350</td>\n",
       "      <td>0.410118</td>\n",
       "      <td>2.006993</td>\n",
       "      <td>...</td>\n",
       "      <td>-0.615425</td>\n",
       "      <td>-0.432306</td>\n",
       "      <td>-0.524477</td>\n",
       "      <td>-0.721217</td>\n",
       "      <td>-0.888673</td>\n",
       "      <td>-0.996894</td>\n",
       "      <td>0</td>\n",
       "      <td>1</td>\n",
       "      <td>0</td>\n",
       "      <td>0</td>\n",
       "    </tr>\n",
       "    <tr>\n",
       "      <th>4</th>\n",
       "      <td>5</td>\n",
       "      <td>0</td>\n",
       "      <td>-0.117145</td>\n",
       "      <td>-0.450280</td>\n",
       "      <td>0.333333</td>\n",
       "      <td>-0.513778</td>\n",
       "      <td>0</td>\n",
       "      <td>-0.046556</td>\n",
       "      <td>-0.318172</td>\n",
       "      <td>0.003134</td>\n",
       "      <td>...</td>\n",
       "      <td>0.399049</td>\n",
       "      <td>-0.432306</td>\n",
       "      <td>-0.453778</td>\n",
       "      <td>-0.721217</td>\n",
       "      <td>-0.444106</td>\n",
       "      <td>-0.330729</td>\n",
       "      <td>0</td>\n",
       "      <td>1</td>\n",
       "      <td>0</td>\n",
       "      <td>0</td>\n",
       "    </tr>\n",
       "  </tbody>\n",
       "</table>\n",
       "<p>5 rows × 43 columns</p>\n",
       "</div>"
      ],
      "text/plain": [
       "   Unnamed: 0  suspicious  turnover  transaction_count  io_ratio       age  \\\n",
       "0           0           0  0.143663          -0.351520  0.142857  1.846564   \n",
       "1           2           0 -0.113321          -0.450280  0.666667  1.736781   \n",
       "2           3           0 -0.106171           1.475538  0.308642  1.736781   \n",
       "3           4           0 -0.044296          -0.499660  1.000000 -0.349103   \n",
       "4           5           0 -0.117145          -0.450280  0.333333 -0.513778   \n",
       "\n",
       "   is_pep  inactive_days_average  inactive_days_max  n_of_accounts ...  \\\n",
       "0       0              -0.421181           0.108757       1.005063 ...   \n",
       "1       0              -0.212764          -0.544194       0.003134 ...   \n",
       "2       0              -0.844768          -0.255389       0.003134 ...   \n",
       "3       0               1.884350           0.410118       2.006993 ...   \n",
       "4       0              -0.046556          -0.318172       0.003134 ...   \n",
       "\n",
       "   distinct_counterparties_log  transaction_in  transaction_out  \\\n",
       "0                     1.039112       -0.432306        -0.312382   \n",
       "1                    -0.615425       -0.352255        -0.489128   \n",
       "2                     0.024637        1.488931         1.455079   \n",
       "3                    -0.615425       -0.432306        -0.524477   \n",
       "4                     0.399049       -0.432306        -0.453778   \n",
       "\n",
       "   transaction_in_log  transaction_out_log  transaction_count_log  0  1  2  3  \n",
       "0           -0.721217             0.260517               0.183046  0  0  1  0  \n",
       "1           -0.174106            -0.888673              -0.330729  0  0  1  0  \n",
       "2            1.819491             1.693087               1.667765  0  0  1  0  \n",
       "3           -0.721217            -0.888673              -0.996894  0  1  0  0  \n",
       "4           -0.721217            -0.444106              -0.330729  0  1  0  0  \n",
       "\n",
       "[5 rows x 43 columns]"
      ]
     },
     "execution_count": 492,
     "metadata": {},
     "output_type": "execute_result"
    }
   ],
   "source": [
    "train_data = pd.read_csv(\"/Users/bojan/Downloads/people_train.csv\")\n",
    "train_data.head()"
   ]
  },
  {
   "cell_type": "code",
   "execution_count": 493,
   "metadata": {
    "collapsed": true
   },
   "outputs": [],
   "source": [
    "train  = train_data"
   ]
  },
  {
   "cell_type": "markdown",
   "metadata": {},
   "source": [
    "## Split train/validation"
   ]
  },
  {
   "cell_type": "code",
   "execution_count": 432,
   "metadata": {
    "collapsed": false
   },
   "outputs": [],
   "source": [
    "#msk = np.random.rand(len(train_data)) < 0.8\n",
    "#train = train_data[msk]\n",
    "#test = train_data[~msk]"
   ]
  },
  {
   "cell_type": "code",
   "execution_count": 486,
   "metadata": {
    "collapsed": false
   },
   "outputs": [],
   "source": [
    "#for i in range(1):\n",
    "#    ovrsmpl = train[train['suspicious'] == 1]\n",
    "#    train = pd.concat([train,ovrsmpl], axis=0)"
   ]
  },
  {
   "cell_type": "code",
   "execution_count": 494,
   "metadata": {
    "collapsed": false
   },
   "outputs": [
    {
     "data": {
      "text/plain": [
       "640110"
      ]
     },
     "execution_count": 494,
     "metadata": {},
     "output_type": "execute_result"
    }
   ],
   "source": [
    "len(train)"
   ]
  },
  {
   "cell_type": "code",
   "execution_count": 495,
   "metadata": {
    "collapsed": false
   },
   "outputs": [],
   "source": [
    "X_train = train.drop([\"Unnamed: 0\", \"suspicious\"], axis=1)\n",
    "y_train = train[\"suspicious\"]\n",
    "\n"
   ]
  },
  {
   "cell_type": "code",
   "execution_count": 489,
   "metadata": {
    "collapsed": false
   },
   "outputs": [
    {
     "data": {
      "text/html": [
       "<div>\n",
       "<style scoped>\n",
       "    .dataframe tbody tr th:only-of-type {\n",
       "        vertical-align: middle;\n",
       "    }\n",
       "\n",
       "    .dataframe tbody tr th {\n",
       "        vertical-align: top;\n",
       "    }\n",
       "\n",
       "    .dataframe thead th {\n",
       "        text-align: right;\n",
       "    }\n",
       "</style>\n",
       "<table border=\"1\" class=\"dataframe\">\n",
       "  <thead>\n",
       "    <tr style=\"text-align: right;\">\n",
       "      <th></th>\n",
       "      <th>Unnamed: 0</th>\n",
       "      <th>suspicious</th>\n",
       "      <th>turnover</th>\n",
       "      <th>transaction_count</th>\n",
       "      <th>io_ratio</th>\n",
       "      <th>age</th>\n",
       "      <th>is_pep</th>\n",
       "      <th>inactive_days_average</th>\n",
       "      <th>inactive_days_max</th>\n",
       "      <th>n_of_accounts</th>\n",
       "      <th>...</th>\n",
       "      <th>distinct_counterparties_log</th>\n",
       "      <th>transaction_in</th>\n",
       "      <th>transaction_out</th>\n",
       "      <th>transaction_in_log</th>\n",
       "      <th>transaction_out_log</th>\n",
       "      <th>transaction_count_log</th>\n",
       "      <th>0</th>\n",
       "      <th>1</th>\n",
       "      <th>2</th>\n",
       "      <th>3</th>\n",
       "    </tr>\n",
       "  </thead>\n",
       "  <tbody>\n",
       "    <tr>\n",
       "      <th>0</th>\n",
       "      <td>17</td>\n",
       "      <td>0</td>\n",
       "      <td>0.258922</td>\n",
       "      <td>-0.499660</td>\n",
       "      <td>1.000000</td>\n",
       "      <td>1.078080</td>\n",
       "      <td>0</td>\n",
       "      <td>0.757848</td>\n",
       "      <td>0.749150</td>\n",
       "      <td>1.005063</td>\n",
       "      <td>...</td>\n",
       "      <td>-0.615425</td>\n",
       "      <td>-0.432306</td>\n",
       "      <td>-0.524477</td>\n",
       "      <td>-0.721217</td>\n",
       "      <td>-0.888673</td>\n",
       "      <td>-0.996894</td>\n",
       "      <td>0</td>\n",
       "      <td>0</td>\n",
       "      <td>1</td>\n",
       "      <td>0</td>\n",
       "    </tr>\n",
       "    <tr>\n",
       "      <th>1</th>\n",
       "      <td>21</td>\n",
       "      <td>0</td>\n",
       "      <td>-0.116272</td>\n",
       "      <td>-0.005861</td>\n",
       "      <td>0.190476</td>\n",
       "      <td>1.462322</td>\n",
       "      <td>0</td>\n",
       "      <td>-0.740466</td>\n",
       "      <td>-0.293059</td>\n",
       "      <td>-0.998796</td>\n",
       "      <td>...</td>\n",
       "      <td>0.024637</td>\n",
       "      <td>-0.192152</td>\n",
       "      <td>0.076460</td>\n",
       "      <td>0.373006</td>\n",
       "      <td>0.928479</td>\n",
       "      <td>0.849211</td>\n",
       "      <td>0</td>\n",
       "      <td>0</td>\n",
       "      <td>1</td>\n",
       "      <td>0</td>\n",
       "    </tr>\n",
       "    <tr>\n",
       "      <th>2</th>\n",
       "      <td>25</td>\n",
       "      <td>0</td>\n",
       "      <td>-0.059747</td>\n",
       "      <td>5.154346</td>\n",
       "      <td>0.282609</td>\n",
       "      <td>-0.678453</td>\n",
       "      <td>0</td>\n",
       "      <td>-0.865404</td>\n",
       "      <td>-0.142378</td>\n",
       "      <td>0.003134</td>\n",
       "      <td>...</td>\n",
       "      <td>3.101643</td>\n",
       "      <td>4.690994</td>\n",
       "      <td>5.308143</td>\n",
       "      <td>2.573691</td>\n",
       "      <td>2.386152</td>\n",
       "      <td>2.300590</td>\n",
       "      <td>0</td>\n",
       "      <td>1</td>\n",
       "      <td>0</td>\n",
       "      <td>0</td>\n",
       "    </tr>\n",
       "    <tr>\n",
       "      <th>3</th>\n",
       "      <td>28</td>\n",
       "      <td>0</td>\n",
       "      <td>-0.115467</td>\n",
       "      <td>-0.474970</td>\n",
       "      <td>0.000000</td>\n",
       "      <td>1.352539</td>\n",
       "      <td>0</td>\n",
       "      <td>1.525107</td>\n",
       "      <td>1.778803</td>\n",
       "      <td>-0.998796</td>\n",
       "      <td>...</td>\n",
       "      <td>-0.615425</td>\n",
       "      <td>-0.512358</td>\n",
       "      <td>-0.453778</td>\n",
       "      <td>-0.721217</td>\n",
       "      <td>-0.444106</td>\n",
       "      <td>-0.576591</td>\n",
       "      <td>0</td>\n",
       "      <td>0</td>\n",
       "      <td>1</td>\n",
       "      <td>0</td>\n",
       "    </tr>\n",
       "    <tr>\n",
       "      <th>4</th>\n",
       "      <td>34</td>\n",
       "      <td>0</td>\n",
       "      <td>-0.087982</td>\n",
       "      <td>-0.474970</td>\n",
       "      <td>0.000000</td>\n",
       "      <td>0.364489</td>\n",
       "      <td>0</td>\n",
       "      <td>0.384911</td>\n",
       "      <td>0.259438</td>\n",
       "      <td>-0.998796</td>\n",
       "      <td>...</td>\n",
       "      <td>-0.615425</td>\n",
       "      <td>-0.512358</td>\n",
       "      <td>-0.453778</td>\n",
       "      <td>-0.721217</td>\n",
       "      <td>-0.444106</td>\n",
       "      <td>-0.576591</td>\n",
       "      <td>0</td>\n",
       "      <td>0</td>\n",
       "      <td>1</td>\n",
       "      <td>0</td>\n",
       "    </tr>\n",
       "  </tbody>\n",
       "</table>\n",
       "<p>5 rows × 43 columns</p>\n",
       "</div>"
      ],
      "text/plain": [
       "   Unnamed: 0  suspicious  turnover  transaction_count  io_ratio       age  \\\n",
       "0          17           0  0.258922          -0.499660  1.000000  1.078080   \n",
       "1          21           0 -0.116272          -0.005861  0.190476  1.462322   \n",
       "2          25           0 -0.059747           5.154346  0.282609 -0.678453   \n",
       "3          28           0 -0.115467          -0.474970  0.000000  1.352539   \n",
       "4          34           0 -0.087982          -0.474970  0.000000  0.364489   \n",
       "\n",
       "   is_pep  inactive_days_average  inactive_days_max  n_of_accounts ...  \\\n",
       "0       0               0.757848           0.749150       1.005063 ...   \n",
       "1       0              -0.740466          -0.293059      -0.998796 ...   \n",
       "2       0              -0.865404          -0.142378       0.003134 ...   \n",
       "3       0               1.525107           1.778803      -0.998796 ...   \n",
       "4       0               0.384911           0.259438      -0.998796 ...   \n",
       "\n",
       "   distinct_counterparties_log  transaction_in  transaction_out  \\\n",
       "0                    -0.615425       -0.432306        -0.524477   \n",
       "1                     0.024637       -0.192152         0.076460   \n",
       "2                     3.101643        4.690994         5.308143   \n",
       "3                    -0.615425       -0.512358        -0.453778   \n",
       "4                    -0.615425       -0.512358        -0.453778   \n",
       "\n",
       "   transaction_in_log  transaction_out_log  transaction_count_log  0  1  2  3  \n",
       "0           -0.721217            -0.888673              -0.996894  0  0  1  0  \n",
       "1            0.373006             0.928479               0.849211  0  0  1  0  \n",
       "2            2.573691             2.386152               2.300590  0  1  0  0  \n",
       "3           -0.721217            -0.444106              -0.576591  0  0  1  0  \n",
       "4           -0.721217            -0.444106              -0.576591  0  0  1  0  \n",
       "\n",
       "[5 rows x 43 columns]"
      ]
     },
     "execution_count": 489,
     "metadata": {},
     "output_type": "execute_result"
    }
   ],
   "source": [
    "test = pd.read_csv(\"/Users/bojan/Downloads/people_validate.csv\")\n",
    "test.head()"
   ]
  },
  {
   "cell_type": "code",
   "execution_count": 490,
   "metadata": {
    "collapsed": true
   },
   "outputs": [],
   "source": [
    "X_test = test.drop([\"Unnamed: 0\", \"suspicious\"], axis=1)\n",
    "y_test = test[\"suspicious\"]"
   ]
  },
  {
   "cell_type": "code",
   "execution_count": null,
   "metadata": {
    "collapsed": false
   },
   "outputs": [],
   "source": []
  },
  {
   "cell_type": "code",
   "execution_count": 435,
   "metadata": {
    "collapsed": true
   },
   "outputs": [],
   "source": []
  },
  {
   "cell_type": "markdown",
   "metadata": {},
   "source": [
    "## Define the SVM model"
   ]
  },
  {
   "cell_type": "code",
   "execution_count": 436,
   "metadata": {
    "collapsed": false
   },
   "outputs": [],
   "source": [
    "#scaling = MinMaxScaler(feature_range=(-1,1)).fit(X_train)"
   ]
  },
  {
   "cell_type": "code",
   "execution_count": 437,
   "metadata": {
    "collapsed": false
   },
   "outputs": [],
   "source": [
    "#X_train = scaling.transform(X_train)\n",
    "#X_test = scaling.transform(X_test)"
   ]
  },
  {
   "cell_type": "code",
   "execution_count": 496,
   "metadata": {
    "collapsed": false
   },
   "outputs": [],
   "source": [
    "clf = RandomForestClassifier(n_estimators=100, max_depth=25, min_samples_split=500, class_weight={1:60})"
   ]
  },
  {
   "cell_type": "code",
   "execution_count": 497,
   "metadata": {
    "collapsed": false
   },
   "outputs": [
    {
     "data": {
      "text/plain": [
       "RandomForestClassifier(bootstrap=True, class_weight={1: 60}, criterion='gini',\n",
       "            max_depth=25, max_features='auto', max_leaf_nodes=None,\n",
       "            min_impurity_decrease=0.0, min_impurity_split=None,\n",
       "            min_samples_leaf=1, min_samples_split=500,\n",
       "            min_weight_fraction_leaf=0.0, n_estimators=100, n_jobs=1,\n",
       "            oob_score=False, random_state=None, verbose=0,\n",
       "            warm_start=False)"
      ]
     },
     "execution_count": 497,
     "metadata": {},
     "output_type": "execute_result"
    }
   ],
   "source": [
    "clf.fit(X_train, y_train)"
   ]
  },
  {
   "cell_type": "code",
   "execution_count": 498,
   "metadata": {
    "collapsed": false
   },
   "outputs": [
    {
     "data": {
      "text/plain": [
       "array([1.60018179e-01, 1.66481731e-02, 6.27013412e-02, 8.36412841e-02,\n",
       "       5.37759696e-04, 3.13857537e-02, 2.24259107e-02, 9.17171358e-03,\n",
       "       6.22884499e-03, 3.95894587e-02, 7.25783879e-02, 3.53998331e-02,\n",
       "       2.55737367e-03, 2.58533532e-03, 3.40906934e-03, 2.99822214e-03,\n",
       "       4.99867281e-05, 4.52340627e-03, 7.45708818e-05, 7.68760883e-03,\n",
       "       1.20914908e-03, 4.35010127e-05, 6.10662008e-03, 7.94410915e-03,\n",
       "       3.56236834e-03, 5.45489804e-03, 1.25870294e-04, 8.01350750e-03,\n",
       "       1.51983019e-01, 7.30484320e-02, 4.40317258e-02, 6.49988480e-03,\n",
       "       3.26050319e-02, 1.61139767e-02, 2.53077080e-02, 1.51544658e-02,\n",
       "       1.92393868e-02, 6.85856537e-03, 7.43062418e-03, 4.93141178e-03,\n",
       "       1.23531576e-04])"
      ]
     },
     "execution_count": 498,
     "metadata": {},
     "output_type": "execute_result"
    }
   ],
   "source": [
    "clf.feature_importances_"
   ]
  },
  {
   "cell_type": "code",
   "execution_count": null,
   "metadata": {
    "collapsed": false
   },
   "outputs": [],
   "source": []
  },
  {
   "cell_type": "code",
   "execution_count": 475,
   "metadata": {
    "collapsed": false
   },
   "outputs": [
    {
     "data": {
      "text/plain": [
       "646052"
      ]
     },
     "execution_count": 475,
     "metadata": {},
     "output_type": "execute_result"
    }
   ],
   "source": [
    "len(X_train)"
   ]
  },
  {
   "cell_type": "code",
   "execution_count": 476,
   "metadata": {
    "collapsed": false
   },
   "outputs": [],
   "source": [
    "#classifier = svm.SVC(C=1.0, kernel='linear', class_weight='balanced')\n",
    "#classifier.fit(X_train, y_train)"
   ]
  },
  {
   "cell_type": "code",
   "execution_count": 499,
   "metadata": {
    "collapsed": false
   },
   "outputs": [
    {
     "name": "stdout",
     "output_type": "stream",
     "text": [
      "[[148354  10005]\n",
      " [   780    897]]\n",
      "             precision    recall  f1-score   support\n",
      "\n",
      "          0       0.99      0.94      0.96    158359\n",
      "          1       0.08      0.53      0.14      1677\n",
      "\n",
      "avg / total       0.99      0.93      0.96    160036\n",
      "\n"
     ]
    }
   ],
   "source": [
    "y_pred = clf.predict(X_test)\n",
    "print(confusion_matrix(y_test,y_pred))  \n",
    "print(classification_report(y_test,y_pred)) "
   ]
  },
  {
   "cell_type": "code",
   "execution_count": 503,
   "metadata": {
    "collapsed": false
   },
   "outputs": [],
   "source": [
    "y_pred_proba = clf.predict_proba(X_test)"
   ]
  },
  {
   "cell_type": "code",
   "execution_count": 511,
   "metadata": {
    "collapsed": false
   },
   "outputs": [],
   "source": [
    "pd.DataFrame(y_pred_proba).to_csv('validation_prob.csv')"
   ]
  },
  {
   "cell_type": "code",
   "execution_count": 478,
   "metadata": {
    "collapsed": false
   },
   "outputs": [
    {
     "data": {
      "text/plain": [
       "20998"
      ]
     },
     "execution_count": 478,
     "metadata": {},
     "output_type": "execute_result"
    }
   ],
   "source": [
    "sum(y_pred)"
   ]
  },
  {
   "cell_type": "code",
   "execution_count": 479,
   "metadata": {
    "collapsed": false
   },
   "outputs": [
    {
     "data": {
      "text/plain": [
       "0.6528528528528529"
      ]
     },
     "execution_count": 479,
     "metadata": {},
     "output_type": "execute_result"
    }
   ],
   "source": [
    "recall_score(y_test,y_pred)"
   ]
  },
  {
   "cell_type": "code",
   "execution_count": 480,
   "metadata": {
    "collapsed": false
   },
   "outputs": [
    {
     "data": {
      "text/plain": [
       "0.051766834936660636"
      ]
     },
     "execution_count": 480,
     "metadata": {},
     "output_type": "execute_result"
    }
   ],
   "source": [
    "precision_score(y_test,y_pred)"
   ]
  },
  {
   "cell_type": "code",
   "execution_count": 513,
   "metadata": {
    "collapsed": false
   },
   "outputs": [],
   "source": [
    "test_data = pd.read_csv(\"/Users/bojan/Downloads/people_test_v2.csv\")\n",
    "test_data.head()\n",
    "X_test_final = test_data.drop([\"Unnamed: 0\"], axis=1)"
   ]
  },
  {
   "cell_type": "code",
   "execution_count": 373,
   "metadata": {
    "collapsed": false
   },
   "outputs": [
    {
     "data": {
      "text/html": [
       "<div>\n",
       "<style scoped>\n",
       "    .dataframe tbody tr th:only-of-type {\n",
       "        vertical-align: middle;\n",
       "    }\n",
       "\n",
       "    .dataframe tbody tr th {\n",
       "        vertical-align: top;\n",
       "    }\n",
       "\n",
       "    .dataframe thead th {\n",
       "        text-align: right;\n",
       "    }\n",
       "</style>\n",
       "<table border=\"1\" class=\"dataframe\">\n",
       "  <thead>\n",
       "    <tr style=\"text-align: right;\">\n",
       "      <th></th>\n",
       "      <th>Unnamed: 0</th>\n",
       "      <th>turnover</th>\n",
       "      <th>transaction_count</th>\n",
       "      <th>io_ratio</th>\n",
       "      <th>age</th>\n",
       "      <th>is_pep</th>\n",
       "      <th>inactive_days_average</th>\n",
       "      <th>inactive_days_max</th>\n",
       "      <th>n_of_accounts</th>\n",
       "      <th>distinct_counterparties</th>\n",
       "      <th>...</th>\n",
       "      <th>66</th>\n",
       "      <th>94</th>\n",
       "      <th>113</th>\n",
       "      <th>117</th>\n",
       "      <th>123</th>\n",
       "      <th>134</th>\n",
       "      <th>141</th>\n",
       "      <th>172</th>\n",
       "      <th>176</th>\n",
       "      <th>191</th>\n",
       "    </tr>\n",
       "  </thead>\n",
       "  <tbody>\n",
       "    <tr>\n",
       "      <th>0</th>\n",
       "      <td>0</td>\n",
       "      <td>0.346167</td>\n",
       "      <td>-0.499481</td>\n",
       "      <td>0.00</td>\n",
       "      <td>1.023226</td>\n",
       "      <td>0</td>\n",
       "      <td>1.114928</td>\n",
       "      <td>-0.104507</td>\n",
       "      <td>0.002766</td>\n",
       "      <td>-0.324675</td>\n",
       "      <td>...</td>\n",
       "      <td>0</td>\n",
       "      <td>0</td>\n",
       "      <td>0</td>\n",
       "      <td>0</td>\n",
       "      <td>0</td>\n",
       "      <td>0</td>\n",
       "      <td>0</td>\n",
       "      <td>0</td>\n",
       "      <td>0</td>\n",
       "      <td>0</td>\n",
       "    </tr>\n",
       "    <tr>\n",
       "      <th>1</th>\n",
       "      <td>2</td>\n",
       "      <td>-0.116793</td>\n",
       "      <td>-0.425476</td>\n",
       "      <td>0.25</td>\n",
       "      <td>-0.239474</td>\n",
       "      <td>0</td>\n",
       "      <td>-0.302564</td>\n",
       "      <td>-0.670445</td>\n",
       "      <td>0.002766</td>\n",
       "      <td>-0.324675</td>\n",
       "      <td>...</td>\n",
       "      <td>0</td>\n",
       "      <td>0</td>\n",
       "      <td>0</td>\n",
       "      <td>0</td>\n",
       "      <td>0</td>\n",
       "      <td>0</td>\n",
       "      <td>0</td>\n",
       "      <td>0</td>\n",
       "      <td>0</td>\n",
       "      <td>0</td>\n",
       "    </tr>\n",
       "    <tr>\n",
       "      <th>2</th>\n",
       "      <td>3</td>\n",
       "      <td>-0.097363</td>\n",
       "      <td>-0.425476</td>\n",
       "      <td>0.50</td>\n",
       "      <td>-1.611974</td>\n",
       "      <td>0</td>\n",
       "      <td>-0.429327</td>\n",
       "      <td>-0.230271</td>\n",
       "      <td>0.002766</td>\n",
       "      <td>-0.324675</td>\n",
       "      <td>...</td>\n",
       "      <td>0</td>\n",
       "      <td>1</td>\n",
       "      <td>0</td>\n",
       "      <td>0</td>\n",
       "      <td>0</td>\n",
       "      <td>0</td>\n",
       "      <td>0</td>\n",
       "      <td>0</td>\n",
       "      <td>0</td>\n",
       "      <td>0</td>\n",
       "    </tr>\n",
       "    <tr>\n",
       "      <th>3</th>\n",
       "      <td>4</td>\n",
       "      <td>-0.121385</td>\n",
       "      <td>-0.499481</td>\n",
       "      <td>0.00</td>\n",
       "      <td>0.035026</td>\n",
       "      <td>0</td>\n",
       "      <td>0.014813</td>\n",
       "      <td>-0.846514</td>\n",
       "      <td>0.002766</td>\n",
       "      <td>-0.324675</td>\n",
       "      <td>...</td>\n",
       "      <td>0</td>\n",
       "      <td>0</td>\n",
       "      <td>0</td>\n",
       "      <td>0</td>\n",
       "      <td>0</td>\n",
       "      <td>0</td>\n",
       "      <td>0</td>\n",
       "      <td>0</td>\n",
       "      <td>0</td>\n",
       "      <td>0</td>\n",
       "    </tr>\n",
       "    <tr>\n",
       "      <th>4</th>\n",
       "      <td>5</td>\n",
       "      <td>-0.123628</td>\n",
       "      <td>-0.400808</td>\n",
       "      <td>0.00</td>\n",
       "      <td>1.956526</td>\n",
       "      <td>0</td>\n",
       "      <td>-0.354020</td>\n",
       "      <td>-0.029049</td>\n",
       "      <td>3.009381</td>\n",
       "      <td>-0.324675</td>\n",
       "      <td>...</td>\n",
       "      <td>0</td>\n",
       "      <td>0</td>\n",
       "      <td>0</td>\n",
       "      <td>0</td>\n",
       "      <td>0</td>\n",
       "      <td>0</td>\n",
       "      <td>0</td>\n",
       "      <td>1</td>\n",
       "      <td>0</td>\n",
       "      <td>0</td>\n",
       "    </tr>\n",
       "  </tbody>\n",
       "</table>\n",
       "<p>5 rows × 42 columns</p>\n",
       "</div>"
      ],
      "text/plain": [
       "   Unnamed: 0  turnover  transaction_count  io_ratio       age  is_pep  \\\n",
       "0           0  0.346167          -0.499481      0.00  1.023226       0   \n",
       "1           2 -0.116793          -0.425476      0.25 -0.239474       0   \n",
       "2           3 -0.097363          -0.425476      0.50 -1.611974       0   \n",
       "3           4 -0.121385          -0.499481      0.00  0.035026       0   \n",
       "4           5 -0.123628          -0.400808      0.00  1.956526       0   \n",
       "\n",
       "   inactive_days_average  inactive_days_max  n_of_accounts  \\\n",
       "0               1.114928          -0.104507       0.002766   \n",
       "1              -0.302564          -0.670445       0.002766   \n",
       "2              -0.429327          -0.230271       0.002766   \n",
       "3               0.014813          -0.846514       0.002766   \n",
       "4              -0.354020          -0.029049       3.009381   \n",
       "\n",
       "   distinct_counterparties ...   66  94  113  117  123  134  141  172  176  \\\n",
       "0                -0.324675 ...    0   0    0    0    0    0    0    0    0   \n",
       "1                -0.324675 ...    0   0    0    0    0    0    0    0    0   \n",
       "2                -0.324675 ...    0   1    0    0    0    0    0    0    0   \n",
       "3                -0.324675 ...    0   0    0    0    0    0    0    0    0   \n",
       "4                -0.324675 ...    0   0    0    0    0    0    0    1    0   \n",
       "\n",
       "   191  \n",
       "0    0  \n",
       "1    0  \n",
       "2    0  \n",
       "3    0  \n",
       "4    0  \n",
       "\n",
       "[5 rows x 42 columns]"
      ]
     },
     "execution_count": 373,
     "metadata": {},
     "output_type": "execute_result"
    }
   ],
   "source": [
    "#test_data_new = pd.read_csv(\"/Users/bojan/Documents/fraud_detection_model_CS/final_test.csv\")\n",
    "#test_data_new.head()"
   ]
  },
  {
   "cell_type": "code",
   "execution_count": 516,
   "metadata": {
    "collapsed": true
   },
   "outputs": [],
   "source": [
    "X_test_final = test_data_new.drop([\"Unnamed: 0\"], axis=1)"
   ]
  },
  {
   "cell_type": "code",
   "execution_count": 212,
   "metadata": {
    "collapsed": false
   },
   "outputs": [],
   "source": [
    "\n",
    "#submision_data = submision_data[submision_data['category'] == 0]\n",
    "#submision_data = submision_data[['customer']]\n"
   ]
  },
  {
   "cell_type": "code",
   "execution_count": 514,
   "metadata": {
    "collapsed": false
   },
   "outputs": [
    {
     "data": {
      "text/plain": [
       "800195"
      ]
     },
     "execution_count": 514,
     "metadata": {},
     "output_type": "execute_result"
    }
   ],
   "source": [
    "len(test_data)"
   ]
  },
  {
   "cell_type": "code",
   "execution_count": 517,
   "metadata": {
    "collapsed": false
   },
   "outputs": [
    {
     "data": {
      "text/html": [
       "<div>\n",
       "<style scoped>\n",
       "    .dataframe tbody tr th:only-of-type {\n",
       "        vertical-align: middle;\n",
       "    }\n",
       "\n",
       "    .dataframe tbody tr th {\n",
       "        vertical-align: top;\n",
       "    }\n",
       "\n",
       "    .dataframe thead th {\n",
       "        text-align: right;\n",
       "    }\n",
       "</style>\n",
       "<table border=\"1\" class=\"dataframe\">\n",
       "  <thead>\n",
       "    <tr style=\"text-align: right;\">\n",
       "      <th></th>\n",
       "      <th>turnover</th>\n",
       "      <th>transaction_count</th>\n",
       "      <th>io_ratio</th>\n",
       "      <th>age</th>\n",
       "      <th>is_pep</th>\n",
       "      <th>inactive_days_average</th>\n",
       "      <th>inactive_days_max</th>\n",
       "      <th>n_of_accounts</th>\n",
       "      <th>distinct_counterparties</th>\n",
       "      <th>channel_risk</th>\n",
       "      <th>...</th>\n",
       "      <th>66</th>\n",
       "      <th>94</th>\n",
       "      <th>113</th>\n",
       "      <th>117</th>\n",
       "      <th>123</th>\n",
       "      <th>134</th>\n",
       "      <th>141</th>\n",
       "      <th>172</th>\n",
       "      <th>176</th>\n",
       "      <th>191</th>\n",
       "    </tr>\n",
       "  </thead>\n",
       "  <tbody>\n",
       "    <tr>\n",
       "      <th>0</th>\n",
       "      <td>0.346167</td>\n",
       "      <td>-0.499481</td>\n",
       "      <td>0.00</td>\n",
       "      <td>1.023226</td>\n",
       "      <td>0</td>\n",
       "      <td>1.114928</td>\n",
       "      <td>-0.104507</td>\n",
       "      <td>0.002766</td>\n",
       "      <td>-0.324675</td>\n",
       "      <td>0.046108</td>\n",
       "      <td>...</td>\n",
       "      <td>0</td>\n",
       "      <td>0</td>\n",
       "      <td>0</td>\n",
       "      <td>0</td>\n",
       "      <td>0</td>\n",
       "      <td>0</td>\n",
       "      <td>0</td>\n",
       "      <td>0</td>\n",
       "      <td>0</td>\n",
       "      <td>0</td>\n",
       "    </tr>\n",
       "    <tr>\n",
       "      <th>1</th>\n",
       "      <td>-0.116793</td>\n",
       "      <td>-0.425476</td>\n",
       "      <td>0.25</td>\n",
       "      <td>-0.239474</td>\n",
       "      <td>0</td>\n",
       "      <td>-0.302564</td>\n",
       "      <td>-0.670445</td>\n",
       "      <td>0.002766</td>\n",
       "      <td>-0.324675</td>\n",
       "      <td>0.030105</td>\n",
       "      <td>...</td>\n",
       "      <td>0</td>\n",
       "      <td>0</td>\n",
       "      <td>0</td>\n",
       "      <td>0</td>\n",
       "      <td>0</td>\n",
       "      <td>0</td>\n",
       "      <td>0</td>\n",
       "      <td>0</td>\n",
       "      <td>0</td>\n",
       "      <td>0</td>\n",
       "    </tr>\n",
       "    <tr>\n",
       "      <th>2</th>\n",
       "      <td>-0.097363</td>\n",
       "      <td>-0.425476</td>\n",
       "      <td>0.50</td>\n",
       "      <td>-1.611974</td>\n",
       "      <td>0</td>\n",
       "      <td>-0.429327</td>\n",
       "      <td>-0.230271</td>\n",
       "      <td>0.002766</td>\n",
       "      <td>-0.324675</td>\n",
       "      <td>0.025249</td>\n",
       "      <td>...</td>\n",
       "      <td>0</td>\n",
       "      <td>1</td>\n",
       "      <td>0</td>\n",
       "      <td>0</td>\n",
       "      <td>0</td>\n",
       "      <td>0</td>\n",
       "      <td>0</td>\n",
       "      <td>0</td>\n",
       "      <td>0</td>\n",
       "      <td>0</td>\n",
       "    </tr>\n",
       "    <tr>\n",
       "      <th>3</th>\n",
       "      <td>-0.121385</td>\n",
       "      <td>-0.499481</td>\n",
       "      <td>0.00</td>\n",
       "      <td>0.035026</td>\n",
       "      <td>0</td>\n",
       "      <td>0.014813</td>\n",
       "      <td>-0.846514</td>\n",
       "      <td>0.002766</td>\n",
       "      <td>-0.324675</td>\n",
       "      <td>0.083395</td>\n",
       "      <td>...</td>\n",
       "      <td>0</td>\n",
       "      <td>0</td>\n",
       "      <td>0</td>\n",
       "      <td>0</td>\n",
       "      <td>0</td>\n",
       "      <td>0</td>\n",
       "      <td>0</td>\n",
       "      <td>0</td>\n",
       "      <td>0</td>\n",
       "      <td>0</td>\n",
       "    </tr>\n",
       "    <tr>\n",
       "      <th>4</th>\n",
       "      <td>-0.123628</td>\n",
       "      <td>-0.400808</td>\n",
       "      <td>0.00</td>\n",
       "      <td>1.956526</td>\n",
       "      <td>0</td>\n",
       "      <td>-0.354020</td>\n",
       "      <td>-0.029049</td>\n",
       "      <td>3.009381</td>\n",
       "      <td>-0.324675</td>\n",
       "      <td>0.162587</td>\n",
       "      <td>...</td>\n",
       "      <td>0</td>\n",
       "      <td>0</td>\n",
       "      <td>0</td>\n",
       "      <td>0</td>\n",
       "      <td>0</td>\n",
       "      <td>0</td>\n",
       "      <td>0</td>\n",
       "      <td>1</td>\n",
       "      <td>0</td>\n",
       "      <td>0</td>\n",
       "    </tr>\n",
       "  </tbody>\n",
       "</table>\n",
       "<p>5 rows × 41 columns</p>\n",
       "</div>"
      ],
      "text/plain": [
       "   turnover  transaction_count  io_ratio       age  is_pep  \\\n",
       "0  0.346167          -0.499481      0.00  1.023226       0   \n",
       "1 -0.116793          -0.425476      0.25 -0.239474       0   \n",
       "2 -0.097363          -0.425476      0.50 -1.611974       0   \n",
       "3 -0.121385          -0.499481      0.00  0.035026       0   \n",
       "4 -0.123628          -0.400808      0.00  1.956526       0   \n",
       "\n",
       "   inactive_days_average  inactive_days_max  n_of_accounts  \\\n",
       "0               1.114928          -0.104507       0.002766   \n",
       "1              -0.302564          -0.670445       0.002766   \n",
       "2              -0.429327          -0.230271       0.002766   \n",
       "3               0.014813          -0.846514       0.002766   \n",
       "4              -0.354020          -0.029049       3.009381   \n",
       "\n",
       "   distinct_counterparties  channel_risk ...   66  94  113  117  123  134  \\\n",
       "0                -0.324675      0.046108 ...    0   0    0    0    0    0   \n",
       "1                -0.324675      0.030105 ...    0   0    0    0    0    0   \n",
       "2                -0.324675      0.025249 ...    0   1    0    0    0    0   \n",
       "3                -0.324675      0.083395 ...    0   0    0    0    0    0   \n",
       "4                -0.324675      0.162587 ...    0   0    0    0    0    0   \n",
       "\n",
       "   141  172  176  191  \n",
       "0    0    0    0    0  \n",
       "1    0    0    0    0  \n",
       "2    0    0    0    0  \n",
       "3    0    0    0    0  \n",
       "4    0    1    0    0  \n",
       "\n",
       "[5 rows x 41 columns]"
      ]
     },
     "execution_count": 517,
     "metadata": {},
     "output_type": "execute_result"
    }
   ],
   "source": [
    "X_test_final.head()"
   ]
  },
  {
   "cell_type": "code",
   "execution_count": 518,
   "metadata": {
    "collapsed": false
   },
   "outputs": [
    {
     "data": {
      "text/plain": [
       "800195"
      ]
     },
     "execution_count": 518,
     "metadata": {},
     "output_type": "execute_result"
    }
   ],
   "source": [
    "len(X_test_final)"
   ]
  },
  {
   "cell_type": "code",
   "execution_count": 519,
   "metadata": {
    "collapsed": false
   },
   "outputs": [],
   "source": [
    "prd = clf.predict_proba(X_test_final)\n"
   ]
  },
  {
   "cell_type": "code",
   "execution_count": 522,
   "metadata": {
    "collapsed": false
   },
   "outputs": [],
   "source": [
    "pd.DataFrame(prd).to_csv('test_prob.csv')"
   ]
  },
  {
   "cell_type": "code",
   "execution_count": null,
   "metadata": {
    "collapsed": false
   },
   "outputs": [],
   "source": []
  },
  {
   "cell_type": "code",
   "execution_count": null,
   "metadata": {
    "collapsed": false
   },
   "outputs": [],
   "source": []
  },
  {
   "cell_type": "code",
   "execution_count": null,
   "metadata": {
    "collapsed": false
   },
   "outputs": [],
   "source": []
  },
  {
   "cell_type": "code",
   "execution_count": null,
   "metadata": {
    "collapsed": true
   },
   "outputs": [],
   "source": []
  }
 ],
 "metadata": {
  "kernelspec": {
   "display_name": "Python [conda env:anaconda]",
   "language": "python",
   "name": "conda-env-anaconda-py"
  },
  "language_info": {
   "codemirror_mode": {
    "name": "ipython",
    "version": 3
   },
   "file_extension": ".py",
   "mimetype": "text/x-python",
   "name": "python",
   "nbconvert_exporter": "python",
   "pygments_lexer": "ipython3",
   "version": "3.5.1"
  }
 },
 "nbformat": 4,
 "nbformat_minor": 2
}

{
 "cells": [
  {
   "cell_type": "markdown",
   "metadata": {},
   "source": [
    "## Import"
   ]
  },
  {
   "cell_type": "code",
   "execution_count": 523,
   "metadata": {
    "collapsed": true
   },
   "outputs": [],
   "source": [
    "import numpy as np\n",
    "import pandas as pd\n",
    "\n",
    "from sklearn import svm\n",
    "from sklearn.metrics import classification_report, confusion_matrix\n",
    "from sklearn.preprocessing import MinMaxScaler\n",
    "from sklearn.ensemble import RandomForestClassifier\n",
    "from sklearn.metrics import recall_score, precision_score"
   ]
  },
  {
   "cell_type": "markdown",
   "metadata": {},
   "source": [
    "## Load data"
   ]
  },
  {
   "cell_type": "code",
   "execution_count": 525,
   "metadata": {
    "collapsed": false
   },
   "outputs": [
    {
     "data": {
      "text/html": [
       "<div>\n",
       "<style scoped>\n",
       "    .dataframe tbody tr th:only-of-type {\n",
       "        vertical-align: middle;\n",
       "    }\n",
       "\n",
       "    .dataframe tbody tr th {\n",
       "        vertical-align: top;\n",
       "    }\n",
       "\n",
       "    .dataframe thead th {\n",
       "        text-align: right;\n",
       "    }\n",
       "</style>\n",
       "<table border=\"1\" class=\"dataframe\">\n",
       "  <thead>\n",
       "    <tr style=\"text-align: right;\">\n",
       "      <th></th>\n",
       "      <th>Unnamed: 0</th>\n",
       "      <th>category</th>\n",
       "      <th>suspicious</th>\n",
       "      <th>turnover</th>\n",
       "      <th>transaction_count</th>\n",
       "      <th>io_ratio</th>\n",
       "      <th>inactive_days_average</th>\n",
       "      <th>inactive_days_max</th>\n",
       "      <th>n_of_accounts</th>\n",
       "      <th>distinct_counterparties</th>\n",
       "      <th>...</th>\n",
       "      <th>50</th>\n",
       "      <th>66</th>\n",
       "      <th>94</th>\n",
       "      <th>113</th>\n",
       "      <th>123</th>\n",
       "      <th>134</th>\n",
       "      <th>141</th>\n",
       "      <th>172</th>\n",
       "      <th>176</th>\n",
       "      <th>191</th>\n",
       "    </tr>\n",
       "  </thead>\n",
       "  <tbody>\n",
       "    <tr>\n",
       "      <th>0</th>\n",
       "      <td>1</td>\n",
       "      <td>0</td>\n",
       "      <td>0</td>\n",
       "      <td>-0.117401</td>\n",
       "      <td>-0.469817</td>\n",
       "      <td>0.5</td>\n",
       "      <td>0.687737</td>\n",
       "      <td>-0.450931</td>\n",
       "      <td>0.996488</td>\n",
       "      <td>-0.321589</td>\n",
       "      <td>...</td>\n",
       "      <td>0</td>\n",
       "      <td>0</td>\n",
       "      <td>0</td>\n",
       "      <td>0</td>\n",
       "      <td>0</td>\n",
       "      <td>0</td>\n",
       "      <td>0</td>\n",
       "      <td>0</td>\n",
       "      <td>0</td>\n",
       "      <td>0</td>\n",
       "    </tr>\n",
       "    <tr>\n",
       "      <th>1</th>\n",
       "      <td>23</td>\n",
       "      <td>0</td>\n",
       "      <td>0</td>\n",
       "      <td>-0.117224</td>\n",
       "      <td>-0.486643</td>\n",
       "      <td>1.0</td>\n",
       "      <td>-0.036124</td>\n",
       "      <td>-0.385296</td>\n",
       "      <td>-0.002259</td>\n",
       "      <td>-0.321589</td>\n",
       "      <td>...</td>\n",
       "      <td>0</td>\n",
       "      <td>0</td>\n",
       "      <td>1</td>\n",
       "      <td>0</td>\n",
       "      <td>0</td>\n",
       "      <td>0</td>\n",
       "      <td>0</td>\n",
       "      <td>0</td>\n",
       "      <td>0</td>\n",
       "      <td>0</td>\n",
       "    </tr>\n",
       "    <tr>\n",
       "      <th>2</th>\n",
       "      <td>31</td>\n",
       "      <td>1</td>\n",
       "      <td>0</td>\n",
       "      <td>-0.113700</td>\n",
       "      <td>-0.486643</td>\n",
       "      <td>0.0</td>\n",
       "      <td>-0.580980</td>\n",
       "      <td>-1.304184</td>\n",
       "      <td>0.996488</td>\n",
       "      <td>-0.321589</td>\n",
       "      <td>...</td>\n",
       "      <td>0</td>\n",
       "      <td>0</td>\n",
       "      <td>0</td>\n",
       "      <td>0</td>\n",
       "      <td>0</td>\n",
       "      <td>0</td>\n",
       "      <td>0</td>\n",
       "      <td>1</td>\n",
       "      <td>0</td>\n",
       "      <td>0</td>\n",
       "    </tr>\n",
       "    <tr>\n",
       "      <th>3</th>\n",
       "      <td>32</td>\n",
       "      <td>1</td>\n",
       "      <td>0</td>\n",
       "      <td>0.005481</td>\n",
       "      <td>-0.469817</td>\n",
       "      <td>0.5</td>\n",
       "      <td>-0.211600</td>\n",
       "      <td>-0.201519</td>\n",
       "      <td>-0.002259</td>\n",
       "      <td>-0.321589</td>\n",
       "      <td>...</td>\n",
       "      <td>0</td>\n",
       "      <td>0</td>\n",
       "      <td>0</td>\n",
       "      <td>0</td>\n",
       "      <td>0</td>\n",
       "      <td>0</td>\n",
       "      <td>0</td>\n",
       "      <td>0</td>\n",
       "      <td>0</td>\n",
       "      <td>0</td>\n",
       "    </tr>\n",
       "    <tr>\n",
       "      <th>4</th>\n",
       "      <td>33</td>\n",
       "      <td>0</td>\n",
       "      <td>0</td>\n",
       "      <td>-0.119004</td>\n",
       "      <td>-0.469817</td>\n",
       "      <td>0.0</td>\n",
       "      <td>-0.418837</td>\n",
       "      <td>-0.897248</td>\n",
       "      <td>-1.001005</td>\n",
       "      <td>-0.321589</td>\n",
       "      <td>...</td>\n",
       "      <td>0</td>\n",
       "      <td>0</td>\n",
       "      <td>1</td>\n",
       "      <td>0</td>\n",
       "      <td>0</td>\n",
       "      <td>0</td>\n",
       "      <td>0</td>\n",
       "      <td>0</td>\n",
       "      <td>0</td>\n",
       "      <td>0</td>\n",
       "    </tr>\n",
       "  </tbody>\n",
       "</table>\n",
       "<p>5 rows × 36 columns</p>\n",
       "</div>"
      ],
      "text/plain": [
       "   Unnamed: 0  category  suspicious  turnover  transaction_count  io_ratio  \\\n",
       "0           1         0           0 -0.117401          -0.469817       0.5   \n",
       "1          23         0           0 -0.117224          -0.486643       1.0   \n",
       "2          31         1           0 -0.113700          -0.486643       0.0   \n",
       "3          32         1           0  0.005481          -0.469817       0.5   \n",
       "4          33         0           0 -0.119004          -0.469817       0.0   \n",
       "\n",
       "   inactive_days_average  inactive_days_max  n_of_accounts  \\\n",
       "0               0.687737          -0.450931       0.996488   \n",
       "1              -0.036124          -0.385296      -0.002259   \n",
       "2              -0.580980          -1.304184       0.996488   \n",
       "3              -0.211600          -0.201519      -0.002259   \n",
       "4              -0.418837          -0.897248      -1.001005   \n",
       "\n",
       "   distinct_counterparties ...   50  66  94  113  123  134  141  172  176  191  \n",
       "0                -0.321589 ...    0   0   0    0    0    0    0    0    0    0  \n",
       "1                -0.321589 ...    0   0   1    0    0    0    0    0    0    0  \n",
       "2                -0.321589 ...    0   0   0    0    0    0    0    1    0    0  \n",
       "3                -0.321589 ...    0   0   0    0    0    0    0    0    0    0  \n",
       "4                -0.321589 ...    0   0   1    0    0    0    0    0    0    0  \n",
       "\n",
       "[5 rows x 36 columns]"
      ]
     },
     "execution_count": 525,
     "metadata": {},
     "output_type": "execute_result"
    }
   ],
   "source": [
    "train_data = pd.read_csv(\"/Users/bojan/Downloads/final_train_companies.csv\")\n",
    "train_data.head()"
   ]
  },
  {
   "cell_type": "code",
   "execution_count": 526,
   "metadata": {
    "collapsed": true
   },
   "outputs": [],
   "source": [
    "train  = train_data"
   ]
  },
  {
   "cell_type": "markdown",
   "metadata": {},
   "source": [
    "## Split train/validation"
   ]
  },
  {
   "cell_type": "code",
   "execution_count": 432,
   "metadata": {
    "collapsed": false
   },
   "outputs": [],
   "source": [
    "#msk = np.random.rand(len(train_data)) < 0.8\n",
    "#train = train_data[msk]\n",
    "#test = train_data[~msk]"
   ]
  },
  {
   "cell_type": "code",
   "execution_count": 486,
   "metadata": {
    "collapsed": false
   },
   "outputs": [],
   "source": [
    "#for i in range(1):\n",
    "#    ovrsmpl = train[train['suspicious'] == 1]\n",
    "#    train = pd.concat([train,ovrsmpl], axis=0)"
   ]
  },
  {
   "cell_type": "code",
   "execution_count": 494,
   "metadata": {
    "collapsed": false
   },
   "outputs": [
    {
     "data": {
      "text/plain": [
       "640110"
      ]
     },
     "execution_count": 494,
     "metadata": {},
     "output_type": "execute_result"
    }
   ],
   "source": [
    "len(train)"
   ]
  },
  {
   "cell_type": "code",
   "execution_count": 527,
   "metadata": {
    "collapsed": false
   },
   "outputs": [],
   "source": [
    "X_train = train.drop([\"Unnamed: 0\", \"suspicious\"], axis=1)\n",
    "y_train = train[\"suspicious\"]\n",
    "\n"
   ]
  },
  {
   "cell_type": "code",
   "execution_count": 489,
   "metadata": {
    "collapsed": false
   },
   "outputs": [
    {
     "data": {
      "text/html": [
       "<div>\n",
       "<style scoped>\n",
       "    .dataframe tbody tr th:only-of-type {\n",
       "        vertical-align: middle;\n",
       "    }\n",
       "\n",
       "    .dataframe tbody tr th {\n",
       "        vertical-align: top;\n",
       "    }\n",
       "\n",
       "    .dataframe thead th {\n",
       "        text-align: right;\n",
       "    }\n",
       "</style>\n",
       "<table border=\"1\" class=\"dataframe\">\n",
       "  <thead>\n",
       "    <tr style=\"text-align: right;\">\n",
       "      <th></th>\n",
       "      <th>Unnamed: 0</th>\n",
       "      <th>suspicious</th>\n",
       "      <th>turnover</th>\n",
       "      <th>transaction_count</th>\n",
       "      <th>io_ratio</th>\n",
       "      <th>age</th>\n",
       "      <th>is_pep</th>\n",
       "      <th>inactive_days_average</th>\n",
       "      <th>inactive_days_max</th>\n",
       "      <th>n_of_accounts</th>\n",
       "      <th>...</th>\n",
       "      <th>distinct_counterparties_log</th>\n",
       "      <th>transaction_in</th>\n",
       "      <th>transaction_out</th>\n",
       "      <th>transaction_in_log</th>\n",
       "      <th>transaction_out_log</th>\n",
       "      <th>transaction_count_log</th>\n",
       "      <th>0</th>\n",
       "      <th>1</th>\n",
       "      <th>2</th>\n",
       "      <th>3</th>\n",
       "    </tr>\n",
       "  </thead>\n",
       "  <tbody>\n",
       "    <tr>\n",
       "      <th>0</th>\n",
       "      <td>17</td>\n",
       "      <td>0</td>\n",
       "      <td>0.258922</td>\n",
       "      <td>-0.499660</td>\n",
       "      <td>1.000000</td>\n",
       "      <td>1.078080</td>\n",
       "      <td>0</td>\n",
       "      <td>0.757848</td>\n",
       "      <td>0.749150</td>\n",
       "      <td>1.005063</td>\n",
       "      <td>...</td>\n",
       "      <td>-0.615425</td>\n",
       "      <td>-0.432306</td>\n",
       "      <td>-0.524477</td>\n",
       "      <td>-0.721217</td>\n",
       "      <td>-0.888673</td>\n",
       "      <td>-0.996894</td>\n",
       "      <td>0</td>\n",
       "      <td>0</td>\n",
       "      <td>1</td>\n",
       "      <td>0</td>\n",
       "    </tr>\n",
       "    <tr>\n",
       "      <th>1</th>\n",
       "      <td>21</td>\n",
       "      <td>0</td>\n",
       "      <td>-0.116272</td>\n",
       "      <td>-0.005861</td>\n",
       "      <td>0.190476</td>\n",
       "      <td>1.462322</td>\n",
       "      <td>0</td>\n",
       "      <td>-0.740466</td>\n",
       "      <td>-0.293059</td>\n",
       "      <td>-0.998796</td>\n",
       "      <td>...</td>\n",
       "      <td>0.024637</td>\n",
       "      <td>-0.192152</td>\n",
       "      <td>0.076460</td>\n",
       "      <td>0.373006</td>\n",
       "      <td>0.928479</td>\n",
       "      <td>0.849211</td>\n",
       "      <td>0</td>\n",
       "      <td>0</td>\n",
       "      <td>1</td>\n",
       "      <td>0</td>\n",
       "    </tr>\n",
       "    <tr>\n",
       "      <th>2</th>\n",
       "      <td>25</td>\n",
       "      <td>0</td>\n",
       "      <td>-0.059747</td>\n",
       "      <td>5.154346</td>\n",
       "      <td>0.282609</td>\n",
       "      <td>-0.678453</td>\n",
       "      <td>0</td>\n",
       "      <td>-0.865404</td>\n",
       "      <td>-0.142378</td>\n",
       "      <td>0.003134</td>\n",
       "      <td>...</td>\n",
       "      <td>3.101643</td>\n",
       "      <td>4.690994</td>\n",
       "      <td>5.308143</td>\n",
       "      <td>2.573691</td>\n",
       "      <td>2.386152</td>\n",
       "      <td>2.300590</td>\n",
       "      <td>0</td>\n",
       "      <td>1</td>\n",
       "      <td>0</td>\n",
       "      <td>0</td>\n",
       "    </tr>\n",
       "    <tr>\n",
       "      <th>3</th>\n",
       "      <td>28</td>\n",
       "      <td>0</td>\n",
       "      <td>-0.115467</td>\n",
       "      <td>-0.474970</td>\n",
       "      <td>0.000000</td>\n",
       "      <td>1.352539</td>\n",
       "      <td>0</td>\n",
       "      <td>1.525107</td>\n",
       "      <td>1.778803</td>\n",
       "      <td>-0.998796</td>\n",
       "      <td>...</td>\n",
       "      <td>-0.615425</td>\n",
       "      <td>-0.512358</td>\n",
       "      <td>-0.453778</td>\n",
       "      <td>-0.721217</td>\n",
       "      <td>-0.444106</td>\n",
       "      <td>-0.576591</td>\n",
       "      <td>0</td>\n",
       "      <td>0</td>\n",
       "      <td>1</td>\n",
       "      <td>0</td>\n",
       "    </tr>\n",
       "    <tr>\n",
       "      <th>4</th>\n",
       "      <td>34</td>\n",
       "      <td>0</td>\n",
       "      <td>-0.087982</td>\n",
       "      <td>-0.474970</td>\n",
       "      <td>0.000000</td>\n",
       "      <td>0.364489</td>\n",
       "      <td>0</td>\n",
       "      <td>0.384911</td>\n",
       "      <td>0.259438</td>\n",
       "      <td>-0.998796</td>\n",
       "      <td>...</td>\n",
       "      <td>-0.615425</td>\n",
       "      <td>-0.512358</td>\n",
       "      <td>-0.453778</td>\n",
       "      <td>-0.721217</td>\n",
       "      <td>-0.444106</td>\n",
       "      <td>-0.576591</td>\n",
       "      <td>0</td>\n",
       "      <td>0</td>\n",
       "      <td>1</td>\n",
       "      <td>0</td>\n",
       "    </tr>\n",
       "  </tbody>\n",
       "</table>\n",
       "<p>5 rows × 43 columns</p>\n",
       "</div>"
      ],
      "text/plain": [
       "   Unnamed: 0  suspicious  turnover  transaction_count  io_ratio       age  \\\n",
       "0          17           0  0.258922          -0.499660  1.000000  1.078080   \n",
       "1          21           0 -0.116272          -0.005861  0.190476  1.462322   \n",
       "2          25           0 -0.059747           5.154346  0.282609 -0.678453   \n",
       "3          28           0 -0.115467          -0.474970  0.000000  1.352539   \n",
       "4          34           0 -0.087982          -0.474970  0.000000  0.364489   \n",
       "\n",
       "   is_pep  inactive_days_average  inactive_days_max  n_of_accounts ...  \\\n",
       "0       0               0.757848           0.749150       1.005063 ...   \n",
       "1       0              -0.740466          -0.293059      -0.998796 ...   \n",
       "2       0              -0.865404          -0.142378       0.003134 ...   \n",
       "3       0               1.525107           1.778803      -0.998796 ...   \n",
       "4       0               0.384911           0.259438      -0.998796 ...   \n",
       "\n",
       "   distinct_counterparties_log  transaction_in  transaction_out  \\\n",
       "0                    -0.615425       -0.432306        -0.524477   \n",
       "1                     0.024637       -0.192152         0.076460   \n",
       "2                     3.101643        4.690994         5.308143   \n",
       "3                    -0.615425       -0.512358        -0.453778   \n",
       "4                    -0.615425       -0.512358        -0.453778   \n",
       "\n",
       "   transaction_in_log  transaction_out_log  transaction_count_log  0  1  2  3  \n",
       "0           -0.721217            -0.888673              -0.996894  0  0  1  0  \n",
       "1            0.373006             0.928479               0.849211  0  0  1  0  \n",
       "2            2.573691             2.386152               2.300590  0  1  0  0  \n",
       "3           -0.721217            -0.444106              -0.576591  0  0  1  0  \n",
       "4           -0.721217            -0.444106              -0.576591  0  0  1  0  \n",
       "\n",
       "[5 rows x 43 columns]"
      ]
     },
     "execution_count": 489,
     "metadata": {},
     "output_type": "execute_result"
    }
   ],
   "source": [
    "#test = pd.read_csv(\"/Users/bojan/Downloads/people_validate.csv\")\n",
    "#test.head()"
   ]
  },
  {
   "cell_type": "code",
   "execution_count": 490,
   "metadata": {
    "collapsed": true
   },
   "outputs": [],
   "source": [
    "#X_test = test.drop([\"Unnamed: 0\", \"suspicious\"], axis=1)\n",
    "#y_test = test[\"suspicious\"]"
   ]
  },
  {
   "cell_type": "code",
   "execution_count": null,
   "metadata": {
    "collapsed": false
   },
   "outputs": [],
   "source": []
  },
  {
   "cell_type": "code",
   "execution_count": 435,
   "metadata": {
    "collapsed": true
   },
   "outputs": [],
   "source": []
  },
  {
   "cell_type": "markdown",
   "metadata": {},
   "source": [
    "## Define the SVM model"
   ]
  },
  {
   "cell_type": "code",
   "execution_count": 436,
   "metadata": {
    "collapsed": false
   },
   "outputs": [],
   "source": [
    "#scaling = MinMaxScaler(feature_range=(-1,1)).fit(X_train)"
   ]
  },
  {
   "cell_type": "code",
   "execution_count": 437,
   "metadata": {
    "collapsed": false
   },
   "outputs": [],
   "source": [
    "#X_train = scaling.transform(X_train)\n",
    "#X_test = scaling.transform(X_test)"
   ]
  },
  {
   "cell_type": "code",
   "execution_count": 528,
   "metadata": {
    "collapsed": false
   },
   "outputs": [],
   "source": [
    "clf = RandomForestClassifier(n_estimators=100, max_depth=25, min_samples_split=500, class_weight={1:60})"
   ]
  },
  {
   "cell_type": "code",
   "execution_count": 529,
   "metadata": {
    "collapsed": false
   },
   "outputs": [
    {
     "data": {
      "text/plain": [
       "RandomForestClassifier(bootstrap=True, class_weight={1: 60}, criterion='gini',\n",
       "            max_depth=25, max_features='auto', max_leaf_nodes=None,\n",
       "            min_impurity_decrease=0.0, min_impurity_split=None,\n",
       "            min_samples_leaf=1, min_samples_split=500,\n",
       "            min_weight_fraction_leaf=0.0, n_estimators=100, n_jobs=1,\n",
       "            oob_score=False, random_state=None, verbose=0,\n",
       "            warm_start=False)"
      ]
     },
     "execution_count": 529,
     "metadata": {},
     "output_type": "execute_result"
    }
   ],
   "source": [
    "clf.fit(X_train, y_train)"
   ]
  },
  {
   "cell_type": "code",
   "execution_count": 530,
   "metadata": {
    "collapsed": false
   },
   "outputs": [
    {
     "data": {
      "text/plain": [
       "array([6.24773320e-03, 5.89884989e-02, 2.81413360e-02, 1.26101789e-01,\n",
       "       5.91509002e-02, 4.39641952e-02, 1.32762579e-02, 1.29359668e-02,\n",
       "       7.33163037e-02, 6.06273073e-02, 3.97269000e-02, 7.13857846e-02,\n",
       "       7.97126508e-02, 4.81176037e-02, 1.43223077e-02, 3.94285184e-02,\n",
       "       2.57396581e-02, 3.50462650e-02, 2.20736309e-02, 2.70338632e-02,\n",
       "       8.25051976e-03, 3.52580729e-03, 5.52855338e-03, 2.32696222e-03,\n",
       "       9.46464453e-03, 3.62201135e-04, 4.72964383e-03, 3.35297104e-03,\n",
       "       1.44553518e-02, 2.89574728e-02, 1.00240983e-02, 6.17622228e-03,\n",
       "       2.49749371e-08, 1.75080562e-02])"
      ]
     },
     "execution_count": 530,
     "metadata": {},
     "output_type": "execute_result"
    }
   ],
   "source": [
    "clf.feature_importances_"
   ]
  },
  {
   "cell_type": "code",
   "execution_count": null,
   "metadata": {
    "collapsed": false
   },
   "outputs": [],
   "source": []
  },
  {
   "cell_type": "code",
   "execution_count": 531,
   "metadata": {
    "collapsed": false
   },
   "outputs": [
    {
     "data": {
      "text/plain": [
       "199854"
      ]
     },
     "execution_count": 531,
     "metadata": {},
     "output_type": "execute_result"
    }
   ],
   "source": [
    "len(X_train)"
   ]
  },
  {
   "cell_type": "code",
   "execution_count": 476,
   "metadata": {
    "collapsed": false
   },
   "outputs": [],
   "source": [
    "#classifier = svm.SVC(C=1.0, kernel='linear', class_weight='balanced')\n",
    "#classifier.fit(X_train, y_train)"
   ]
  },
  {
   "cell_type": "code",
   "execution_count": 499,
   "metadata": {
    "collapsed": false
   },
   "outputs": [
    {
     "name": "stdout",
     "output_type": "stream",
     "text": [
      "[[148354  10005]\n",
      " [   780    897]]\n",
      "             precision    recall  f1-score   support\n",
      "\n",
      "          0       0.99      0.94      0.96    158359\n",
      "          1       0.08      0.53      0.14      1677\n",
      "\n",
      "avg / total       0.99      0.93      0.96    160036\n",
      "\n"
     ]
    }
   ],
   "source": [
    "y_pred = clf.predict(X_test)\n",
    "print(confusion_matrix(y_test,y_pred))  \n",
    "print(classification_report(y_test,y_pred)) "
   ]
  },
  {
   "cell_type": "code",
   "execution_count": 503,
   "metadata": {
    "collapsed": false
   },
   "outputs": [],
   "source": [
    "y_pred_proba = clf.predict_proba(X_test)"
   ]
  },
  {
   "cell_type": "code",
   "execution_count": 511,
   "metadata": {
    "collapsed": false
   },
   "outputs": [],
   "source": [
    "pd.DataFrame(y_pred_proba).to_csv('validation_prob.csv')"
   ]
  },
  {
   "cell_type": "code",
   "execution_count": 478,
   "metadata": {
    "collapsed": false
   },
   "outputs": [
    {
     "data": {
      "text/plain": [
       "20998"
      ]
     },
     "execution_count": 478,
     "metadata": {},
     "output_type": "execute_result"
    }
   ],
   "source": [
    "sum(y_pred)"
   ]
  },
  {
   "cell_type": "code",
   "execution_count": 479,
   "metadata": {
    "collapsed": false
   },
   "outputs": [
    {
     "data": {
      "text/plain": [
       "0.6528528528528529"
      ]
     },
     "execution_count": 479,
     "metadata": {},
     "output_type": "execute_result"
    }
   ],
   "source": [
    "recall_score(y_test,y_pred)"
   ]
  },
  {
   "cell_type": "code",
   "execution_count": 480,
   "metadata": {
    "collapsed": false
   },
   "outputs": [
    {
     "data": {
      "text/plain": [
       "0.051766834936660636"
      ]
     },
     "execution_count": 480,
     "metadata": {},
     "output_type": "execute_result"
    }
   ],
   "source": [
    "precision_score(y_test,y_pred)"
   ]
  },
  {
   "cell_type": "code",
   "execution_count": 532,
   "metadata": {
    "collapsed": false
   },
   "outputs": [],
   "source": [
    "test_data = pd.read_csv(\"/Users/bojan/Downloads/final_test_companies.csv\")\n",
    "test_data.head()\n",
    "X_test_final = test_data.drop([\"Unnamed: 0\"], axis=1)"
   ]
  },
  {
   "cell_type": "code",
   "execution_count": 533,
   "metadata": {
    "collapsed": false
   },
   "outputs": [
    {
     "data": {
      "text/html": [
       "<div>\n",
       "<style scoped>\n",
       "    .dataframe tbody tr th:only-of-type {\n",
       "        vertical-align: middle;\n",
       "    }\n",
       "\n",
       "    .dataframe tbody tr th {\n",
       "        vertical-align: top;\n",
       "    }\n",
       "\n",
       "    .dataframe thead th {\n",
       "        text-align: right;\n",
       "    }\n",
       "</style>\n",
       "<table border=\"1\" class=\"dataframe\">\n",
       "  <thead>\n",
       "    <tr style=\"text-align: right;\">\n",
       "      <th></th>\n",
       "      <th>category</th>\n",
       "      <th>turnover</th>\n",
       "      <th>transaction_count</th>\n",
       "      <th>io_ratio</th>\n",
       "      <th>inactive_days_average</th>\n",
       "      <th>inactive_days_max</th>\n",
       "      <th>n_of_accounts</th>\n",
       "      <th>distinct_counterparties</th>\n",
       "      <th>channel_risk</th>\n",
       "      <th>atm_withdrawal</th>\n",
       "      <th>...</th>\n",
       "      <th>50</th>\n",
       "      <th>66</th>\n",
       "      <th>94</th>\n",
       "      <th>113</th>\n",
       "      <th>123</th>\n",
       "      <th>134</th>\n",
       "      <th>141</th>\n",
       "      <th>172</th>\n",
       "      <th>176</th>\n",
       "      <th>191</th>\n",
       "    </tr>\n",
       "  </thead>\n",
       "  <tbody>\n",
       "    <tr>\n",
       "      <th>0</th>\n",
       "      <td>0</td>\n",
       "      <td>-0.118999</td>\n",
       "      <td>-0.452992</td>\n",
       "      <td>0.000000</td>\n",
       "      <td>0.507164</td>\n",
       "      <td>0.336686</td>\n",
       "      <td>-1.001005</td>\n",
       "      <td>-0.321589</td>\n",
       "      <td>0.414826</td>\n",
       "      <td>-0.032346</td>\n",
       "      <td>...</td>\n",
       "      <td>0</td>\n",
       "      <td>0</td>\n",
       "      <td>0</td>\n",
       "      <td>0</td>\n",
       "      <td>0</td>\n",
       "      <td>0</td>\n",
       "      <td>0</td>\n",
       "      <td>1</td>\n",
       "      <td>0</td>\n",
       "      <td>0</td>\n",
       "    </tr>\n",
       "    <tr>\n",
       "      <th>1</th>\n",
       "      <td>0</td>\n",
       "      <td>-0.119041</td>\n",
       "      <td>-0.486643</td>\n",
       "      <td>1.000000</td>\n",
       "      <td>0.594216</td>\n",
       "      <td>0.454829</td>\n",
       "      <td>-1.001005</td>\n",
       "      <td>-0.321589</td>\n",
       "      <td>0.504659</td>\n",
       "      <td>-0.032550</td>\n",
       "      <td>...</td>\n",
       "      <td>0</td>\n",
       "      <td>0</td>\n",
       "      <td>1</td>\n",
       "      <td>0</td>\n",
       "      <td>0</td>\n",
       "      <td>0</td>\n",
       "      <td>0</td>\n",
       "      <td>0</td>\n",
       "      <td>0</td>\n",
       "      <td>0</td>\n",
       "    </tr>\n",
       "    <tr>\n",
       "      <th>2</th>\n",
       "      <td>0</td>\n",
       "      <td>-0.079890</td>\n",
       "      <td>0.438739</td>\n",
       "      <td>0.410714</td>\n",
       "      <td>-0.799982</td>\n",
       "      <td>-0.595328</td>\n",
       "      <td>0.996488</td>\n",
       "      <td>-0.263997</td>\n",
       "      <td>0.414352</td>\n",
       "      <td>-0.032513</td>\n",
       "      <td>...</td>\n",
       "      <td>0</td>\n",
       "      <td>0</td>\n",
       "      <td>0</td>\n",
       "      <td>0</td>\n",
       "      <td>0</td>\n",
       "      <td>0</td>\n",
       "      <td>0</td>\n",
       "      <td>0</td>\n",
       "      <td>0</td>\n",
       "      <td>0</td>\n",
       "    </tr>\n",
       "    <tr>\n",
       "      <th>3</th>\n",
       "      <td>0</td>\n",
       "      <td>-0.106234</td>\n",
       "      <td>-0.352042</td>\n",
       "      <td>0.333333</td>\n",
       "      <td>-0.575883</td>\n",
       "      <td>-0.004615</td>\n",
       "      <td>0.996488</td>\n",
       "      <td>-0.321589</td>\n",
       "      <td>0.754793</td>\n",
       "      <td>-0.032445</td>\n",
       "      <td>...</td>\n",
       "      <td>0</td>\n",
       "      <td>0</td>\n",
       "      <td>0</td>\n",
       "      <td>0</td>\n",
       "      <td>0</td>\n",
       "      <td>0</td>\n",
       "      <td>0</td>\n",
       "      <td>0</td>\n",
       "      <td>0</td>\n",
       "      <td>0</td>\n",
       "    </tr>\n",
       "    <tr>\n",
       "      <th>4</th>\n",
       "      <td>0</td>\n",
       "      <td>-0.105683</td>\n",
       "      <td>0.253663</td>\n",
       "      <td>0.377778</td>\n",
       "      <td>-0.772729</td>\n",
       "      <td>-0.319662</td>\n",
       "      <td>-0.002259</td>\n",
       "      <td>0.715062</td>\n",
       "      <td>0.593112</td>\n",
       "      <td>-0.032564</td>\n",
       "      <td>...</td>\n",
       "      <td>0</td>\n",
       "      <td>0</td>\n",
       "      <td>1</td>\n",
       "      <td>0</td>\n",
       "      <td>0</td>\n",
       "      <td>0</td>\n",
       "      <td>0</td>\n",
       "      <td>0</td>\n",
       "      <td>0</td>\n",
       "      <td>0</td>\n",
       "    </tr>\n",
       "  </tbody>\n",
       "</table>\n",
       "<p>5 rows × 34 columns</p>\n",
       "</div>"
      ],
      "text/plain": [
       "   category  turnover  transaction_count  io_ratio  inactive_days_average  \\\n",
       "0         0 -0.118999          -0.452992  0.000000               0.507164   \n",
       "1         0 -0.119041          -0.486643  1.000000               0.594216   \n",
       "2         0 -0.079890           0.438739  0.410714              -0.799982   \n",
       "3         0 -0.106234          -0.352042  0.333333              -0.575883   \n",
       "4         0 -0.105683           0.253663  0.377778              -0.772729   \n",
       "\n",
       "   inactive_days_max  n_of_accounts  distinct_counterparties  channel_risk  \\\n",
       "0           0.336686      -1.001005                -0.321589      0.414826   \n",
       "1           0.454829      -1.001005                -0.321589      0.504659   \n",
       "2          -0.595328       0.996488                -0.263997      0.414352   \n",
       "3          -0.004615       0.996488                -0.321589      0.754793   \n",
       "4          -0.319662      -0.002259                 0.715062      0.593112   \n",
       "\n",
       "   atm_withdrawal ...   50  66  94  113  123  134  141  172  176  191  \n",
       "0       -0.032346 ...    0   0   0    0    0    0    0    1    0    0  \n",
       "1       -0.032550 ...    0   0   1    0    0    0    0    0    0    0  \n",
       "2       -0.032513 ...    0   0   0    0    0    0    0    0    0    0  \n",
       "3       -0.032445 ...    0   0   0    0    0    0    0    0    0    0  \n",
       "4       -0.032564 ...    0   0   1    0    0    0    0    0    0    0  \n",
       "\n",
       "[5 rows x 34 columns]"
      ]
     },
     "execution_count": 533,
     "metadata": {},
     "output_type": "execute_result"
    }
   ],
   "source": [
    "X_test_final.head()"
   ]
  },
  {
   "cell_type": "code",
   "execution_count": 373,
   "metadata": {
    "collapsed": false
   },
   "outputs": [
    {
     "data": {
      "text/html": [
       "<div>\n",
       "<style scoped>\n",
       "    .dataframe tbody tr th:only-of-type {\n",
       "        vertical-align: middle;\n",
       "    }\n",
       "\n",
       "    .dataframe tbody tr th {\n",
       "        vertical-align: top;\n",
       "    }\n",
       "\n",
       "    .dataframe thead th {\n",
       "        text-align: right;\n",
       "    }\n",
       "</style>\n",
       "<table border=\"1\" class=\"dataframe\">\n",
       "  <thead>\n",
       "    <tr style=\"text-align: right;\">\n",
       "      <th></th>\n",
       "      <th>Unnamed: 0</th>\n",
       "      <th>turnover</th>\n",
       "      <th>transaction_count</th>\n",
       "      <th>io_ratio</th>\n",
       "      <th>age</th>\n",
       "      <th>is_pep</th>\n",
       "      <th>inactive_days_average</th>\n",
       "      <th>inactive_days_max</th>\n",
       "      <th>n_of_accounts</th>\n",
       "      <th>distinct_counterparties</th>\n",
       "      <th>...</th>\n",
       "      <th>66</th>\n",
       "      <th>94</th>\n",
       "      <th>113</th>\n",
       "      <th>117</th>\n",
       "      <th>123</th>\n",
       "      <th>134</th>\n",
       "      <th>141</th>\n",
       "      <th>172</th>\n",
       "      <th>176</th>\n",
       "      <th>191</th>\n",
       "    </tr>\n",
       "  </thead>\n",
       "  <tbody>\n",
       "    <tr>\n",
       "      <th>0</th>\n",
       "      <td>0</td>\n",
       "      <td>0.346167</td>\n",
       "      <td>-0.499481</td>\n",
       "      <td>0.00</td>\n",
       "      <td>1.023226</td>\n",
       "      <td>0</td>\n",
       "      <td>1.114928</td>\n",
       "      <td>-0.104507</td>\n",
       "      <td>0.002766</td>\n",
       "      <td>-0.324675</td>\n",
       "      <td>...</td>\n",
       "      <td>0</td>\n",
       "      <td>0</td>\n",
       "      <td>0</td>\n",
       "      <td>0</td>\n",
       "      <td>0</td>\n",
       "      <td>0</td>\n",
       "      <td>0</td>\n",
       "      <td>0</td>\n",
       "      <td>0</td>\n",
       "      <td>0</td>\n",
       "    </tr>\n",
       "    <tr>\n",
       "      <th>1</th>\n",
       "      <td>2</td>\n",
       "      <td>-0.116793</td>\n",
       "      <td>-0.425476</td>\n",
       "      <td>0.25</td>\n",
       "      <td>-0.239474</td>\n",
       "      <td>0</td>\n",
       "      <td>-0.302564</td>\n",
       "      <td>-0.670445</td>\n",
       "      <td>0.002766</td>\n",
       "      <td>-0.324675</td>\n",
       "      <td>...</td>\n",
       "      <td>0</td>\n",
       "      <td>0</td>\n",
       "      <td>0</td>\n",
       "      <td>0</td>\n",
       "      <td>0</td>\n",
       "      <td>0</td>\n",
       "      <td>0</td>\n",
       "      <td>0</td>\n",
       "      <td>0</td>\n",
       "      <td>0</td>\n",
       "    </tr>\n",
       "    <tr>\n",
       "      <th>2</th>\n",
       "      <td>3</td>\n",
       "      <td>-0.097363</td>\n",
       "      <td>-0.425476</td>\n",
       "      <td>0.50</td>\n",
       "      <td>-1.611974</td>\n",
       "      <td>0</td>\n",
       "      <td>-0.429327</td>\n",
       "      <td>-0.230271</td>\n",
       "      <td>0.002766</td>\n",
       "      <td>-0.324675</td>\n",
       "      <td>...</td>\n",
       "      <td>0</td>\n",
       "      <td>1</td>\n",
       "      <td>0</td>\n",
       "      <td>0</td>\n",
       "      <td>0</td>\n",
       "      <td>0</td>\n",
       "      <td>0</td>\n",
       "      <td>0</td>\n",
       "      <td>0</td>\n",
       "      <td>0</td>\n",
       "    </tr>\n",
       "    <tr>\n",
       "      <th>3</th>\n",
       "      <td>4</td>\n",
       "      <td>-0.121385</td>\n",
       "      <td>-0.499481</td>\n",
       "      <td>0.00</td>\n",
       "      <td>0.035026</td>\n",
       "      <td>0</td>\n",
       "      <td>0.014813</td>\n",
       "      <td>-0.846514</td>\n",
       "      <td>0.002766</td>\n",
       "      <td>-0.324675</td>\n",
       "      <td>...</td>\n",
       "      <td>0</td>\n",
       "      <td>0</td>\n",
       "      <td>0</td>\n",
       "      <td>0</td>\n",
       "      <td>0</td>\n",
       "      <td>0</td>\n",
       "      <td>0</td>\n",
       "      <td>0</td>\n",
       "      <td>0</td>\n",
       "      <td>0</td>\n",
       "    </tr>\n",
       "    <tr>\n",
       "      <th>4</th>\n",
       "      <td>5</td>\n",
       "      <td>-0.123628</td>\n",
       "      <td>-0.400808</td>\n",
       "      <td>0.00</td>\n",
       "      <td>1.956526</td>\n",
       "      <td>0</td>\n",
       "      <td>-0.354020</td>\n",
       "      <td>-0.029049</td>\n",
       "      <td>3.009381</td>\n",
       "      <td>-0.324675</td>\n",
       "      <td>...</td>\n",
       "      <td>0</td>\n",
       "      <td>0</td>\n",
       "      <td>0</td>\n",
       "      <td>0</td>\n",
       "      <td>0</td>\n",
       "      <td>0</td>\n",
       "      <td>0</td>\n",
       "      <td>1</td>\n",
       "      <td>0</td>\n",
       "      <td>0</td>\n",
       "    </tr>\n",
       "  </tbody>\n",
       "</table>\n",
       "<p>5 rows × 42 columns</p>\n",
       "</div>"
      ],
      "text/plain": [
       "   Unnamed: 0  turnover  transaction_count  io_ratio       age  is_pep  \\\n",
       "0           0  0.346167          -0.499481      0.00  1.023226       0   \n",
       "1           2 -0.116793          -0.425476      0.25 -0.239474       0   \n",
       "2           3 -0.097363          -0.425476      0.50 -1.611974       0   \n",
       "3           4 -0.121385          -0.499481      0.00  0.035026       0   \n",
       "4           5 -0.123628          -0.400808      0.00  1.956526       0   \n",
       "\n",
       "   inactive_days_average  inactive_days_max  n_of_accounts  \\\n",
       "0               1.114928          -0.104507       0.002766   \n",
       "1              -0.302564          -0.670445       0.002766   \n",
       "2              -0.429327          -0.230271       0.002766   \n",
       "3               0.014813          -0.846514       0.002766   \n",
       "4              -0.354020          -0.029049       3.009381   \n",
       "\n",
       "   distinct_counterparties ...   66  94  113  117  123  134  141  172  176  \\\n",
       "0                -0.324675 ...    0   0    0    0    0    0    0    0    0   \n",
       "1                -0.324675 ...    0   0    0    0    0    0    0    0    0   \n",
       "2                -0.324675 ...    0   1    0    0    0    0    0    0    0   \n",
       "3                -0.324675 ...    0   0    0    0    0    0    0    0    0   \n",
       "4                -0.324675 ...    0   0    0    0    0    0    0    1    0   \n",
       "\n",
       "   191  \n",
       "0    0  \n",
       "1    0  \n",
       "2    0  \n",
       "3    0  \n",
       "4    0  \n",
       "\n",
       "[5 rows x 42 columns]"
      ]
     },
     "execution_count": 373,
     "metadata": {},
     "output_type": "execute_result"
    }
   ],
   "source": [
    "#test_data_new = pd.read_csv(\"/Users/bojan/Documents/fraud_detection_model_CS/final_test.csv\")\n",
    "#test_data_new.head()"
   ]
  },
  {
   "cell_type": "code",
   "execution_count": 516,
   "metadata": {
    "collapsed": true
   },
   "outputs": [],
   "source": [
    "X_test_final = test_data_new.drop([\"Unnamed: 0\"], axis=1)"
   ]
  },
  {
   "cell_type": "code",
   "execution_count": 212,
   "metadata": {
    "collapsed": false
   },
   "outputs": [],
   "source": [
    "\n",
    "#submision_data = submision_data[submision_data['category'] == 0]\n",
    "#submision_data = submision_data[['customer']]\n"
   ]
  },
  {
   "cell_type": "code",
   "execution_count": 534,
   "metadata": {
    "collapsed": false
   },
   "outputs": [
    {
     "data": {
      "text/plain": [
       "199805"
      ]
     },
     "execution_count": 534,
     "metadata": {},
     "output_type": "execute_result"
    }
   ],
   "source": [
    "len(X_test_final)"
   ]
  },
  {
   "cell_type": "code",
   "execution_count": 517,
   "metadata": {
    "collapsed": false
   },
   "outputs": [
    {
     "data": {
      "text/html": [
       "<div>\n",
       "<style scoped>\n",
       "    .dataframe tbody tr th:only-of-type {\n",
       "        vertical-align: middle;\n",
       "    }\n",
       "\n",
       "    .dataframe tbody tr th {\n",
       "        vertical-align: top;\n",
       "    }\n",
       "\n",
       "    .dataframe thead th {\n",
       "        text-align: right;\n",
       "    }\n",
       "</style>\n",
       "<table border=\"1\" class=\"dataframe\">\n",
       "  <thead>\n",
       "    <tr style=\"text-align: right;\">\n",
       "      <th></th>\n",
       "      <th>turnover</th>\n",
       "      <th>transaction_count</th>\n",
       "      <th>io_ratio</th>\n",
       "      <th>age</th>\n",
       "      <th>is_pep</th>\n",
       "      <th>inactive_days_average</th>\n",
       "      <th>inactive_days_max</th>\n",
       "      <th>n_of_accounts</th>\n",
       "      <th>distinct_counterparties</th>\n",
       "      <th>channel_risk</th>\n",
       "      <th>...</th>\n",
       "      <th>66</th>\n",
       "      <th>94</th>\n",
       "      <th>113</th>\n",
       "      <th>117</th>\n",
       "      <th>123</th>\n",
       "      <th>134</th>\n",
       "      <th>141</th>\n",
       "      <th>172</th>\n",
       "      <th>176</th>\n",
       "      <th>191</th>\n",
       "    </tr>\n",
       "  </thead>\n",
       "  <tbody>\n",
       "    <tr>\n",
       "      <th>0</th>\n",
       "      <td>0.346167</td>\n",
       "      <td>-0.499481</td>\n",
       "      <td>0.00</td>\n",
       "      <td>1.023226</td>\n",
       "      <td>0</td>\n",
       "      <td>1.114928</td>\n",
       "      <td>-0.104507</td>\n",
       "      <td>0.002766</td>\n",
       "      <td>-0.324675</td>\n",
       "      <td>0.046108</td>\n",
       "      <td>...</td>\n",
       "      <td>0</td>\n",
       "      <td>0</td>\n",
       "      <td>0</td>\n",
       "      <td>0</td>\n",
       "      <td>0</td>\n",
       "      <td>0</td>\n",
       "      <td>0</td>\n",
       "      <td>0</td>\n",
       "      <td>0</td>\n",
       "      <td>0</td>\n",
       "    </tr>\n",
       "    <tr>\n",
       "      <th>1</th>\n",
       "      <td>-0.116793</td>\n",
       "      <td>-0.425476</td>\n",
       "      <td>0.25</td>\n",
       "      <td>-0.239474</td>\n",
       "      <td>0</td>\n",
       "      <td>-0.302564</td>\n",
       "      <td>-0.670445</td>\n",
       "      <td>0.002766</td>\n",
       "      <td>-0.324675</td>\n",
       "      <td>0.030105</td>\n",
       "      <td>...</td>\n",
       "      <td>0</td>\n",
       "      <td>0</td>\n",
       "      <td>0</td>\n",
       "      <td>0</td>\n",
       "      <td>0</td>\n",
       "      <td>0</td>\n",
       "      <td>0</td>\n",
       "      <td>0</td>\n",
       "      <td>0</td>\n",
       "      <td>0</td>\n",
       "    </tr>\n",
       "    <tr>\n",
       "      <th>2</th>\n",
       "      <td>-0.097363</td>\n",
       "      <td>-0.425476</td>\n",
       "      <td>0.50</td>\n",
       "      <td>-1.611974</td>\n",
       "      <td>0</td>\n",
       "      <td>-0.429327</td>\n",
       "      <td>-0.230271</td>\n",
       "      <td>0.002766</td>\n",
       "      <td>-0.324675</td>\n",
       "      <td>0.025249</td>\n",
       "      <td>...</td>\n",
       "      <td>0</td>\n",
       "      <td>1</td>\n",
       "      <td>0</td>\n",
       "      <td>0</td>\n",
       "      <td>0</td>\n",
       "      <td>0</td>\n",
       "      <td>0</td>\n",
       "      <td>0</td>\n",
       "      <td>0</td>\n",
       "      <td>0</td>\n",
       "    </tr>\n",
       "    <tr>\n",
       "      <th>3</th>\n",
       "      <td>-0.121385</td>\n",
       "      <td>-0.499481</td>\n",
       "      <td>0.00</td>\n",
       "      <td>0.035026</td>\n",
       "      <td>0</td>\n",
       "      <td>0.014813</td>\n",
       "      <td>-0.846514</td>\n",
       "      <td>0.002766</td>\n",
       "      <td>-0.324675</td>\n",
       "      <td>0.083395</td>\n",
       "      <td>...</td>\n",
       "      <td>0</td>\n",
       "      <td>0</td>\n",
       "      <td>0</td>\n",
       "      <td>0</td>\n",
       "      <td>0</td>\n",
       "      <td>0</td>\n",
       "      <td>0</td>\n",
       "      <td>0</td>\n",
       "      <td>0</td>\n",
       "      <td>0</td>\n",
       "    </tr>\n",
       "    <tr>\n",
       "      <th>4</th>\n",
       "      <td>-0.123628</td>\n",
       "      <td>-0.400808</td>\n",
       "      <td>0.00</td>\n",
       "      <td>1.956526</td>\n",
       "      <td>0</td>\n",
       "      <td>-0.354020</td>\n",
       "      <td>-0.029049</td>\n",
       "      <td>3.009381</td>\n",
       "      <td>-0.324675</td>\n",
       "      <td>0.162587</td>\n",
       "      <td>...</td>\n",
       "      <td>0</td>\n",
       "      <td>0</td>\n",
       "      <td>0</td>\n",
       "      <td>0</td>\n",
       "      <td>0</td>\n",
       "      <td>0</td>\n",
       "      <td>0</td>\n",
       "      <td>1</td>\n",
       "      <td>0</td>\n",
       "      <td>0</td>\n",
       "    </tr>\n",
       "  </tbody>\n",
       "</table>\n",
       "<p>5 rows × 41 columns</p>\n",
       "</div>"
      ],
      "text/plain": [
       "   turnover  transaction_count  io_ratio       age  is_pep  \\\n",
       "0  0.346167          -0.499481      0.00  1.023226       0   \n",
       "1 -0.116793          -0.425476      0.25 -0.239474       0   \n",
       "2 -0.097363          -0.425476      0.50 -1.611974       0   \n",
       "3 -0.121385          -0.499481      0.00  0.035026       0   \n",
       "4 -0.123628          -0.400808      0.00  1.956526       0   \n",
       "\n",
       "   inactive_days_average  inactive_days_max  n_of_accounts  \\\n",
       "0               1.114928          -0.104507       0.002766   \n",
       "1              -0.302564          -0.670445       0.002766   \n",
       "2              -0.429327          -0.230271       0.002766   \n",
       "3               0.014813          -0.846514       0.002766   \n",
       "4              -0.354020          -0.029049       3.009381   \n",
       "\n",
       "   distinct_counterparties  channel_risk ...   66  94  113  117  123  134  \\\n",
       "0                -0.324675      0.046108 ...    0   0    0    0    0    0   \n",
       "1                -0.324675      0.030105 ...    0   0    0    0    0    0   \n",
       "2                -0.324675      0.025249 ...    0   1    0    0    0    0   \n",
       "3                -0.324675      0.083395 ...    0   0    0    0    0    0   \n",
       "4                -0.324675      0.162587 ...    0   0    0    0    0    0   \n",
       "\n",
       "   141  172  176  191  \n",
       "0    0    0    0    0  \n",
       "1    0    0    0    0  \n",
       "2    0    0    0    0  \n",
       "3    0    0    0    0  \n",
       "4    0    1    0    0  \n",
       "\n",
       "[5 rows x 41 columns]"
      ]
     },
     "execution_count": 517,
     "metadata": {},
     "output_type": "execute_result"
    }
   ],
   "source": [
    "X_test_final.head()"
   ]
  },
  {
   "cell_type": "code",
   "execution_count": 535,
   "metadata": {
    "collapsed": false
   },
   "outputs": [
    {
     "data": {
      "text/plain": [
       "199805"
      ]
     },
     "execution_count": 535,
     "metadata": {},
     "output_type": "execute_result"
    }
   ],
   "source": [
    "len(X_test_final)"
   ]
  },
  {
   "cell_type": "code",
   "execution_count": 536,
   "metadata": {
    "collapsed": false
   },
   "outputs": [],
   "source": [
    "prd = clf.predict_proba(X_test_final)\n"
   ]
  },
  {
   "cell_type": "code",
   "execution_count": 537,
   "metadata": {
    "collapsed": false
   },
   "outputs": [],
   "source": [
    "pd.DataFrame(prd).to_csv('test_prob_companies.csv')"
   ]
  },
  {
   "cell_type": "code",
   "execution_count": null,
   "metadata": {
    "collapsed": false
   },
   "outputs": [],
   "source": []
  },
  {
   "cell_type": "code",
   "execution_count": null,
   "metadata": {
    "collapsed": false
   },
   "outputs": [],
   "source": []
  },
  {
   "cell_type": "code",
   "execution_count": null,
   "metadata": {
    "collapsed": false
   },
   "outputs": [],
   "source": []
  },
  {
   "cell_type": "code",
   "execution_count": null,
   "metadata": {
    "collapsed": true
   },
   "outputs": [],
   "source": []
  }
 ],
 "metadata": {
  "anaconda-cloud": {},
  "kernelspec": {
   "display_name": "Python [conda env:anaconda]",
   "language": "python",
   "name": "conda-env-anaconda-py"
  },
  "language_info": {
   "codemirror_mode": {
    "name": "ipython",
    "version": 3
   },
   "file_extension": ".py",
   "mimetype": "text/x-python",
   "name": "python",
   "nbconvert_exporter": "python",
   "pygments_lexer": "ipython3",
   "version": "3.5.1"
  }
 },
 "nbformat": 4,
 "nbformat_minor": 2
}

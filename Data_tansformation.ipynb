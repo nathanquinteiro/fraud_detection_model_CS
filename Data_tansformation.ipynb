{
 "cells": [
  {
   "cell_type": "code",
   "execution_count": 3,
   "metadata": {
    "collapsed": false
   },
   "outputs": [],
   "source": [
    "import pandas\n",
    "import matplotlib.pyplot as plt\n",
    "import math"
   ]
  },
  {
   "cell_type": "code",
   "execution_count": 43,
   "metadata": {
    "collapsed": false
   },
   "outputs": [],
   "source": [
    "data =  pandas.read_csv(\"/Users/bojan/Downloads/train.csv\")"
   ]
  },
  {
   "cell_type": "code",
   "execution_count": 44,
   "metadata": {
    "collapsed": false
   },
   "outputs": [
    {
     "data": {
      "text/plain": [
       "9087"
      ]
     },
     "execution_count": 44,
     "metadata": {},
     "output_type": "execute_result"
    }
   ],
   "source": [
    "sum(data['suspicious'])"
   ]
  },
  {
   "cell_type": "code",
   "execution_count": 45,
   "metadata": {
    "collapsed": false
   },
   "outputs": [
    {
     "data": {
      "text/plain": [
       "800146"
      ]
     },
     "execution_count": 45,
     "metadata": {},
     "output_type": "execute_result"
    }
   ],
   "source": [
    "sum(data['category'] == 0) #Individual"
   ]
  },
  {
   "cell_type": "code",
   "execution_count": 46,
   "metadata": {
    "collapsed": false
   },
   "outputs": [
    {
     "data": {
      "text/plain": [
       "8125"
      ]
     },
     "execution_count": 46,
     "metadata": {},
     "output_type": "execute_result"
    }
   ],
   "source": [
    "sum(data[data['category'] == 0]['suspicious'])"
   ]
  },
  {
   "cell_type": "code",
   "execution_count": 47,
   "metadata": {
    "collapsed": false
   },
   "outputs": [
    {
     "data": {
      "text/plain": [
       "1.0154396822579879"
      ]
     },
     "execution_count": 47,
     "metadata": {},
     "output_type": "execute_result"
    }
   ],
   "source": [
    "sum(data[data['category'] == 0]['suspicious']) / sum(data['category'] == 0) * 100"
   ]
  },
  {
   "cell_type": "code",
   "execution_count": 48,
   "metadata": {
    "collapsed": false
   },
   "outputs": [
    {
     "data": {
      "text/plain": [
       "149780"
      ]
     },
     "execution_count": 48,
     "metadata": {},
     "output_type": "execute_result"
    }
   ],
   "source": [
    "sum(data['category'] == 1) #Business"
   ]
  },
  {
   "cell_type": "code",
   "execution_count": 49,
   "metadata": {
    "collapsed": false
   },
   "outputs": [
    {
     "data": {
      "text/plain": [
       "720"
      ]
     },
     "execution_count": 49,
     "metadata": {},
     "output_type": "execute_result"
    }
   ],
   "source": [
    "sum(data[data['category'] == 1]['suspicious'])"
   ]
  },
  {
   "cell_type": "code",
   "execution_count": 50,
   "metadata": {
    "collapsed": false
   },
   "outputs": [
    {
     "data": {
      "text/plain": [
       "0.48070503404993986"
      ]
     },
     "execution_count": 50,
     "metadata": {},
     "output_type": "execute_result"
    }
   ],
   "source": [
    "sum(data[data['category'] == 1]['suspicious']) /sum(data['category'] == 1) * 100"
   ]
  },
  {
   "cell_type": "code",
   "execution_count": 51,
   "metadata": {
    "collapsed": false
   },
   "outputs": [
    {
     "data": {
      "text/plain": [
       "50074"
      ]
     },
     "execution_count": 51,
     "metadata": {},
     "output_type": "execute_result"
    }
   ],
   "source": [
    "sum(data['category'] == 2) #Organization"
   ]
  },
  {
   "cell_type": "code",
   "execution_count": 52,
   "metadata": {
    "collapsed": false
   },
   "outputs": [
    {
     "data": {
      "text/plain": [
       "242"
      ]
     },
     "execution_count": 52,
     "metadata": {},
     "output_type": "execute_result"
    }
   ],
   "source": [
    "sum(data[data['category'] == 2]['suspicious'])"
   ]
  },
  {
   "cell_type": "code",
   "execution_count": 53,
   "metadata": {
    "collapsed": false
   },
   "outputs": [
    {
     "data": {
      "text/plain": [
       "0.48328473858689147"
      ]
     },
     "execution_count": 53,
     "metadata": {},
     "output_type": "execute_result"
    }
   ],
   "source": [
    "sum(data[data['category'] == 2]['suspicious']) / sum(data['category'] == 2) * 100"
   ]
  },
  {
   "cell_type": "code",
   "execution_count": 54,
   "metadata": {
    "collapsed": false
   },
   "outputs": [
    {
     "data": {
      "text/plain": [
       "0.7312153303076148"
      ]
     },
     "execution_count": 54,
     "metadata": {},
     "output_type": "execute_result"
    }
   ],
   "source": [
    "sum(data[data['is_pep'] == 1]['suspicious']) / sum(data['is_pep'] == 1) * 100"
   ]
  },
  {
   "cell_type": "code",
   "execution_count": 55,
   "metadata": {
    "collapsed": false
   },
   "outputs": [],
   "source": [
    "data_people = data[data['category'] == 0]"
   ]
  },
  {
   "cell_type": "code",
   "execution_count": 56,
   "metadata": {
    "collapsed": false
   },
   "outputs": [],
   "source": [
    "data_companies = data[data['category'] != 0]"
   ]
  },
  {
   "cell_type": "code",
   "execution_count": 57,
   "metadata": {
    "collapsed": false
   },
   "outputs": [],
   "source": [
    "data_companies = data_companies.drop(\"is_pep\", axis=1)"
   ]
  },
  {
   "cell_type": "code",
   "execution_count": 58,
   "metadata": {
    "collapsed": true
   },
   "outputs": [],
   "source": [
    "data_companies = data_companies.drop(\"age\", axis=1)"
   ]
  },
  {
   "cell_type": "markdown",
   "metadata": {},
   "source": [
    "turnover normalize\n",
    "turnover expand with log\n",
    "\n",
    "combine transaction_count with io_ratio\n",
    "to have transation_in and transation_out\n",
    "\n",
    "nationaly make one-hot encodding\n",
    "\n",
    "age we normalize and add 4 categories\n"
   ]
  },
  {
   "cell_type": "code",
   "execution_count": 59,
   "metadata": {
    "collapsed": false
   },
   "outputs": [
    {
     "data": {
      "text/html": [
       "<div>\n",
       "<style scoped>\n",
       "    .dataframe tbody tr th:only-of-type {\n",
       "        vertical-align: middle;\n",
       "    }\n",
       "\n",
       "    .dataframe tbody tr th {\n",
       "        vertical-align: top;\n",
       "    }\n",
       "\n",
       "    .dataframe thead th {\n",
       "        text-align: right;\n",
       "    }\n",
       "</style>\n",
       "<table border=\"1\" class=\"dataframe\">\n",
       "  <thead>\n",
       "    <tr style=\"text-align: right;\">\n",
       "      <th></th>\n",
       "      <th>customer</th>\n",
       "      <th>category</th>\n",
       "      <th>suspicious</th>\n",
       "      <th>turnover</th>\n",
       "      <th>transaction_count</th>\n",
       "      <th>io_ratio</th>\n",
       "      <th>nationality</th>\n",
       "      <th>inactive_days_average</th>\n",
       "      <th>inactive_days_max</th>\n",
       "      <th>n_of_accounts</th>\n",
       "      <th>distinct_counterparties</th>\n",
       "      <th>channel_risk</th>\n",
       "      <th>atm_withdrawal</th>\n",
       "      <th>atm_deposit</th>\n",
       "    </tr>\n",
       "  </thead>\n",
       "  <tbody>\n",
       "    <tr>\n",
       "      <th>1</th>\n",
       "      <td>90000001</td>\n",
       "      <td>1</td>\n",
       "      <td>0</td>\n",
       "      <td>1009400.35</td>\n",
       "      <td>2.0</td>\n",
       "      <td>0.5</td>\n",
       "      <td>33</td>\n",
       "      <td>78.49</td>\n",
       "      <td>79.0</td>\n",
       "      <td>3</td>\n",
       "      <td>1.0</td>\n",
       "      <td>0.635584</td>\n",
       "      <td>53.97</td>\n",
       "      <td>34.752298</td>\n",
       "    </tr>\n",
       "    <tr>\n",
       "      <th>23</th>\n",
       "      <td>90000023</td>\n",
       "      <td>1</td>\n",
       "      <td>0</td>\n",
       "      <td>1115814.55</td>\n",
       "      <td>1.0</td>\n",
       "      <td>1.0</td>\n",
       "      <td>94</td>\n",
       "      <td>41.57</td>\n",
       "      <td>84.0</td>\n",
       "      <td>2</td>\n",
       "      <td>1.0</td>\n",
       "      <td>0.329963</td>\n",
       "      <td>4528.47</td>\n",
       "      <td>0.000000</td>\n",
       "    </tr>\n",
       "    <tr>\n",
       "      <th>31</th>\n",
       "      <td>90000031</td>\n",
       "      <td>2</td>\n",
       "      <td>0</td>\n",
       "      <td>3224701.88</td>\n",
       "      <td>1.0</td>\n",
       "      <td>0.0</td>\n",
       "      <td>172</td>\n",
       "      <td>13.78</td>\n",
       "      <td>14.0</td>\n",
       "      <td>3</td>\n",
       "      <td>1.0</td>\n",
       "      <td>0.081462</td>\n",
       "      <td>3224701.88</td>\n",
       "      <td>287.056598</td>\n",
       "    </tr>\n",
       "    <tr>\n",
       "      <th>32</th>\n",
       "      <td>90000032</td>\n",
       "      <td>2</td>\n",
       "      <td>0</td>\n",
       "      <td>74551181.74</td>\n",
       "      <td>2.0</td>\n",
       "      <td>0.5</td>\n",
       "      <td>33</td>\n",
       "      <td>32.62</td>\n",
       "      <td>98.0</td>\n",
       "      <td>2</td>\n",
       "      <td>1.0</td>\n",
       "      <td>0.193763</td>\n",
       "      <td>2750.52</td>\n",
       "      <td>910.549164</td>\n",
       "    </tr>\n",
       "    <tr>\n",
       "      <th>33</th>\n",
       "      <td>90000033</td>\n",
       "      <td>1</td>\n",
       "      <td>0</td>\n",
       "      <td>50439.74</td>\n",
       "      <td>2.0</td>\n",
       "      <td>0.0</td>\n",
       "      <td>94</td>\n",
       "      <td>22.05</td>\n",
       "      <td>45.0</td>\n",
       "      <td>1</td>\n",
       "      <td>1.0</td>\n",
       "      <td>0.477056</td>\n",
       "      <td>0.00</td>\n",
       "      <td>520.397080</td>\n",
       "    </tr>\n",
       "  </tbody>\n",
       "</table>\n",
       "</div>"
      ],
      "text/plain": [
       "    customer  category  suspicious     turnover  transaction_count  io_ratio  \\\n",
       "1   90000001         1           0   1009400.35                2.0       0.5   \n",
       "23  90000023         1           0   1115814.55                1.0       1.0   \n",
       "31  90000031         2           0   3224701.88                1.0       0.0   \n",
       "32  90000032         2           0  74551181.74                2.0       0.5   \n",
       "33  90000033         1           0     50439.74                2.0       0.0   \n",
       "\n",
       "    nationality  inactive_days_average  inactive_days_max  n_of_accounts  \\\n",
       "1            33                  78.49               79.0              3   \n",
       "23           94                  41.57               84.0              2   \n",
       "31          172                  13.78               14.0              3   \n",
       "32           33                  32.62               98.0              2   \n",
       "33           94                  22.05               45.0              1   \n",
       "\n",
       "    distinct_counterparties  channel_risk  atm_withdrawal  atm_deposit  \n",
       "1                       1.0      0.635584           53.97    34.752298  \n",
       "23                      1.0      0.329963         4528.47     0.000000  \n",
       "31                      1.0      0.081462      3224701.88   287.056598  \n",
       "32                      1.0      0.193763         2750.52   910.549164  \n",
       "33                      1.0      0.477056            0.00   520.397080  "
      ]
     },
     "execution_count": 59,
     "metadata": {},
     "output_type": "execute_result"
    }
   ],
   "source": [
    "data_companies.head()"
   ]
  },
  {
   "cell_type": "code",
   "execution_count": 60,
   "metadata": {
    "collapsed": false
   },
   "outputs": [
    {
     "data": {
      "text/plain": [
       "{18, 32, 33, 45, 50, 66, 94, 113, 123, 134, 141, 172, 176, 191}"
      ]
     },
     "execution_count": 60,
     "metadata": {},
     "output_type": "execute_result"
    }
   ],
   "source": [
    "set(data_companies[\"nationality\"])"
   ]
  },
  {
   "cell_type": "code",
   "execution_count": 61,
   "metadata": {
    "collapsed": false
   },
   "outputs": [
    {
     "data": {
      "text/plain": [
       "{18, 32, 33, 45, 47, 50, 66, 94, 113, 117, 123, 134, 141, 172, 176, 191}"
      ]
     },
     "execution_count": 61,
     "metadata": {},
     "output_type": "execute_result"
    }
   ],
   "source": [
    "set(data_people[\"nationality\"])"
   ]
  },
  {
   "cell_type": "code",
   "execution_count": 62,
   "metadata": {
    "collapsed": false
   },
   "outputs": [
    {
     "data": {
      "text/plain": [
       "{18, 32, 33, 45, 47, 50, 66, 94, 113, 117, 123, 134, 141, 172, 176, 191}"
      ]
     },
     "execution_count": 62,
     "metadata": {},
     "output_type": "execute_result"
    }
   ],
   "source": [
    "set(data_people[\"nationality\"])"
   ]
  },
  {
   "cell_type": "code",
   "execution_count": 63,
   "metadata": {
    "collapsed": false
   },
   "outputs": [],
   "source": [
    "data_test =  pandas.read_csv(\"/Users/bojan/Downloads/test.csv\")"
   ]
  },
  {
   "cell_type": "code",
   "execution_count": 64,
   "metadata": {
    "collapsed": false
   },
   "outputs": [
    {
     "data": {
      "text/plain": [
       "{18, 32, 33, 45, 47, 50, 66, 94, 113, 123, 134, 141, 172, 176, 191}"
      ]
     },
     "execution_count": 64,
     "metadata": {},
     "output_type": "execute_result"
    }
   ],
   "source": [
    "set(data_test['nationality'])"
   ]
  },
  {
   "cell_type": "code",
   "execution_count": 65,
   "metadata": {
    "collapsed": false,
    "scrolled": true
   },
   "outputs": [
    {
     "data": {
      "image/png": "[encoded data removed]",
      "text/plain": [
       "<matplotlib.figure.Figure at 0x11dd07128>"
      ]
     },
     "metadata": {},
     "output_type": "display_data"
    }
   ],
   "source": [
    "plt.hist(data_people['age'], bins=10)\n",
    "plt.show()"
   ]
  },
  {
   "cell_type": "code",
   "execution_count": 66,
   "metadata": {
    "collapsed": false
   },
   "outputs": [
    {
     "data": {
      "text/plain": [
       "[<matplotlib.lines.Line2D at 0x11cd49f60>]"
      ]
     },
     "execution_count": 66,
     "metadata": {},
     "output_type": "execute_result"
    }
   ],
   "source": [
    "plt.plot(list(map (lambda x: len(data_people[(data_people['age']>= x) & (data_people['age']< x+10) & (data_people['suspicious'] == 1)])/len(data_people[(data_people['age']>= x) & (data_people['age']< x+10)]), range(0,120,5))))"
   ]
  },
  {
   "cell_type": "code",
   "execution_count": 67,
   "metadata": {
    "collapsed": false
   },
   "outputs": [
    {
     "data": {
      "image/png": "[encoded data removed]",
      "text/plain": [
       "<matplotlib.figure.Figure at 0x116b847f0>"
      ]
     },
     "metadata": {},
     "output_type": "display_data"
    }
   ],
   "source": [
    "plt.show()"
   ]
  },
  {
   "cell_type": "code",
   "execution_count": 68,
   "metadata": {
    "collapsed": false
   },
   "outputs": [
    {
     "data": {
      "image/png": "[encoded data removed]",
      "text/plain": [
       "<matplotlib.figure.Figure at 0x116b2c240>"
      ]
     },
     "metadata": {},
     "output_type": "display_data"
    }
   ],
   "source": [
    "plt.hist(data_people['distinct_counterparties'].apply(lambda x: 0 if x==0 else math.log(x)))\n",
    "plt.show()"
   ]
  },
  {
   "cell_type": "code",
   "execution_count": 69,
   "metadata": {
    "collapsed": false
   },
   "outputs": [
    {
     "data": {
      "text/plain": [
       "[<matplotlib.lines.Line2D at 0x113230208>]"
      ]
     },
     "execution_count": 69,
     "metadata": {},
     "output_type": "execute_result"
    }
   ],
   "source": [
    "plt.plot(list(map (lambda x: len(data_people[(data_people['distinct_counterparties']>= x) & (data_people['distinct_counterparties']< x+100) & (data_people['suspicious'] == 1)])/len(data_people[(data_people['distinct_counterparties']>= x) & (data_people['distinct_counterparties']< x+100)]), range(0,700,100))))"
   ]
  },
  {
   "cell_type": "code",
   "execution_count": 70,
   "metadata": {
    "collapsed": false
   },
   "outputs": [
    {
     "data": {
      "image/png": "[encoded data removed]",
      "text/plain": [
       "<matplotlib.figure.Figure at 0x116ba6588>"
      ]
     },
     "metadata": {},
     "output_type": "display_data"
    }
   ],
   "source": [
    "plt.show()"
   ]
  },
  {
   "cell_type": "code",
   "execution_count": 71,
   "metadata": {
    "collapsed": false
   },
   "outputs": [
    {
     "data": {
      "image/png": "[encoded data removed]",
      "text/plain": [
       "<matplotlib.figure.Figure at 0x116afa5f8>"
      ]
     },
     "metadata": {},
     "output_type": "display_data"
    }
   ],
   "source": [
    "plt.plot(list(map (lambda x: len(data_companies[(data_companies['distinct_counterparties']>= x) & (data_companies['distinct_counterparties']< x+100) & (data_companies['suspicious'] == 1)])/len(data_companies[(data_companies['distinct_counterparties']>= x) & (data_companies['distinct_counterparties']< x+100)]), range(0,700,100))))\n",
    "plt.show()"
   ]
  },
  {
   "cell_type": "code",
   "execution_count": null,
   "metadata": {
    "collapsed": true
   },
   "outputs": [],
   "source": []
  },
  {
   "cell_type": "code",
   "execution_count": 72,
   "metadata": {
    "collapsed": false
   },
   "outputs": [],
   "source": [
    "data_people = data_people.drop(\"category\", axis=1)\n",
    "data_people = data_people.drop(\"customer\", axis=1)\n",
    "data_people[\"turnover_log\"] = data_people[\"turnover\"].apply(lambda x: 0 if x < 1 else math.log(x))\n",
    "data_people[\"atm_withdrawal_log\"] = data_people[\"atm_withdrawal\"].apply(lambda x: 0 if x < 1 else math.log(x))\n",
    "data_people[\"atm_deposit_log\"] = data_people[\"atm_deposit\"].apply(lambda x: 0 if x < 1 else math.log(x))\n",
    "data_people[\"distinct_counterparties_log\"] = data_people[\"distinct_counterparties\"].apply(lambda x: 0 if x < 1 else math.log(x))\n",
    "data_people['transaction_in'] = data_people[[\"transaction_count\",\"io_ratio\"]].apply(lambda x: x['transaction_count']*x['io_ratio'] ,axis=1)\n",
    "data_people['transaction_out'] = data_people[[\"transaction_count\",\"transaction_in\"]].apply(lambda x: x['transaction_count']-x['transaction_in'] ,axis=1)\n",
    "data_people[\"transaction_in_log\"] = data_people[\"transaction_in\"].apply(lambda x: 0 if x < 1 else math.log(x))\n",
    "data_people[\"transaction_out_log\"] = data_people[\"transaction_out\"].apply(lambda x: 0 if x < 1 else math.log(x))\n",
    "data_people[\"transaction_count_log\"] = data_people[\"transaction_count\"].apply(lambda x: 0 if x < 1 else math.log(x))"
   ]
  },
  {
   "cell_type": "code",
   "execution_count": 73,
   "metadata": {
    "collapsed": false
   },
   "outputs": [
    {
     "data": {
      "text/plain": [
       "Index(['suspicious', 'turnover', 'transaction_count', 'io_ratio', 'age',\n",
       "       'nationality', 'is_pep', 'inactive_days_average', 'inactive_days_max',\n",
       "       'n_of_accounts', 'distinct_counterparties', 'channel_risk',\n",
       "       'atm_withdrawal', 'atm_deposit', 'turnover_log', 'atm_withdrawal_log',\n",
       "       'atm_deposit_log', 'distinct_counterparties_log', 'transaction_in',\n",
       "       'transaction_out', 'transaction_in_log', 'transaction_out_log',\n",
       "       'transaction_count_log'],\n",
       "      dtype='object')"
      ]
     },
     "execution_count": 73,
     "metadata": {},
     "output_type": "execute_result"
    }
   ],
   "source": [
    "data_people.keys()"
   ]
  },
  {
   "cell_type": "code",
   "execution_count": 75,
   "metadata": {
    "collapsed": false
   },
   "outputs": [],
   "source": [
    "mean_dict = {}\n",
    "for col in [ 'turnover_log', 'atm_withdrawal_log',\n",
    "       'atm_deposit_log', 'distinct_counterparties_log', 'transaction_in',\n",
    "       'transaction_out', 'transaction_in_log', 'transaction_out_log',\n",
    "       'transaction_count_log', 'atm_withdrawal', 'atm_deposit', 'distinct_counterparties', 'n_of_accounts',\n",
    "        'transaction_count',\"inactive_days_max\", 'inactive_days_average', \"turnover\"]:\n",
    "    mean = data_people[col].mean()\n",
    "    std = data_people[col].std()\n",
    "    mean_dict[col] = (mean,std)\n",
    "    data_people[col] = data_people[col].apply(lambda x: (x-mean)/std)"
   ]
  },
  {
   "cell_type": "code",
   "execution_count": 76,
   "metadata": {
    "collapsed": false
   },
   "outputs": [
    {
     "data": {
      "text/html": [
       "<div>\n",
       "<style scoped>\n",
       "    .dataframe tbody tr th:only-of-type {\n",
       "        vertical-align: middle;\n",
       "    }\n",
       "\n",
       "    .dataframe tbody tr th {\n",
       "        vertical-align: top;\n",
       "    }\n",
       "\n",
       "    .dataframe thead th {\n",
       "        text-align: right;\n",
       "    }\n",
       "</style>\n",
       "<table border=\"1\" class=\"dataframe\">\n",
       "  <thead>\n",
       "    <tr style=\"text-align: right;\">\n",
       "      <th></th>\n",
       "      <th>suspicious</th>\n",
       "      <th>turnover</th>\n",
       "      <th>transaction_count</th>\n",
       "      <th>io_ratio</th>\n",
       "      <th>age</th>\n",
       "      <th>nationality</th>\n",
       "      <th>is_pep</th>\n",
       "      <th>inactive_days_average</th>\n",
       "      <th>inactive_days_max</th>\n",
       "      <th>n_of_accounts</th>\n",
       "      <th>...</th>\n",
       "      <th>atm_deposit</th>\n",
       "      <th>turnover_log</th>\n",
       "      <th>atm_withdrawal_log</th>\n",
       "      <th>atm_deposit_log</th>\n",
       "      <th>distinct_counterparties_log</th>\n",
       "      <th>transaction_in</th>\n",
       "      <th>transaction_out</th>\n",
       "      <th>transaction_in_log</th>\n",
       "      <th>transaction_out_log</th>\n",
       "      <th>transaction_count_log</th>\n",
       "    </tr>\n",
       "  </thead>\n",
       "  <tbody>\n",
       "    <tr>\n",
       "      <th>0</th>\n",
       "      <td>0</td>\n",
       "      <td>0.155125</td>\n",
       "      <td>-0.351472</td>\n",
       "      <td>0.142857</td>\n",
       "      <td>79.0</td>\n",
       "      <td>134</td>\n",
       "      <td>0</td>\n",
       "      <td>-0.421064</td>\n",
       "      <td>0.109291</td>\n",
       "      <td>1.004971</td>\n",
       "      <td>...</td>\n",
       "      <td>-0.015850</td>\n",
       "      <td>1.018409</td>\n",
       "      <td>1.303274</td>\n",
       "      <td>0.797270</td>\n",
       "      <td>1.038525</td>\n",
       "      <td>-0.432110</td>\n",
       "      <td>-0.312388</td>\n",
       "      <td>-0.721413</td>\n",
       "      <td>0.259947</td>\n",
       "      <td>0.182556</td>\n",
       "    </tr>\n",
       "    <tr>\n",
       "      <th>2</th>\n",
       "      <td>0</td>\n",
       "      <td>-0.120970</td>\n",
       "      <td>-0.450145</td>\n",
       "      <td>0.666667</td>\n",
       "      <td>77.0</td>\n",
       "      <td>191</td>\n",
       "      <td>0</td>\n",
       "      <td>-0.212421</td>\n",
       "      <td>-0.544681</td>\n",
       "      <td>0.002766</td>\n",
       "      <td>...</td>\n",
       "      <td>-0.038810</td>\n",
       "      <td>-0.878463</td>\n",
       "      <td>0.086345</td>\n",
       "      <td>-0.568014</td>\n",
       "      <td>-0.616073</td>\n",
       "      <td>-0.352146</td>\n",
       "      <td>-0.488994</td>\n",
       "      <td>-0.174348</td>\n",
       "      <td>-0.889362</td>\n",
       "      <td>-0.331241</td>\n",
       "    </tr>\n",
       "    <tr>\n",
       "      <th>3</th>\n",
       "      <td>0</td>\n",
       "      <td>-0.113288</td>\n",
       "      <td>1.473972</td>\n",
       "      <td>0.308642</td>\n",
       "      <td>77.0</td>\n",
       "      <td>50</td>\n",
       "      <td>0</td>\n",
       "      <td>-0.845109</td>\n",
       "      <td>-0.255424</td>\n",
       "      <td>0.002766</td>\n",
       "      <td>...</td>\n",
       "      <td>-0.037863</td>\n",
       "      <td>-0.409527</td>\n",
       "      <td>0.254197</td>\n",
       "      <td>-0.187677</td>\n",
       "      <td>0.024013</td>\n",
       "      <td>1.487019</td>\n",
       "      <td>1.453676</td>\n",
       "      <td>1.819075</td>\n",
       "      <td>1.692666</td>\n",
       "      <td>1.667338</td>\n",
       "    </tr>\n",
       "    <tr>\n",
       "      <th>4</th>\n",
       "      <td>0</td>\n",
       "      <td>-0.046812</td>\n",
       "      <td>-0.499481</td>\n",
       "      <td>1.000000</td>\n",
       "      <td>39.0</td>\n",
       "      <td>172</td>\n",
       "      <td>0</td>\n",
       "      <td>1.886961</td>\n",
       "      <td>0.411125</td>\n",
       "      <td>2.007176</td>\n",
       "      <td>...</td>\n",
       "      <td>-0.039298</td>\n",
       "      <td>0.442456</td>\n",
       "      <td>0.394556</td>\n",
       "      <td>-1.573594</td>\n",
       "      <td>-0.616073</td>\n",
       "      <td>-0.432110</td>\n",
       "      <td>-0.524315</td>\n",
       "      <td>-0.721413</td>\n",
       "      <td>-0.889362</td>\n",
       "      <td>-0.997434</td>\n",
       "    </tr>\n",
       "    <tr>\n",
       "      <th>5</th>\n",
       "      <td>0</td>\n",
       "      <td>-0.125078</td>\n",
       "      <td>-0.450145</td>\n",
       "      <td>0.333333</td>\n",
       "      <td>36.0</td>\n",
       "      <td>172</td>\n",
       "      <td>0</td>\n",
       "      <td>-0.046033</td>\n",
       "      <td>-0.318306</td>\n",
       "      <td>0.002766</td>\n",
       "      <td>...</td>\n",
       "      <td>-0.039283</td>\n",
       "      <td>-2.540003</td>\n",
       "      <td>-0.829284</td>\n",
       "      <td>-1.573594</td>\n",
       "      <td>0.398439</td>\n",
       "      <td>-0.432110</td>\n",
       "      <td>-0.453673</td>\n",
       "      <td>-0.721413</td>\n",
       "      <td>-0.444749</td>\n",
       "      <td>-0.331241</td>\n",
       "    </tr>\n",
       "  </tbody>\n",
       "</table>\n",
       "<p>5 rows × 23 columns</p>\n",
       "</div>"
      ],
      "text/plain": [
       "   suspicious  turnover  transaction_count  io_ratio   age  nationality  \\\n",
       "0           0  0.155125          -0.351472  0.142857  79.0          134   \n",
       "2           0 -0.120970          -0.450145  0.666667  77.0          191   \n",
       "3           0 -0.113288           1.473972  0.308642  77.0           50   \n",
       "4           0 -0.046812          -0.499481  1.000000  39.0          172   \n",
       "5           0 -0.125078          -0.450145  0.333333  36.0          172   \n",
       "\n",
       "   is_pep  inactive_days_average  inactive_days_max  n_of_accounts  \\\n",
       "0       0              -0.421064           0.109291       1.004971   \n",
       "2       0              -0.212421          -0.544681       0.002766   \n",
       "3       0              -0.845109          -0.255424       0.002766   \n",
       "4       0               1.886961           0.411125       2.007176   \n",
       "5       0              -0.046033          -0.318306       0.002766   \n",
       "\n",
       "           ...            atm_deposit  turnover_log  atm_withdrawal_log  \\\n",
       "0          ...              -0.015850      1.018409            1.303274   \n",
       "2          ...              -0.038810     -0.878463            0.086345   \n",
       "3          ...              -0.037863     -0.409527            0.254197   \n",
       "4          ...              -0.039298      0.442456            0.394556   \n",
       "5          ...              -0.039283     -2.540003           -0.829284   \n",
       "\n",
       "   atm_deposit_log  distinct_counterparties_log  transaction_in  \\\n",
       "0         0.797270                     1.038525       -0.432110   \n",
       "2        -0.568014                    -0.616073       -0.352146   \n",
       "3        -0.187677                     0.024013        1.487019   \n",
       "4        -1.573594                    -0.616073       -0.432110   \n",
       "5        -1.573594                     0.398439       -0.432110   \n",
       "\n",
       "   transaction_out  transaction_in_log  transaction_out_log  \\\n",
       "0        -0.312388           -0.721413             0.259947   \n",
       "2        -0.488994           -0.174348            -0.889362   \n",
       "3         1.453676            1.819075             1.692666   \n",
       "4        -0.524315           -0.721413            -0.889362   \n",
       "5        -0.453673           -0.721413            -0.444749   \n",
       "\n",
       "   transaction_count_log  \n",
       "0               0.182556  \n",
       "2              -0.331241  \n",
       "3               1.667338  \n",
       "4              -0.997434  \n",
       "5              -0.331241  \n",
       "\n",
       "[5 rows x 23 columns]"
      ]
     },
     "execution_count": 76,
     "metadata": {},
     "output_type": "execute_result"
    }
   ],
   "source": [
    "data_people.head()"
   ]
  },
  {
   "cell_type": "code",
   "execution_count": 77,
   "metadata": {
    "collapsed": true
   },
   "outputs": [],
   "source": [
    "data_people['age_temp'] = data_people['age'].apply(lambda x: 0 if x<18 else(1 if x<49 else (2 if x<100 else 3)))\n",
    "data_people = data_people.join(pandas.get_dummies(data_people['age_temp']))\n",
    "data_people = data_people.join(pandas.get_dummies(data_people['nationality']))\n",
    "data_people  = data_people.drop(\"age_temp\", axis=1)\n",
    "data_people  = data_people.drop(\"nationality\", axis=1)\n",
    "\n",
    "for col in [\"age\"]:\n",
    "    mean = data_people[col].mean()\n",
    "    std = data_people[col].std()\n",
    "    mean_dict[col] = (mean,std)\n",
    "    data_people[col] = data_people[col].apply(lambda x: (x-mean)/std)"
   ]
  },
  {
   "cell_type": "code",
   "execution_count": 95,
   "metadata": {
    "collapsed": false
   },
   "outputs": [],
   "source": [
    "data_people.to_csv('final_train.csv')"
   ]
  },
  {
   "cell_type": "markdown",
   "metadata": {},
   "source": [
    "# Test data"
   ]
  },
  {
   "cell_type": "code",
   "execution_count": 39,
   "metadata": {
    "collapsed": false
   },
   "outputs": [],
   "source": [
    "data_test =  pandas.read_csv(\"/Users/bojan/Downloads/test.csv\")"
   ]
  },
  {
   "cell_type": "code",
   "execution_count": null,
   "metadata": {
    "collapsed": false
   },
   "outputs": [],
   "source": []
  },
  {
   "cell_type": "code",
   "execution_count": 40,
   "metadata": {
    "collapsed": true
   },
   "outputs": [],
   "source": [
    "data_people_test = data_test[data_test['category'] == 0]"
   ]
  },
  {
   "cell_type": "code",
   "execution_count": 41,
   "metadata": {
    "collapsed": true
   },
   "outputs": [],
   "source": [
    "data_people_test = data_people_test.drop(\"category\", axis=1)\n",
    "data_people_test = data_people_test.drop(\"customer\", axis=1)\n",
    "data_people_test[\"turnover_log\"] = data_people_test[\"turnover\"].apply(lambda x: 0 if x < 1 else math.log(x))\n",
    "data_people_test[\"atm_withdrawal_log\"] = data_people_test[\"atm_withdrawal\"].apply(lambda x: 0 if x < 1 else math.log(x))\n",
    "data_people_test[\"atm_deposit_log\"] = data_people_test[\"atm_deposit\"].apply(lambda x: 0 if x < 1 else math.log(x))\n",
    "data_people_test[\"distinct_counterparties_log\"] = data_people_test[\"distinct_counterparties\"].apply(lambda x: 0 if x < 1 else math.log(x))\n",
    "data_people_test['transaction_in'] = data_people_test[[\"transaction_count\",\"io_ratio\"]].apply(lambda x: x['transaction_count']*x['io_ratio'] ,axis=1)\n",
    "data_people_test['transaction_out'] = data_people_test[[\"transaction_count\",\"transaction_in\"]].apply(lambda x: x['transaction_count']-x['transaction_in'] ,axis=1)\n",
    "data_people_test[\"transaction_in_log\"] = data_people_test[\"transaction_in\"].apply(lambda x: 0 if x < 1 else math.log(x))\n",
    "data_people_test[\"transaction_out_log\"] = data_people_test[\"transaction_out\"].apply(lambda x: 0 if x < 1 else math.log(x))\n",
    "data_people_test[\"transaction_count_log\"] = data_people_test[\"transaction_count\"].apply(lambda x: 0 if x < 1 else math.log(x))"
   ]
  },
  {
   "cell_type": "code",
   "execution_count": 78,
   "metadata": {
    "collapsed": false
   },
   "outputs": [],
   "source": [
    "for col in [ 'turnover_log', 'atm_withdrawal_log',\n",
    "       'atm_deposit_log', 'distinct_counterparties_log', 'transaction_in',\n",
    "       'transaction_out', 'transaction_in_log', 'transaction_out_log',\n",
    "       'transaction_count_log', 'atm_withdrawal', 'atm_deposit', 'distinct_counterparties', 'n_of_accounts',\n",
    "        'transaction_count',\"inactive_days_max\", 'inactive_days_average', \"turnover\"]:\n",
    "    mean =  mean_dict[col][0]\n",
    "    std = mean_dict[col][1]\n",
    "    data_people_test[col] = data_people_test[col].apply(lambda x: (x-mean)/std)"
   ]
  },
  {
   "cell_type": "code",
   "execution_count": 79,
   "metadata": {
    "collapsed": true
   },
   "outputs": [],
   "source": [
    "df = pandas.get_dummies(data_people_test['nationality']) \n",
    "df.insert(9, 117, 0)"
   ]
  },
  {
   "cell_type": "code",
   "execution_count": 80,
   "metadata": {
    "collapsed": false
   },
   "outputs": [],
   "source": [
    "data_people_test['age_temp'] = data_people_test['age'].apply(lambda x: 0 if x<18 else(1 if x<49 else (2 if x<100 else 3)))\n",
    "data_people_test = data_people_test.join(pandas.get_dummies(data_people_test['age_temp']))\n",
    "data_people_test = data_people_test.join(df)"
   ]
  },
  {
   "cell_type": "code",
   "execution_count": 81,
   "metadata": {
    "collapsed": false
   },
   "outputs": [],
   "source": [
    "data_people_test  = data_people_test.drop(\"age_temp\", axis=1)\n",
    "data_people_test  = data_people_test.drop(\"nationality\", axis=1)"
   ]
  },
  {
   "cell_type": "code",
   "execution_count": 82,
   "metadata": {
    "collapsed": false
   },
   "outputs": [],
   "source": [
    "for col in [\"age\"]:\n",
    "    mean = mean_dict[col][0]\n",
    "    std = mean_dict[col][1]\n",
    "    data_people_test[col] = data_people_test[col].apply(lambda x: (x-mean)/std)"
   ]
  },
  {
   "cell_type": "code",
   "execution_count": 83,
   "metadata": {
    "collapsed": false
   },
   "outputs": [],
   "source": [
    "data_people_test.to_csv('final_test.csv')"
   ]
  },
  {
   "cell_type": "markdown",
   "metadata": {},
   "source": [
    "# Data Companies"
   ]
  },
  {
   "cell_type": "code",
   "execution_count": 183,
   "metadata": {
    "collapsed": false
   },
   "outputs": [],
   "source": [
    "data_companies = data_companies.drop(\"customer\", axis=1)"
   ]
  },
  {
   "cell_type": "code",
   "execution_count": 184,
   "metadata": {
    "collapsed": false
   },
   "outputs": [],
   "source": [
    "data_companies[\"turnover_log\"] = data_companies[\"turnover\"].apply(lambda x: 0 if x < 1 else math.log(x))\n",
    "data_companies[\"atm_withdrawal_log\"] = data_companies[\"atm_withdrawal\"].apply(lambda x: 0 if x < 1 else math.log(x))\n",
    "data_companies[\"atm_deposit_log\"] = data_companies[\"atm_deposit\"].apply(lambda x: 0 if x < 1 else math.log(x))\n",
    "data_companies[\"distinct_counterparties_log\"] = data_companies[\"distinct_counterparties\"].apply(lambda x: 0 if x < 1 else math.log(x))\n",
    "data_companies['transaction_in'] = data_companies[[\"transaction_count\",\"io_ratio\"]].apply(lambda x: x['transaction_count']*x['io_ratio'] ,axis=1)\n",
    "data_companies['transaction_out'] = data_companies[[\"transaction_count\",\"transaction_in\"]].apply(lambda x: x['transaction_count']-x['transaction_in'] ,axis=1)\n",
    "data_companies[\"transaction_in_log\"] = data_companies[\"transaction_in\"].apply(lambda x: 0 if x < 1 else math.log(x))\n",
    "data_companies[\"transaction_out_log\"] = data_companies[\"transaction_out\"].apply(lambda x: 0 if x < 1 else math.log(x))\n",
    "data_companies[\"transaction_count_log\"] = data_companies[\"transaction_count\"].apply(lambda x: 0 if x < 1 else math.log(x))"
   ]
  },
  {
   "cell_type": "code",
   "execution_count": 185,
   "metadata": {
    "collapsed": false
   },
   "outputs": [],
   "source": [
    "mean_dict_comapnies = {}\n",
    "for col in [ 'turnover_log', 'atm_withdrawal_log',\n",
    "       'atm_deposit_log', 'distinct_counterparties_log', 'transaction_in',\n",
    "       'transaction_out', 'transaction_in_log', 'transaction_out_log',\n",
    "       'transaction_count_log', 'atm_withdrawal', 'atm_deposit', 'distinct_counterparties', 'n_of_accounts',\n",
    "        'transaction_count',\"inactive_days_max\", 'inactive_days_average', \"turnover\"]:\n",
    "    mean = data_companies[col].mean()\n",
    "    std = data_companies[col].std()\n",
    "    mean_dict_comapnies[col] = (mean,std)\n",
    "    data_companies[col] = data_companies[col].apply(lambda x: (x-mean)/std)"
   ]
  },
  {
   "cell_type": "code",
   "execution_count": 186,
   "metadata": {
    "collapsed": false
   },
   "outputs": [],
   "source": [
    "data_companies = data_companies.join(pandas.get_dummies(data_companies['nationality']))\n",
    "data_companies  = data_companies.drop(\"nationality\", axis=1)\n",
    "data_companies['category'] = data_companies['category'].apply(lambda x: x-1)"
   ]
  },
  {
   "cell_type": "code",
   "execution_count": 187,
   "metadata": {
    "collapsed": false
   },
   "outputs": [],
   "source": [
    "data_companies.to_csv('final_train_companies.csv')"
   ]
  },
  {
   "cell_type": "code",
   "execution_count": null,
   "metadata": {
    "collapsed": false
   },
   "outputs": [],
   "source": []
  },
  {
   "cell_type": "markdown",
   "metadata": {},
   "source": [
    "# Test companies"
   ]
  },
  {
   "cell_type": "code",
   "execution_count": 190,
   "metadata": {
    "collapsed": false
   },
   "outputs": [],
   "source": [
    "data_companies_test = data_test[data_test['category'] != 0]\n",
    "data_companies_test = data_companies_test.drop(\"customer\", axis=1)"
   ]
  },
  {
   "cell_type": "code",
   "execution_count": 191,
   "metadata": {
    "collapsed": false
   },
   "outputs": [],
   "source": [
    "data_companies_test[\"turnover_log\"] = data_companies_test[\"turnover\"].apply(lambda x: 0 if x < 1 else math.log(x))\n",
    "data_companies_test[\"atm_withdrawal_log\"] = data_companies_test[\"atm_withdrawal\"].apply(lambda x: 0 if x < 1 else math.log(x))\n",
    "data_companies_test[\"atm_deposit_log\"] = data_companies_test[\"atm_deposit\"].apply(lambda x: 0 if x < 1 else math.log(x))\n",
    "data_companies_test[\"distinct_counterparties_log\"] = data_companies_test[\"distinct_counterparties\"].apply(lambda x: 0 if x < 1 else math.log(x))\n",
    "data_companies_test['transaction_in'] = data_companies_test[[\"transaction_count\",\"io_ratio\"]].apply(lambda x: x['transaction_count']*x['io_ratio'] ,axis=1)\n",
    "data_companies_test['transaction_out'] = data_companies_test[[\"transaction_count\",\"transaction_in\"]].apply(lambda x: x['transaction_count']-x['transaction_in'] ,axis=1)\n",
    "data_companies_test[\"transaction_in_log\"] = data_companies_test[\"transaction_in\"].apply(lambda x: 0 if x < 1 else math.log(x))\n",
    "data_companies_test[\"transaction_out_log\"] = data_companies_test[\"transaction_out\"].apply(lambda x: 0 if x < 1 else math.log(x))\n",
    "data_companies_test[\"transaction_count_log\"] = data_companies_test[\"transaction_count\"].apply(lambda x: 0 if x < 1 else math.log(x))"
   ]
  },
  {
   "cell_type": "code",
   "execution_count": 192,
   "metadata": {
    "collapsed": true
   },
   "outputs": [],
   "source": [
    "for col in [ 'turnover_log', 'atm_withdrawal_log',\n",
    "       'atm_deposit_log', 'distinct_counterparties_log', 'transaction_in',\n",
    "       'transaction_out', 'transaction_in_log', 'transaction_out_log',\n",
    "       'transaction_count_log', 'atm_withdrawal', 'atm_deposit', 'distinct_counterparties', 'n_of_accounts',\n",
    "        'transaction_count',\"inactive_days_max\", 'inactive_days_average', \"turnover\"]:\n",
    "    mean = mean_dict_comapnies[col][0]\n",
    "    std = mean_dict_comapnies[col][1]\n",
    "    data_companies_test[col] = data_companies_test[col].apply(lambda x: (x-mean)/std)"
   ]
  },
  {
   "cell_type": "code",
   "execution_count": 210,
   "metadata": {
    "collapsed": false
   },
   "outputs": [],
   "source": [
    "df_companies = pandas.get_dummies(data_companies_test['nationality']) \n",
    "df_companies.insert(5,66,0)"
   ]
  },
  {
   "cell_type": "code",
   "execution_count": 215,
   "metadata": {
    "collapsed": false
   },
   "outputs": [],
   "source": [
    "data_companies_test = data_companies_test.join(df_companies)"
   ]
  },
  {
   "cell_type": "code",
   "execution_count": 218,
   "metadata": {
    "collapsed": false
   },
   "outputs": [],
   "source": [
    "data_companies_test = data_companies_test.drop(\"nationality\", axis=1)"
   ]
  },
  {
   "cell_type": "code",
   "execution_count": 219,
   "metadata": {
    "collapsed": true
   },
   "outputs": [],
   "source": [
    "data_companies_test = data_companies_test.drop(\"age\", axis=1)"
   ]
  },
  {
   "cell_type": "code",
   "execution_count": 220,
   "metadata": {
    "collapsed": true
   },
   "outputs": [],
   "source": [
    "data_companies_test = data_companies_test.drop(\"is_pep\", axis=1)"
   ]
  },
  {
   "cell_type": "code",
   "execution_count": 222,
   "metadata": {
    "collapsed": false
   },
   "outputs": [],
   "source": [
    "data_companies_test['category'] = data_companies_test['category'].apply(lambda x: x-1)"
   ]
  },
  {
   "cell_type": "code",
   "execution_count": 229,
   "metadata": {
    "collapsed": false
   },
   "outputs": [],
   "source": [
    "data_companies_test.to_csv(\"final_test_companies.csv\")"
   ]
  },
  {
   "cell_type": "code",
   "execution_count": null,
   "metadata": {
    "collapsed": false
   },
   "outputs": [],
   "source": []
  },
  {
   "cell_type": "code",
   "execution_count": null,
   "metadata": {
    "collapsed": true
   },
   "outputs": [],
   "source": []
  }
 ],
 "metadata": {
  "anaconda-cloud": {},
  "kernelspec": {
   "display_name": "Python [default]",
   "language": "python",
   "name": "python3"
  },
  "language_info": {
   "codemirror_mode": {
    "name": "ipython",
    "version": 3
   },
   "file_extension": ".py",
   "mimetype": "text/x-python",
   "name": "python",
   "nbconvert_exporter": "python",
   "pygments_lexer": "ipython3",
   "version": "3.5.1"
  }
 },
 "nbformat": 4,
 "nbformat_minor": 1
}

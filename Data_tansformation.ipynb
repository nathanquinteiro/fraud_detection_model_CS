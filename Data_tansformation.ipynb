{
 "cells": [
  {
   "cell_type": "code",
   "execution_count": 30,
   "metadata": {},
   "outputs": [],
   "source": [
    "import pandas\n",
    "import math\n",
    "import numpy as np\n",
    "import matplotlib.pyplot as plt\n",
    "import seaborn as sns\n",
    "\n",
    "import warnings\n",
    "warnings.filterwarnings('ignore')\n",
    "font = {'family' : 'normal',\n",
    "        'weight' : 'normal',\n",
    "        'size'   : 20}\n",
    "\n",
    "\n",
    "sns.set(font_scale=2)\n",
    "\n",
    "import matplotlib\n",
    "matplotlib.rc('font', **font)"
   ]
  },
  {
   "cell_type": "code",
   "execution_count": 13,
   "metadata": {},
   "outputs": [],
   "source": [
    "plt.close(\"all\")"
   ]
  },
  {
   "cell_type": "code",
   "execution_count": 3,
   "metadata": {},
   "outputs": [
    {
     "name": "stdout",
     "output_type": "stream",
     "text": [
      "9087\n",
      "800146\n",
      "1.0154396822579879\n",
      "149780\n",
      "0.48070503404993986\n",
      "50074\n",
      "0.48328473858689147\n"
     ]
    }
   ],
   "source": [
    "data =  pandas.read_csv(\"../train.csv\")\n",
    "print(sum(data['suspicious']))\n",
    "print(sum(data['category'] == 0)) #Individual\n",
    "print(sum(data[data['category'] == 0]['suspicious']) / sum(data['category'] == 0) * 100)\n",
    "print(sum(data['category'] == 1)) #Business\n",
    "print(sum(data[data['category'] == 1]['suspicious']) /sum(data['category'] == 1) * 100)\n",
    "print(sum(data['category'] == 2)) #Organization\n",
    "print(sum(data[data['category'] == 2]['suspicious']) / sum(data['category'] == 2) * 100)"
   ]
  },
  {
   "cell_type": "code",
   "execution_count": 4,
   "metadata": {},
   "outputs": [],
   "source": [
    "sum(data[data['is_pep'] == 1]['suspicious']) / sum(data['is_pep'] == 1) * 100\n",
    "data_people = data[data['category'] == 0]\n",
    "data_companies = data[data['category'] != 0]\n",
    "data_companies = data_companies.drop(\"is_pep\", axis=1)\n",
    "data_companies = data_companies.drop(\"age\", axis=1)"
   ]
  },
  {
   "cell_type": "markdown",
   "metadata": {},
   "source": [
    "turnover normalize\n",
    "turnover expand with log\n",
    "\n",
    "combine transaction_count with io_ratio\n",
    "to have transation_in and transation_out\n",
    "\n",
    "nationaly make one-hot encodding\n",
    "\n",
    "age we normalize and add 4 categories\n"
   ]
  },
  {
   "cell_type": "code",
   "execution_count": 5,
   "metadata": {},
   "outputs": [
    {
     "data": {
      "text/html": [
       "<div>\n",
       "<style scoped>\n",
       "    .dataframe tbody tr th:only-of-type {\n",
       "        vertical-align: middle;\n",
       "    }\n",
       "\n",
       "    .dataframe tbody tr th {\n",
       "        vertical-align: top;\n",
       "    }\n",
       "\n",
       "    .dataframe thead th {\n",
       "        text-align: right;\n",
       "    }\n",
       "</style>\n",
       "<table border=\"1\" class=\"dataframe\">\n",
       "  <thead>\n",
       "    <tr style=\"text-align: right;\">\n",
       "      <th></th>\n",
       "      <th>customer</th>\n",
       "      <th>category</th>\n",
       "      <th>suspicious</th>\n",
       "      <th>turnover</th>\n",
       "      <th>transaction_count</th>\n",
       "      <th>io_ratio</th>\n",
       "      <th>nationality</th>\n",
       "      <th>inactive_days_average</th>\n",
       "      <th>inactive_days_max</th>\n",
       "      <th>n_of_accounts</th>\n",
       "      <th>distinct_counterparties</th>\n",
       "      <th>channel_risk</th>\n",
       "      <th>atm_withdrawal</th>\n",
       "      <th>atm_deposit</th>\n",
       "    </tr>\n",
       "  </thead>\n",
       "  <tbody>\n",
       "    <tr>\n",
       "      <th>1</th>\n",
       "      <td>90000001</td>\n",
       "      <td>1</td>\n",
       "      <td>0</td>\n",
       "      <td>1009400.35</td>\n",
       "      <td>2.0</td>\n",
       "      <td>0.5</td>\n",
       "      <td>33</td>\n",
       "      <td>78.49</td>\n",
       "      <td>79.0</td>\n",
       "      <td>3</td>\n",
       "      <td>1.0</td>\n",
       "      <td>0.635584</td>\n",
       "      <td>53.97</td>\n",
       "      <td>34.752298</td>\n",
       "    </tr>\n",
       "    <tr>\n",
       "      <th>23</th>\n",
       "      <td>90000023</td>\n",
       "      <td>1</td>\n",
       "      <td>0</td>\n",
       "      <td>1115814.55</td>\n",
       "      <td>1.0</td>\n",
       "      <td>1.0</td>\n",
       "      <td>94</td>\n",
       "      <td>41.57</td>\n",
       "      <td>84.0</td>\n",
       "      <td>2</td>\n",
       "      <td>1.0</td>\n",
       "      <td>0.329963</td>\n",
       "      <td>4528.47</td>\n",
       "      <td>0.000000</td>\n",
       "    </tr>\n",
       "    <tr>\n",
       "      <th>31</th>\n",
       "      <td>90000031</td>\n",
       "      <td>2</td>\n",
       "      <td>0</td>\n",
       "      <td>3224701.88</td>\n",
       "      <td>1.0</td>\n",
       "      <td>0.0</td>\n",
       "      <td>172</td>\n",
       "      <td>13.78</td>\n",
       "      <td>14.0</td>\n",
       "      <td>3</td>\n",
       "      <td>1.0</td>\n",
       "      <td>0.081462</td>\n",
       "      <td>3224701.88</td>\n",
       "      <td>287.056598</td>\n",
       "    </tr>\n",
       "    <tr>\n",
       "      <th>32</th>\n",
       "      <td>90000032</td>\n",
       "      <td>2</td>\n",
       "      <td>0</td>\n",
       "      <td>74551181.74</td>\n",
       "      <td>2.0</td>\n",
       "      <td>0.5</td>\n",
       "      <td>33</td>\n",
       "      <td>32.62</td>\n",
       "      <td>98.0</td>\n",
       "      <td>2</td>\n",
       "      <td>1.0</td>\n",
       "      <td>0.193763</td>\n",
       "      <td>2750.52</td>\n",
       "      <td>910.549164</td>\n",
       "    </tr>\n",
       "    <tr>\n",
       "      <th>33</th>\n",
       "      <td>90000033</td>\n",
       "      <td>1</td>\n",
       "      <td>0</td>\n",
       "      <td>50439.74</td>\n",
       "      <td>2.0</td>\n",
       "      <td>0.0</td>\n",
       "      <td>94</td>\n",
       "      <td>22.05</td>\n",
       "      <td>45.0</td>\n",
       "      <td>1</td>\n",
       "      <td>1.0</td>\n",
       "      <td>0.477056</td>\n",
       "      <td>0.00</td>\n",
       "      <td>520.397080</td>\n",
       "    </tr>\n",
       "  </tbody>\n",
       "</table>\n",
       "</div>"
      ],
      "text/plain": [
       "    customer  category  suspicious     turnover  transaction_count  io_ratio  \\\n",
       "1   90000001         1           0   1009400.35                2.0       0.5   \n",
       "23  90000023         1           0   1115814.55                1.0       1.0   \n",
       "31  90000031         2           0   3224701.88                1.0       0.0   \n",
       "32  90000032         2           0  74551181.74                2.0       0.5   \n",
       "33  90000033         1           0     50439.74                2.0       0.0   \n",
       "\n",
       "    nationality  inactive_days_average  inactive_days_max  n_of_accounts  \\\n",
       "1            33                  78.49               79.0              3   \n",
       "23           94                  41.57               84.0              2   \n",
       "31          172                  13.78               14.0              3   \n",
       "32           33                  32.62               98.0              2   \n",
       "33           94                  22.05               45.0              1   \n",
       "\n",
       "    distinct_counterparties  channel_risk  atm_withdrawal  atm_deposit  \n",
       "1                       1.0      0.635584           53.97    34.752298  \n",
       "23                      1.0      0.329963         4528.47     0.000000  \n",
       "31                      1.0      0.081462      3224701.88   287.056598  \n",
       "32                      1.0      0.193763         2750.52   910.549164  \n",
       "33                      1.0      0.477056            0.00   520.397080  "
      ]
     },
     "execution_count": 5,
     "metadata": {},
     "output_type": "execute_result"
    }
   ],
   "source": [
    "data_companies.head()"
   ]
  },
  {
   "cell_type": "code",
   "execution_count": 6,
   "metadata": {},
   "outputs": [
    {
     "data": {
      "text/plain": [
       "{18, 32, 33, 45, 50, 66, 94, 113, 123, 134, 141, 172, 176, 191}"
      ]
     },
     "execution_count": 6,
     "metadata": {},
     "output_type": "execute_result"
    }
   ],
   "source": [
    "set(data_companies[\"nationality\"])"
   ]
  },
  {
   "cell_type": "code",
   "execution_count": 7,
   "metadata": {},
   "outputs": [
    {
     "data": {
      "text/plain": [
       "{18, 32, 33, 45, 47, 50, 66, 94, 113, 117, 123, 134, 141, 172, 176, 191}"
      ]
     },
     "execution_count": 7,
     "metadata": {},
     "output_type": "execute_result"
    }
   ],
   "source": [
    "set(data_people[\"nationality\"])"
   ]
  },
  {
   "cell_type": "code",
   "execution_count": 8,
   "metadata": {},
   "outputs": [
    {
     "data": {
      "text/plain": [
       "{18, 32, 33, 45, 47, 50, 66, 94, 113, 117, 123, 134, 141, 172, 176, 191}"
      ]
     },
     "execution_count": 8,
     "metadata": {},
     "output_type": "execute_result"
    }
   ],
   "source": [
    "set(data_people[\"nationality\"])"
   ]
  },
  {
   "cell_type": "code",
   "execution_count": 9,
   "metadata": {},
   "outputs": [],
   "source": [
    "data_test =  pandas.read_csv(\"../test.csv\")"
   ]
  },
  {
   "cell_type": "code",
   "execution_count": 10,
   "metadata": {},
   "outputs": [
    {
     "data": {
      "text/plain": [
       "{18, 32, 33, 45, 47, 50, 66, 94, 113, 123, 134, 141, 172, 176, 191}"
      ]
     },
     "execution_count": 10,
     "metadata": {},
     "output_type": "execute_result"
    }
   ],
   "source": [
    "set(data_test['nationality'])"
   ]
  },
  {
   "cell_type": "code",
   "execution_count": 31,
   "metadata": {
    "scrolled": true
   },
   "outputs": [
    {
     "data": {
      "image/png": "[encoded data removed]",
      "text/plain": [
       "<Figure size 432x288 with 1 Axes>"
      ]
     },
     "metadata": {},
     "output_type": "display_data"
    }
   ],
   "source": [
    "#fig = plt.figure(1, figsize=(9, 6))\n",
    "\n",
    "plt.hist(data_people['age'], bins=10)\n",
    "plt.title(\"Age Distribution\")\n",
    "plt.show()"
   ]
  },
  {
   "cell_type": "code",
   "execution_count": 32,
   "metadata": {},
   "outputs": [
    {
     "data": {
      "image/png": "[encoded data removed]",
      "text/plain": [
       "<Figure size 648x432 with 1 Axes>"
      ]
     },
     "metadata": {},
     "output_type": "display_data"
    }
   ],
   "source": [
    "fig = plt.figure(1, figsize=(9, 6))\n",
    "plt.plot(range(0,120,5), list(map(lambda x: len(data_people[(data_people['age']>= x) & (data_people['age']< x+10) & (data_people['suspicious'] == 1)])/len(data_people[(data_people['age']>= x) & (data_people['age']< x+10)]) * 100, range(0,120,5))))\n",
    "plt.title(\"Age vs Suspicion rate in %\")\n",
    "\n",
    "plt.show()"
   ]
  },
  {
   "cell_type": "code",
   "execution_count": 33,
   "metadata": {},
   "outputs": [
    {
     "data": {
      "image/png": "[encoded data removed]",
      "text/plain": [
       "<Figure size 432x288 with 1 Axes>"
      ]
     },
     "metadata": {},
     "output_type": "display_data"
    }
   ],
   "source": [
    "plt.hist(data_people['distinct_counterparties'].apply(lambda x: 0 if x==0 else math.log(x)))\n",
    "plt.title(\"Distinct Counterparties distribution\")\n",
    "plt.show()"
   ]
  },
  {
   "cell_type": "code",
   "execution_count": 36,
   "metadata": {},
   "outputs": [
    {
     "data": {
      "image/png": "[encoded data removed]",
      "text/plain": [
       "<Figure size 432x288 with 1 Axes>"
      ]
     },
     "metadata": {},
     "output_type": "display_data"
    }
   ],
   "source": [
    "plt.plot(list(map (lambda x: len(data_people[(data_people['distinct_counterparties']>= x) & (data_people['distinct_counterparties']< x+100) & (data_people['suspicious'] == 1)])/len(data_people[(data_people['distinct_counterparties']>= x) & (data_people['distinct_counterparties']< x+100)]), range(0,700,100))))\n",
    "\n",
    "plt.title(\"People Distinct Counterparties vs Suspicion rate\")\n",
    "plt.show()"
   ]
  },
  {
   "cell_type": "code",
   "execution_count": 37,
   "metadata": {},
   "outputs": [
    {
     "data": {
      "image/png": "[encoded data removed]",
      "text/plain": [
       "<Figure size 432x288 with 1 Axes>"
      ]
     },
     "metadata": {},
     "output_type": "display_data"
    }
   ],
   "source": [
    "plt.plot(list(map (lambda x: len(data_companies[(data_companies['distinct_counterparties']>= x) & (data_companies['distinct_counterparties']< x+100) & (data_companies['suspicious'] == 1)])/len(data_companies[(data_companies['distinct_counterparties']>= x) & (data_companies['distinct_counterparties']< x+100)]), range(0,700,100))))\n",
    "\n",
    "plt.title(\"Companies Distinct Counterparties vs Suspicion rate\")\n",
    "plt.show()"
   ]
  },
  {
   "cell_type": "code",
   "execution_count": 16,
   "metadata": {
    "collapsed": true
   },
   "outputs": [],
   "source": [
    "data_people = data_people.join(pandas.get_dummies(data_people['nationality']))"
   ]
  },
  {
   "cell_type": "code",
   "execution_count": 17,
   "metadata": {},
   "outputs": [],
   "source": [
    "msk = np.random.rand(len(data_people)) < 0.8\n",
    "data_people_train = data_people[msk]\n",
    "data_people_valiadion = data_people[~msk]"
   ]
  },
  {
   "cell_type": "code",
   "execution_count": 18,
   "metadata": {},
   "outputs": [
    {
     "data": {
      "text/html": [
       "<div>\n",
       "<style scoped>\n",
       "    .dataframe tbody tr th:only-of-type {\n",
       "        vertical-align: middle;\n",
       "    }\n",
       "\n",
       "    .dataframe tbody tr th {\n",
       "        vertical-align: top;\n",
       "    }\n",
       "\n",
       "    .dataframe thead th {\n",
       "        text-align: right;\n",
       "    }\n",
       "</style>\n",
       "<table border=\"1\" class=\"dataframe\">\n",
       "  <thead>\n",
       "    <tr style=\"text-align: right;\">\n",
       "      <th></th>\n",
       "      <th>customer</th>\n",
       "      <th>category</th>\n",
       "      <th>suspicious</th>\n",
       "      <th>turnover</th>\n",
       "      <th>transaction_count</th>\n",
       "      <th>io_ratio</th>\n",
       "      <th>age</th>\n",
       "      <th>nationality</th>\n",
       "      <th>is_pep</th>\n",
       "      <th>inactive_days_average</th>\n",
       "      <th>...</th>\n",
       "      <th>66</th>\n",
       "      <th>94</th>\n",
       "      <th>113</th>\n",
       "      <th>117</th>\n",
       "      <th>123</th>\n",
       "      <th>134</th>\n",
       "      <th>141</th>\n",
       "      <th>172</th>\n",
       "      <th>176</th>\n",
       "      <th>191</th>\n",
       "    </tr>\n",
       "  </thead>\n",
       "  <tbody>\n",
       "    <tr>\n",
       "      <th>2</th>\n",
       "      <td>90000002</td>\n",
       "      <td>0</td>\n",
       "      <td>0</td>\n",
       "      <td>11051.68</td>\n",
       "      <td>3.0</td>\n",
       "      <td>0.666667</td>\n",
       "      <td>77.0</td>\n",
       "      <td>191</td>\n",
       "      <td>0</td>\n",
       "      <td>35.74</td>\n",
       "      <td>...</td>\n",
       "      <td>0</td>\n",
       "      <td>0</td>\n",
       "      <td>0</td>\n",
       "      <td>0</td>\n",
       "      <td>0</td>\n",
       "      <td>0</td>\n",
       "      <td>0</td>\n",
       "      <td>0</td>\n",
       "      <td>0</td>\n",
       "      <td>1</td>\n",
       "    </tr>\n",
       "    <tr>\n",
       "      <th>4</th>\n",
       "      <td>90000004</td>\n",
       "      <td>0</td>\n",
       "      <td>0</td>\n",
       "      <td>205489.77</td>\n",
       "      <td>1.0</td>\n",
       "      <td>1.000000</td>\n",
       "      <td>39.0</td>\n",
       "      <td>172</td>\n",
       "      <td>0</td>\n",
       "      <td>147.53</td>\n",
       "      <td>...</td>\n",
       "      <td>0</td>\n",
       "      <td>0</td>\n",
       "      <td>0</td>\n",
       "      <td>0</td>\n",
       "      <td>0</td>\n",
       "      <td>0</td>\n",
       "      <td>0</td>\n",
       "      <td>1</td>\n",
       "      <td>0</td>\n",
       "      <td>0</td>\n",
       "    </tr>\n",
       "    <tr>\n",
       "      <th>5</th>\n",
       "      <td>90000005</td>\n",
       "      <td>0</td>\n",
       "      <td>0</td>\n",
       "      <td>279.73</td>\n",
       "      <td>3.0</td>\n",
       "      <td>0.333333</td>\n",
       "      <td>36.0</td>\n",
       "      <td>172</td>\n",
       "      <td>0</td>\n",
       "      <td>44.60</td>\n",
       "      <td>...</td>\n",
       "      <td>0</td>\n",
       "      <td>0</td>\n",
       "      <td>0</td>\n",
       "      <td>0</td>\n",
       "      <td>0</td>\n",
       "      <td>0</td>\n",
       "      <td>0</td>\n",
       "      <td>1</td>\n",
       "      <td>0</td>\n",
       "      <td>0</td>\n",
       "    </tr>\n",
       "    <tr>\n",
       "      <th>6</th>\n",
       "      <td>90000006</td>\n",
       "      <td>0</td>\n",
       "      <td>0</td>\n",
       "      <td>27879.68</td>\n",
       "      <td>1.0</td>\n",
       "      <td>0.000000</td>\n",
       "      <td>37.0</td>\n",
       "      <td>45</td>\n",
       "      <td>0</td>\n",
       "      <td>89.55</td>\n",
       "      <td>...</td>\n",
       "      <td>0</td>\n",
       "      <td>0</td>\n",
       "      <td>0</td>\n",
       "      <td>0</td>\n",
       "      <td>0</td>\n",
       "      <td>0</td>\n",
       "      <td>0</td>\n",
       "      <td>0</td>\n",
       "      <td>0</td>\n",
       "      <td>0</td>\n",
       "    </tr>\n",
       "    <tr>\n",
       "      <th>7</th>\n",
       "      <td>90000007</td>\n",
       "      <td>0</td>\n",
       "      <td>0</td>\n",
       "      <td>192441.04</td>\n",
       "      <td>105.0</td>\n",
       "      <td>0.352381</td>\n",
       "      <td>61.0</td>\n",
       "      <td>172</td>\n",
       "      <td>0</td>\n",
       "      <td>1.83</td>\n",
       "      <td>...</td>\n",
       "      <td>0</td>\n",
       "      <td>0</td>\n",
       "      <td>0</td>\n",
       "      <td>0</td>\n",
       "      <td>0</td>\n",
       "      <td>0</td>\n",
       "      <td>0</td>\n",
       "      <td>1</td>\n",
       "      <td>0</td>\n",
       "      <td>0</td>\n",
       "    </tr>\n",
       "  </tbody>\n",
       "</table>\n",
       "<p>5 rows × 32 columns</p>\n",
       "</div>"
      ],
      "text/plain": [
       "   customer  category  suspicious   turnover  transaction_count  io_ratio  \\\n",
       "2  90000002         0           0   11051.68                3.0  0.666667   \n",
       "4  90000004         0           0  205489.77                1.0  1.000000   \n",
       "5  90000005         0           0     279.73                3.0  0.333333   \n",
       "6  90000006         0           0   27879.68                1.0  0.000000   \n",
       "7  90000007         0           0  192441.04              105.0  0.352381   \n",
       "\n",
       "    age  nationality  is_pep  inactive_days_average ...   66  94  113  117  \\\n",
       "2  77.0          191       0                  35.74 ...    0   0    0    0   \n",
       "4  39.0          172       0                 147.53 ...    0   0    0    0   \n",
       "5  36.0          172       0                  44.60 ...    0   0    0    0   \n",
       "6  37.0           45       0                  89.55 ...    0   0    0    0   \n",
       "7  61.0          172       0                   1.83 ...    0   0    0    0   \n",
       "\n",
       "   123  134  141  172  176  191  \n",
       "2    0    0    0    0    0    1  \n",
       "4    0    0    0    1    0    0  \n",
       "5    0    0    0    1    0    0  \n",
       "6    0    0    0    0    0    0  \n",
       "7    0    0    0    1    0    0  \n",
       "\n",
       "[5 rows x 32 columns]"
      ]
     },
     "execution_count": 18,
     "metadata": {},
     "output_type": "execute_result"
    }
   ],
   "source": [
    "data_people_train.head()"
   ]
  },
  {
   "cell_type": "code",
   "execution_count": 19,
   "metadata": {},
   "outputs": [],
   "source": [
    "data_people_train[\"turnover_log\"] = data_people_train[\"turnover\"].apply(lambda x: 0 if x < 1 else math.log(x))\n",
    "data_people_train[\"atm_withdrawal_log\"] = data_people_train[\"atm_withdrawal\"].apply(lambda x: 0 if x < 1 else math.log(x))\n",
    "data_people_train[\"atm_deposit_log\"] = data_people_train[\"atm_deposit\"].apply(lambda x: 0 if x < 1 else math.log(x))\n",
    "data_people_train[\"distinct_counterparties_log\"] = data_people_train[\"distinct_counterparties\"].apply(lambda x: 0 if x < 1 else math.log(x))\n",
    "data_people_train['transaction_in'] = data_people_train[[\"transaction_count\",\"io_ratio\"]].apply(lambda x: x['transaction_count']*x['io_ratio'] ,axis=1)\n",
    "data_people_train['transaction_out'] = data_people_train[[\"transaction_count\",\"transaction_in\"]].apply(lambda x: x['transaction_count']-x['transaction_in'] ,axis=1)\n",
    "data_people_train[\"transaction_in_log\"] = data_people_train[\"transaction_in\"].apply(lambda x: 0 if x < 1 else math.log(x))\n",
    "data_people_train[\"transaction_out_log\"] = data_people_train[\"transaction_out\"].apply(lambda x: 0 if x < 1 else math.log(x))\n",
    "data_people_train[\"transaction_count_log\"] = data_people_train[\"transaction_count\"].apply(lambda x: 0 if x < 1 else math.log(x))"
   ]
  },
  {
   "cell_type": "code",
   "execution_count": 20,
   "metadata": {},
   "outputs": [
    {
     "data": {
      "text/html": [
       "<div>\n",
       "<style scoped>\n",
       "    .dataframe tbody tr th:only-of-type {\n",
       "        vertical-align: middle;\n",
       "    }\n",
       "\n",
       "    .dataframe tbody tr th {\n",
       "        vertical-align: top;\n",
       "    }\n",
       "\n",
       "    .dataframe thead th {\n",
       "        text-align: right;\n",
       "    }\n",
       "</style>\n",
       "<table border=\"1\" class=\"dataframe\">\n",
       "  <thead>\n",
       "    <tr style=\"text-align: right;\">\n",
       "      <th></th>\n",
       "      <th>customer</th>\n",
       "      <th>category</th>\n",
       "      <th>suspicious</th>\n",
       "      <th>turnover</th>\n",
       "      <th>transaction_count</th>\n",
       "      <th>io_ratio</th>\n",
       "      <th>age</th>\n",
       "      <th>nationality</th>\n",
       "      <th>is_pep</th>\n",
       "      <th>inactive_days_average</th>\n",
       "      <th>...</th>\n",
       "      <th>191</th>\n",
       "      <th>turnover_log</th>\n",
       "      <th>atm_withdrawal_log</th>\n",
       "      <th>atm_deposit_log</th>\n",
       "      <th>distinct_counterparties_log</th>\n",
       "      <th>transaction_in</th>\n",
       "      <th>transaction_out</th>\n",
       "      <th>transaction_in_log</th>\n",
       "      <th>transaction_out_log</th>\n",
       "      <th>transaction_count_log</th>\n",
       "    </tr>\n",
       "  </thead>\n",
       "  <tbody>\n",
       "    <tr>\n",
       "      <th>2</th>\n",
       "      <td>90000002</td>\n",
       "      <td>0</td>\n",
       "      <td>0</td>\n",
       "      <td>11051.68</td>\n",
       "      <td>3.0</td>\n",
       "      <td>0.666667</td>\n",
       "      <td>77.0</td>\n",
       "      <td>191</td>\n",
       "      <td>0</td>\n",
       "      <td>35.74</td>\n",
       "      <td>...</td>\n",
       "      <td>1</td>\n",
       "      <td>9.310338</td>\n",
       "      <td>7.398119</td>\n",
       "      <td>2.852037</td>\n",
       "      <td>0.000000</td>\n",
       "      <td>2.0</td>\n",
       "      <td>1.0</td>\n",
       "      <td>0.693147</td>\n",
       "      <td>0.000000</td>\n",
       "      <td>1.098612</td>\n",
       "    </tr>\n",
       "    <tr>\n",
       "      <th>4</th>\n",
       "      <td>90000004</td>\n",
       "      <td>0</td>\n",
       "      <td>0</td>\n",
       "      <td>205489.77</td>\n",
       "      <td>1.0</td>\n",
       "      <td>1.000000</td>\n",
       "      <td>39.0</td>\n",
       "      <td>172</td>\n",
       "      <td>0</td>\n",
       "      <td>147.53</td>\n",
       "      <td>...</td>\n",
       "      <td>0</td>\n",
       "      <td>12.233152</td>\n",
       "      <td>8.635270</td>\n",
       "      <td>0.000000</td>\n",
       "      <td>0.000000</td>\n",
       "      <td>1.0</td>\n",
       "      <td>0.0</td>\n",
       "      <td>0.000000</td>\n",
       "      <td>0.000000</td>\n",
       "      <td>0.000000</td>\n",
       "    </tr>\n",
       "    <tr>\n",
       "      <th>5</th>\n",
       "      <td>90000005</td>\n",
       "      <td>0</td>\n",
       "      <td>0</td>\n",
       "      <td>279.73</td>\n",
       "      <td>3.0</td>\n",
       "      <td>0.333333</td>\n",
       "      <td>36.0</td>\n",
       "      <td>172</td>\n",
       "      <td>0</td>\n",
       "      <td>44.60</td>\n",
       "      <td>...</td>\n",
       "      <td>0</td>\n",
       "      <td>5.633825</td>\n",
       "      <td>3.722798</td>\n",
       "      <td>0.000000</td>\n",
       "      <td>1.098612</td>\n",
       "      <td>1.0</td>\n",
       "      <td>2.0</td>\n",
       "      <td>0.000000</td>\n",
       "      <td>0.693147</td>\n",
       "      <td>1.098612</td>\n",
       "    </tr>\n",
       "    <tr>\n",
       "      <th>6</th>\n",
       "      <td>90000006</td>\n",
       "      <td>0</td>\n",
       "      <td>0</td>\n",
       "      <td>27879.68</td>\n",
       "      <td>1.0</td>\n",
       "      <td>0.000000</td>\n",
       "      <td>37.0</td>\n",
       "      <td>45</td>\n",
       "      <td>0</td>\n",
       "      <td>89.55</td>\n",
       "      <td>...</td>\n",
       "      <td>0</td>\n",
       "      <td>10.235653</td>\n",
       "      <td>0.000000</td>\n",
       "      <td>4.008455</td>\n",
       "      <td>0.000000</td>\n",
       "      <td>0.0</td>\n",
       "      <td>1.0</td>\n",
       "      <td>0.000000</td>\n",
       "      <td>0.000000</td>\n",
       "      <td>0.000000</td>\n",
       "    </tr>\n",
       "    <tr>\n",
       "      <th>7</th>\n",
       "      <td>90000007</td>\n",
       "      <td>0</td>\n",
       "      <td>0</td>\n",
       "      <td>192441.04</td>\n",
       "      <td>105.0</td>\n",
       "      <td>0.352381</td>\n",
       "      <td>61.0</td>\n",
       "      <td>172</td>\n",
       "      <td>0</td>\n",
       "      <td>1.83</td>\n",
       "      <td>...</td>\n",
       "      <td>0</td>\n",
       "      <td>12.167545</td>\n",
       "      <td>8.777535</td>\n",
       "      <td>2.452153</td>\n",
       "      <td>1.609438</td>\n",
       "      <td>37.0</td>\n",
       "      <td>68.0</td>\n",
       "      <td>3.610918</td>\n",
       "      <td>4.219508</td>\n",
       "      <td>4.653960</td>\n",
       "    </tr>\n",
       "  </tbody>\n",
       "</table>\n",
       "<p>5 rows × 41 columns</p>\n",
       "</div>"
      ],
      "text/plain": [
       "   customer  category  suspicious   turnover  transaction_count  io_ratio  \\\n",
       "2  90000002         0           0   11051.68                3.0  0.666667   \n",
       "4  90000004         0           0  205489.77                1.0  1.000000   \n",
       "5  90000005         0           0     279.73                3.0  0.333333   \n",
       "6  90000006         0           0   27879.68                1.0  0.000000   \n",
       "7  90000007         0           0  192441.04              105.0  0.352381   \n",
       "\n",
       "    age  nationality  is_pep  inactive_days_average          ...            \\\n",
       "2  77.0          191       0                  35.74          ...             \n",
       "4  39.0          172       0                 147.53          ...             \n",
       "5  36.0          172       0                  44.60          ...             \n",
       "6  37.0           45       0                  89.55          ...             \n",
       "7  61.0          172       0                   1.83          ...             \n",
       "\n",
       "   191  turnover_log  atm_withdrawal_log  atm_deposit_log  \\\n",
       "2    1      9.310338            7.398119         2.852037   \n",
       "4    0     12.233152            8.635270         0.000000   \n",
       "5    0      5.633825            3.722798         0.000000   \n",
       "6    0     10.235653            0.000000         4.008455   \n",
       "7    0     12.167545            8.777535         2.452153   \n",
       "\n",
       "   distinct_counterparties_log  transaction_in  transaction_out  \\\n",
       "2                     0.000000             2.0              1.0   \n",
       "4                     0.000000             1.0              0.0   \n",
       "5                     1.098612             1.0              2.0   \n",
       "6                     0.000000             0.0              1.0   \n",
       "7                     1.609438            37.0             68.0   \n",
       "\n",
       "   transaction_in_log  transaction_out_log  transaction_count_log  \n",
       "2            0.693147             0.000000               1.098612  \n",
       "4            0.000000             0.000000               0.000000  \n",
       "5            0.000000             0.693147               1.098612  \n",
       "6            0.000000             0.000000               0.000000  \n",
       "7            3.610918             4.219508               4.653960  \n",
       "\n",
       "[5 rows x 41 columns]"
      ]
     },
     "execution_count": 20,
     "metadata": {},
     "output_type": "execute_result"
    }
   ],
   "source": [
    "data_people_train.head()"
   ]
  },
  {
   "cell_type": "code",
   "execution_count": 21,
   "metadata": {},
   "outputs": [],
   "source": [
    "mean_dict = {}\n",
    "for col in [ 'turnover_log', 'atm_withdrawal_log',\n",
    "       'atm_deposit_log', 'distinct_counterparties_log', 'transaction_in',\n",
    "       'transaction_out', 'transaction_in_log', 'transaction_out_log',\n",
    "       'transaction_count_log', 'atm_withdrawal', 'atm_deposit', 'distinct_counterparties', 'n_of_accounts',\n",
    "        'transaction_count',\"inactive_days_max\", 'inactive_days_average', \"turnover\"]:\n",
    "    mean = data_people_train[col].mean()\n",
    "    std = data_people_train[col].std()\n",
    "    mean_dict[col] = (mean,std)\n",
    "    data_people_train[col] = data_people_train[col].apply(lambda x: (x-mean)/std)"
   ]
  },
  {
   "cell_type": "code",
   "execution_count": 22,
   "metadata": {},
   "outputs": [
    {
     "data": {
      "text/plain": [
       "{'atm_deposit': (1355.0384697720945, 14576.519186432673),\n",
       " 'atm_deposit_log': (4.461727499662909, 2.8365227370481647),\n",
       " 'atm_withdrawal': (61176.17269892191, 880264.7173619269),\n",
       " 'atm_withdrawal_log': (7.053087536975671, 4.014084821738037),\n",
       " 'distinct_counterparties': (4.873056435696212, 11.922082931668674),\n",
       " 'distinct_counterparties_log': (0.6671550442722772, 1.082564286649802),\n",
       " 'inactive_days_average': (47.077381008979785, 53.268639877265066),\n",
       " 'inactive_days_max': (115.33069447528847, 79.50949233528361),\n",
       " 'n_of_accounts': (1.9978715018970377, 0.9979374829347015),\n",
       " 'transaction_count': (21.22412881714309, 40.46667870220548),\n",
       " 'transaction_count_log': (1.644324123704831, 1.6488650081956966),\n",
       " 'transaction_in': (6.3969078130424855, 12.482665984289811),\n",
       " 'transaction_in_log': (0.9136532658520309, 1.2667531153992588),\n",
       " 'transaction_out': (14.827221004100604, 28.26240155740952),\n",
       " 'transaction_out_log': (1.3861187441695668, 1.5586526935162552),\n",
       " 'turnover': (328608.9786061148, 2429056.0044641434),\n",
       " 'turnover_log': (11.253893705724098, 2.2126098291953062)}"
      ]
     },
     "execution_count": 22,
     "metadata": {},
     "output_type": "execute_result"
    }
   ],
   "source": [
    "mean_dict"
   ]
  },
  {
   "cell_type": "code",
   "execution_count": 23,
   "metadata": {},
   "outputs": [
    {
     "data": {
      "text/html": [
       "<div>\n",
       "<style scoped>\n",
       "    .dataframe tbody tr th:only-of-type {\n",
       "        vertical-align: middle;\n",
       "    }\n",
       "\n",
       "    .dataframe tbody tr th {\n",
       "        vertical-align: top;\n",
       "    }\n",
       "\n",
       "    .dataframe thead th {\n",
       "        text-align: right;\n",
       "    }\n",
       "</style>\n",
       "<table border=\"1\" class=\"dataframe\">\n",
       "  <thead>\n",
       "    <tr style=\"text-align: right;\">\n",
       "      <th></th>\n",
       "      <th>customer</th>\n",
       "      <th>category</th>\n",
       "      <th>suspicious</th>\n",
       "      <th>turnover</th>\n",
       "      <th>transaction_count</th>\n",
       "      <th>io_ratio</th>\n",
       "      <th>age</th>\n",
       "      <th>nationality</th>\n",
       "      <th>is_pep</th>\n",
       "      <th>inactive_days_average</th>\n",
       "      <th>...</th>\n",
       "      <th>191</th>\n",
       "      <th>turnover_log</th>\n",
       "      <th>atm_withdrawal_log</th>\n",
       "      <th>atm_deposit_log</th>\n",
       "      <th>distinct_counterparties_log</th>\n",
       "      <th>transaction_in</th>\n",
       "      <th>transaction_out</th>\n",
       "      <th>transaction_in_log</th>\n",
       "      <th>transaction_out_log</th>\n",
       "      <th>transaction_count_log</th>\n",
       "    </tr>\n",
       "  </thead>\n",
       "  <tbody>\n",
       "    <tr>\n",
       "      <th>2</th>\n",
       "      <td>90000002</td>\n",
       "      <td>0</td>\n",
       "      <td>0</td>\n",
       "      <td>-0.130733</td>\n",
       "      <td>-0.450349</td>\n",
       "      <td>0.666667</td>\n",
       "      <td>77.0</td>\n",
       "      <td>191</td>\n",
       "      <td>0</td>\n",
       "      <td>-0.212834</td>\n",
       "      <td>...</td>\n",
       "      <td>1</td>\n",
       "      <td>-0.878400</td>\n",
       "      <td>0.085955</td>\n",
       "      <td>-0.567487</td>\n",
       "      <td>-0.616273</td>\n",
       "      <td>-0.352241</td>\n",
       "      <td>-0.489244</td>\n",
       "      <td>-0.174072</td>\n",
       "      <td>-0.889306</td>\n",
       "      <td>-0.330962</td>\n",
       "    </tr>\n",
       "    <tr>\n",
       "      <th>4</th>\n",
       "      <td>90000004</td>\n",
       "      <td>0</td>\n",
       "      <td>0</td>\n",
       "      <td>-0.050686</td>\n",
       "      <td>-0.499772</td>\n",
       "      <td>1.000000</td>\n",
       "      <td>39.0</td>\n",
       "      <td>172</td>\n",
       "      <td>0</td>\n",
       "      <td>1.885774</td>\n",
       "      <td>...</td>\n",
       "      <td>0</td>\n",
       "      <td>0.442580</td>\n",
       "      <td>0.394158</td>\n",
       "      <td>-1.572957</td>\n",
       "      <td>-0.616273</td>\n",
       "      <td>-0.432352</td>\n",
       "      <td>-0.524627</td>\n",
       "      <td>-0.721256</td>\n",
       "      <td>-0.889306</td>\n",
       "      <td>-0.997246</td>\n",
       "    </tr>\n",
       "    <tr>\n",
       "      <th>5</th>\n",
       "      <td>90000005</td>\n",
       "      <td>0</td>\n",
       "      <td>0</td>\n",
       "      <td>-0.135167</td>\n",
       "      <td>-0.450349</td>\n",
       "      <td>0.333333</td>\n",
       "      <td>36.0</td>\n",
       "      <td>172</td>\n",
       "      <td>0</td>\n",
       "      <td>-0.046507</td>\n",
       "      <td>...</td>\n",
       "      <td>0</td>\n",
       "      <td>-2.540018</td>\n",
       "      <td>-0.829651</td>\n",
       "      <td>-1.572957</td>\n",
       "      <td>0.398551</td>\n",
       "      <td>-0.432352</td>\n",
       "      <td>-0.453862</td>\n",
       "      <td>-0.721256</td>\n",
       "      <td>-0.444597</td>\n",
       "      <td>-0.330962</td>\n",
       "    </tr>\n",
       "    <tr>\n",
       "      <th>6</th>\n",
       "      <td>90000006</td>\n",
       "      <td>0</td>\n",
       "      <td>0</td>\n",
       "      <td>-0.123805</td>\n",
       "      <td>-0.499772</td>\n",
       "      <td>0.000000</td>\n",
       "      <td>37.0</td>\n",
       "      <td>45</td>\n",
       "      <td>0</td>\n",
       "      <td>0.797329</td>\n",
       "      <td>...</td>\n",
       "      <td>0</td>\n",
       "      <td>-0.460199</td>\n",
       "      <td>-1.757085</td>\n",
       "      <td>-0.159799</td>\n",
       "      <td>-0.616273</td>\n",
       "      <td>-0.512463</td>\n",
       "      <td>-0.489244</td>\n",
       "      <td>-0.721256</td>\n",
       "      <td>-0.889306</td>\n",
       "      <td>-0.997246</td>\n",
       "    </tr>\n",
       "    <tr>\n",
       "      <th>7</th>\n",
       "      <td>90000007</td>\n",
       "      <td>0</td>\n",
       "      <td>0</td>\n",
       "      <td>-0.056058</td>\n",
       "      <td>2.070243</td>\n",
       "      <td>0.352381</td>\n",
       "      <td>61.0</td>\n",
       "      <td>172</td>\n",
       "      <td>0</td>\n",
       "      <td>-0.849419</td>\n",
       "      <td>...</td>\n",
       "      <td>0</td>\n",
       "      <td>0.412929</td>\n",
       "      <td>0.429599</td>\n",
       "      <td>-0.708464</td>\n",
       "      <td>0.870417</td>\n",
       "      <td>2.451647</td>\n",
       "      <td>1.881396</td>\n",
       "      <td>2.129274</td>\n",
       "      <td>1.817845</td>\n",
       "      <td>1.825278</td>\n",
       "    </tr>\n",
       "  </tbody>\n",
       "</table>\n",
       "<p>5 rows × 41 columns</p>\n",
       "</div>"
      ],
      "text/plain": [
       "   customer  category  suspicious  turnover  transaction_count  io_ratio  \\\n",
       "2  90000002         0           0 -0.130733          -0.450349  0.666667   \n",
       "4  90000004         0           0 -0.050686          -0.499772  1.000000   \n",
       "5  90000005         0           0 -0.135167          -0.450349  0.333333   \n",
       "6  90000006         0           0 -0.123805          -0.499772  0.000000   \n",
       "7  90000007         0           0 -0.056058           2.070243  0.352381   \n",
       "\n",
       "    age  nationality  is_pep  inactive_days_average          ...            \\\n",
       "2  77.0          191       0              -0.212834          ...             \n",
       "4  39.0          172       0               1.885774          ...             \n",
       "5  36.0          172       0              -0.046507          ...             \n",
       "6  37.0           45       0               0.797329          ...             \n",
       "7  61.0          172       0              -0.849419          ...             \n",
       "\n",
       "   191  turnover_log  atm_withdrawal_log  atm_deposit_log  \\\n",
       "2    1     -0.878400            0.085955        -0.567487   \n",
       "4    0      0.442580            0.394158        -1.572957   \n",
       "5    0     -2.540018           -0.829651        -1.572957   \n",
       "6    0     -0.460199           -1.757085        -0.159799   \n",
       "7    0      0.412929            0.429599        -0.708464   \n",
       "\n",
       "   distinct_counterparties_log  transaction_in  transaction_out  \\\n",
       "2                    -0.616273       -0.352241        -0.489244   \n",
       "4                    -0.616273       -0.432352        -0.524627   \n",
       "5                     0.398551       -0.432352        -0.453862   \n",
       "6                    -0.616273       -0.512463        -0.489244   \n",
       "7                     0.870417        2.451647         1.881396   \n",
       "\n",
       "   transaction_in_log  transaction_out_log  transaction_count_log  \n",
       "2           -0.174072            -0.889306              -0.330962  \n",
       "4           -0.721256            -0.889306              -0.997246  \n",
       "5           -0.721256            -0.444597              -0.330962  \n",
       "6           -0.721256            -0.889306              -0.997246  \n",
       "7            2.129274             1.817845               1.825278  \n",
       "\n",
       "[5 rows x 41 columns]"
      ]
     },
     "execution_count": 23,
     "metadata": {},
     "output_type": "execute_result"
    }
   ],
   "source": [
    "data_people_train.head()"
   ]
  },
  {
   "cell_type": "code",
   "execution_count": 24,
   "metadata": {},
   "outputs": [],
   "source": [
    "data_people_train['age_temp'] = data_people_train['age'].apply(lambda x: 0 if x<18 else(1 if x<49 else (2 if x<100 else 3)))\n",
    "data_people_train = data_people_train.join(pandas.get_dummies(data_people_train['age_temp']))\n",
    "data_people_train  = data_people_train.drop(\"age_temp\", axis=1)\n",
    "\n",
    "for col in [\"age\"]:\n",
    "    mean = data_people_train[col].mean()\n",
    "    std = data_people_train[col].std()\n",
    "    mean_dict[col] = (mean,std)\n",
    "    data_people_train[col] = data_people_train[col].apply(lambda x: (x-mean)/std)"
   ]
  },
  {
   "cell_type": "code",
   "execution_count": 25,
   "metadata": {},
   "outputs": [],
   "source": [
    "data_people_train = data_people_train.drop(\"nationality\", axis=1)"
   ]
  },
  {
   "cell_type": "code",
   "execution_count": 26,
   "metadata": {
    "collapsed": true
   },
   "outputs": [],
   "source": [
    "data_people_train = data_people_train.drop(\"category\", axis=1)\n"
   ]
  },
  {
   "cell_type": "code",
   "execution_count": 27,
   "metadata": {
    "collapsed": true
   },
   "outputs": [],
   "source": [
    "data_people_train = data_people_train.drop(\"customer\", axis=1)"
   ]
  },
  {
   "cell_type": "code",
   "execution_count": 28,
   "metadata": {},
   "outputs": [
    {
     "data": {
      "text/html": [
       "<div>\n",
       "<style scoped>\n",
       "    .dataframe tbody tr th:only-of-type {\n",
       "        vertical-align: middle;\n",
       "    }\n",
       "\n",
       "    .dataframe tbody tr th {\n",
       "        vertical-align: top;\n",
       "    }\n",
       "\n",
       "    .dataframe thead th {\n",
       "        text-align: right;\n",
       "    }\n",
       "</style>\n",
       "<table border=\"1\" class=\"dataframe\">\n",
       "  <thead>\n",
       "    <tr style=\"text-align: right;\">\n",
       "      <th></th>\n",
       "      <th>suspicious</th>\n",
       "      <th>turnover</th>\n",
       "      <th>transaction_count</th>\n",
       "      <th>io_ratio</th>\n",
       "      <th>age</th>\n",
       "      <th>is_pep</th>\n",
       "      <th>inactive_days_average</th>\n",
       "      <th>inactive_days_max</th>\n",
       "      <th>n_of_accounts</th>\n",
       "      <th>distinct_counterparties</th>\n",
       "      <th>...</th>\n",
       "      <th>distinct_counterparties_log</th>\n",
       "      <th>transaction_in</th>\n",
       "      <th>transaction_out</th>\n",
       "      <th>transaction_in_log</th>\n",
       "      <th>transaction_out_log</th>\n",
       "      <th>transaction_count_log</th>\n",
       "      <th>0</th>\n",
       "      <th>1</th>\n",
       "      <th>2</th>\n",
       "      <th>3</th>\n",
       "    </tr>\n",
       "  </thead>\n",
       "  <tbody>\n",
       "    <tr>\n",
       "      <th>2</th>\n",
       "      <td>0</td>\n",
       "      <td>-0.130733</td>\n",
       "      <td>-0.450349</td>\n",
       "      <td>0.666667</td>\n",
       "      <td>1.737473</td>\n",
       "      <td>0</td>\n",
       "      <td>-0.212834</td>\n",
       "      <td>-0.544975</td>\n",
       "      <td>0.002133</td>\n",
       "      <td>-0.324864</td>\n",
       "      <td>...</td>\n",
       "      <td>-0.616273</td>\n",
       "      <td>-0.352241</td>\n",
       "      <td>-0.489244</td>\n",
       "      <td>-0.174072</td>\n",
       "      <td>-0.889306</td>\n",
       "      <td>-0.330962</td>\n",
       "      <td>0</td>\n",
       "      <td>0</td>\n",
       "      <td>1</td>\n",
       "      <td>0</td>\n",
       "    </tr>\n",
       "    <tr>\n",
       "      <th>4</th>\n",
       "      <td>0</td>\n",
       "      <td>-0.050686</td>\n",
       "      <td>-0.499772</td>\n",
       "      <td>1.000000</td>\n",
       "      <td>-0.348524</td>\n",
       "      <td>0</td>\n",
       "      <td>1.885774</td>\n",
       "      <td>0.410886</td>\n",
       "      <td>2.006266</td>\n",
       "      <td>-0.324864</td>\n",
       "      <td>...</td>\n",
       "      <td>-0.616273</td>\n",
       "      <td>-0.432352</td>\n",
       "      <td>-0.524627</td>\n",
       "      <td>-0.721256</td>\n",
       "      <td>-0.889306</td>\n",
       "      <td>-0.997246</td>\n",
       "      <td>0</td>\n",
       "      <td>1</td>\n",
       "      <td>0</td>\n",
       "      <td>0</td>\n",
       "    </tr>\n",
       "    <tr>\n",
       "      <th>5</th>\n",
       "      <td>0</td>\n",
       "      <td>-0.135167</td>\n",
       "      <td>-0.450349</td>\n",
       "      <td>0.333333</td>\n",
       "      <td>-0.513208</td>\n",
       "      <td>0</td>\n",
       "      <td>-0.046507</td>\n",
       "      <td>-0.318587</td>\n",
       "      <td>0.002133</td>\n",
       "      <td>-0.157108</td>\n",
       "      <td>...</td>\n",
       "      <td>0.398551</td>\n",
       "      <td>-0.432352</td>\n",
       "      <td>-0.453862</td>\n",
       "      <td>-0.721256</td>\n",
       "      <td>-0.444597</td>\n",
       "      <td>-0.330962</td>\n",
       "      <td>0</td>\n",
       "      <td>1</td>\n",
       "      <td>0</td>\n",
       "      <td>0</td>\n",
       "    </tr>\n",
       "    <tr>\n",
       "      <th>6</th>\n",
       "      <td>0</td>\n",
       "      <td>-0.123805</td>\n",
       "      <td>-0.499772</td>\n",
       "      <td>0.000000</td>\n",
       "      <td>-0.458313</td>\n",
       "      <td>0</td>\n",
       "      <td>0.797329</td>\n",
       "      <td>0.813353</td>\n",
       "      <td>0.002133</td>\n",
       "      <td>-0.324864</td>\n",
       "      <td>...</td>\n",
       "      <td>-0.616273</td>\n",
       "      <td>-0.512463</td>\n",
       "      <td>-0.489244</td>\n",
       "      <td>-0.721256</td>\n",
       "      <td>-0.889306</td>\n",
       "      <td>-0.997246</td>\n",
       "      <td>0</td>\n",
       "      <td>1</td>\n",
       "      <td>0</td>\n",
       "      <td>0</td>\n",
       "    </tr>\n",
       "    <tr>\n",
       "      <th>7</th>\n",
       "      <td>0</td>\n",
       "      <td>-0.056058</td>\n",
       "      <td>2.070243</td>\n",
       "      <td>0.352381</td>\n",
       "      <td>0.859158</td>\n",
       "      <td>0</td>\n",
       "      <td>-0.849419</td>\n",
       "      <td>0.008418</td>\n",
       "      <td>0.002133</td>\n",
       "      <td>0.010648</td>\n",
       "      <td>...</td>\n",
       "      <td>0.870417</td>\n",
       "      <td>2.451647</td>\n",
       "      <td>1.881396</td>\n",
       "      <td>2.129274</td>\n",
       "      <td>1.817845</td>\n",
       "      <td>1.825278</td>\n",
       "      <td>0</td>\n",
       "      <td>0</td>\n",
       "      <td>1</td>\n",
       "      <td>0</td>\n",
       "    </tr>\n",
       "  </tbody>\n",
       "</table>\n",
       "<p>5 rows × 42 columns</p>\n",
       "</div>"
      ],
      "text/plain": [
       "   suspicious  turnover  transaction_count  io_ratio       age  is_pep  \\\n",
       "2           0 -0.130733          -0.450349  0.666667  1.737473       0   \n",
       "4           0 -0.050686          -0.499772  1.000000 -0.348524       0   \n",
       "5           0 -0.135167          -0.450349  0.333333 -0.513208       0   \n",
       "6           0 -0.123805          -0.499772  0.000000 -0.458313       0   \n",
       "7           0 -0.056058           2.070243  0.352381  0.859158       0   \n",
       "\n",
       "   inactive_days_average  inactive_days_max  n_of_accounts  \\\n",
       "2              -0.212834          -0.544975       0.002133   \n",
       "4               1.885774           0.410886       2.006266   \n",
       "5              -0.046507          -0.318587       0.002133   \n",
       "6               0.797329           0.813353       0.002133   \n",
       "7              -0.849419           0.008418       0.002133   \n",
       "\n",
       "   distinct_counterparties ...  distinct_counterparties_log  transaction_in  \\\n",
       "2                -0.324864 ...                    -0.616273       -0.352241   \n",
       "4                -0.324864 ...                    -0.616273       -0.432352   \n",
       "5                -0.157108 ...                     0.398551       -0.432352   \n",
       "6                -0.324864 ...                    -0.616273       -0.512463   \n",
       "7                 0.010648 ...                     0.870417        2.451647   \n",
       "\n",
       "   transaction_out  transaction_in_log  transaction_out_log  \\\n",
       "2        -0.489244           -0.174072            -0.889306   \n",
       "4        -0.524627           -0.721256            -0.889306   \n",
       "5        -0.453862           -0.721256            -0.444597   \n",
       "6        -0.489244           -0.721256            -0.889306   \n",
       "7         1.881396            2.129274             1.817845   \n",
       "\n",
       "   transaction_count_log  0  1  2  3  \n",
       "2              -0.330962  0  0  1  0  \n",
       "4              -0.997246  0  1  0  0  \n",
       "5              -0.330962  0  1  0  0  \n",
       "6              -0.997246  0  1  0  0  \n",
       "7               1.825278  0  0  1  0  \n",
       "\n",
       "[5 rows x 42 columns]"
      ]
     },
     "execution_count": 28,
     "metadata": {},
     "output_type": "execute_result"
    }
   ],
   "source": [
    "data_people_train.head()"
   ]
  },
  {
   "cell_type": "code",
   "execution_count": 29,
   "metadata": {},
   "outputs": [],
   "source": [
    "data_people_train.to_csv('people_train.csv')"
   ]
  },
  {
   "cell_type": "code",
   "execution_count": 30,
   "metadata": {},
   "outputs": [],
   "source": [
    "data_people_valiadion[\"turnover_log\"] = data_people_valiadion[\"turnover\"].apply(lambda x: 0 if x < 1 else math.log(x))\n",
    "data_people_valiadion[\"atm_withdrawal_log\"] = data_people_valiadion[\"atm_withdrawal\"].apply(lambda x: 0 if x < 1 else math.log(x))\n",
    "data_people_valiadion[\"atm_deposit_log\"] = data_people_valiadion[\"atm_deposit\"].apply(lambda x: 0 if x < 1 else math.log(x))\n",
    "data_people_valiadion[\"distinct_counterparties_log\"] = data_people_valiadion[\"distinct_counterparties\"].apply(lambda x: 0 if x < 1 else math.log(x))\n",
    "data_people_valiadion['transaction_in'] = data_people_valiadion[[\"transaction_count\",\"io_ratio\"]].apply(lambda x: x['transaction_count']*x['io_ratio'] ,axis=1)\n",
    "data_people_valiadion['transaction_out'] = data_people_valiadion[[\"transaction_count\",\"transaction_in\"]].apply(lambda x: x['transaction_count']-x['transaction_in'] ,axis=1)\n",
    "data_people_valiadion[\"transaction_in_log\"] = data_people_valiadion[\"transaction_in\"].apply(lambda x: 0 if x < 1 else math.log(x))\n",
    "data_people_valiadion[\"transaction_out_log\"] = data_people_valiadion[\"transaction_out\"].apply(lambda x: 0 if x < 1 else math.log(x))\n",
    "data_people_valiadion[\"transaction_count_log\"] = data_people_valiadion[\"transaction_count\"].apply(lambda x: 0 if x < 1 else math.log(x))"
   ]
  },
  {
   "cell_type": "code",
   "execution_count": 31,
   "metadata": {},
   "outputs": [],
   "source": [
    "for col in [ 'turnover_log', 'atm_withdrawal_log',\n",
    "       'atm_deposit_log', 'distinct_counterparties_log', 'transaction_in',\n",
    "       'transaction_out', 'transaction_in_log', 'transaction_out_log',\n",
    "       'transaction_count_log', 'atm_withdrawal', 'atm_deposit', 'distinct_counterparties', 'n_of_accounts',\n",
    "        'transaction_count',\"inactive_days_max\", 'inactive_days_average', \"turnover\"]:\n",
    "    mean = mean_dict[col][0]\n",
    "    std = mean_dict[col][1]\n",
    "    data_people_valiadion[col] = data_people_valiadion[col].apply(lambda x: (x-mean)/std)"
   ]
  },
  {
   "cell_type": "code",
   "execution_count": 32,
   "metadata": {},
   "outputs": [],
   "source": [
    "data_people_valiadion['age_temp'] = data_people_valiadion['age'].apply(lambda x: 0 if x<18 else(1 if x<49 else (2 if x<100 else 3)))\n",
    "data_people_valiadion = data_people_valiadion.join(pandas.get_dummies(data_people_valiadion['age_temp']))"
   ]
  },
  {
   "cell_type": "code",
   "execution_count": 33,
   "metadata": {
    "collapsed": true
   },
   "outputs": [],
   "source": [
    "for col in [\"age\"]:\n",
    "    mean = mean_dict[col][0]\n",
    "    std = mean_dict[col][1]\n",
    "    data_people_valiadion[col] = data_people_valiadion[col].apply(lambda x: (x-mean)/std)"
   ]
  },
  {
   "cell_type": "code",
   "execution_count": 34,
   "metadata": {
    "collapsed": true
   },
   "outputs": [],
   "source": [
    "data_people_valiadion = data_people_valiadion.drop(\"nationality\", axis=1)\n",
    "data_people_valiadion = data_people_valiadion.drop(\"age_temp\", axis=1)"
   ]
  },
  {
   "cell_type": "code",
   "execution_count": 35,
   "metadata": {},
   "outputs": [
    {
     "data": {
      "text/html": [
       "<div>\n",
       "<style scoped>\n",
       "    .dataframe tbody tr th:only-of-type {\n",
       "        vertical-align: middle;\n",
       "    }\n",
       "\n",
       "    .dataframe tbody tr th {\n",
       "        vertical-align: top;\n",
       "    }\n",
       "\n",
       "    .dataframe thead th {\n",
       "        text-align: right;\n",
       "    }\n",
       "</style>\n",
       "<table border=\"1\" class=\"dataframe\">\n",
       "  <thead>\n",
       "    <tr style=\"text-align: right;\">\n",
       "      <th></th>\n",
       "      <th>customer</th>\n",
       "      <th>category</th>\n",
       "      <th>suspicious</th>\n",
       "      <th>turnover</th>\n",
       "      <th>transaction_count</th>\n",
       "      <th>io_ratio</th>\n",
       "      <th>age</th>\n",
       "      <th>is_pep</th>\n",
       "      <th>inactive_days_average</th>\n",
       "      <th>inactive_days_max</th>\n",
       "      <th>...</th>\n",
       "      <th>distinct_counterparties_log</th>\n",
       "      <th>transaction_in</th>\n",
       "      <th>transaction_out</th>\n",
       "      <th>transaction_in_log</th>\n",
       "      <th>transaction_out_log</th>\n",
       "      <th>transaction_count_log</th>\n",
       "      <th>0</th>\n",
       "      <th>1</th>\n",
       "      <th>2</th>\n",
       "      <th>3</th>\n",
       "    </tr>\n",
       "  </thead>\n",
       "  <tbody>\n",
       "    <tr>\n",
       "      <th>0</th>\n",
       "      <td>90000000</td>\n",
       "      <td>0</td>\n",
       "      <td>0</td>\n",
       "      <td>0.167287</td>\n",
       "      <td>-0.351502</td>\n",
       "      <td>0.142857</td>\n",
       "      <td>1.847262</td>\n",
       "      <td>0</td>\n",
       "      <td>-0.421400</td>\n",
       "      <td>0.109035</td>\n",
       "      <td>...</td>\n",
       "      <td>1.038834</td>\n",
       "      <td>-0.432352</td>\n",
       "      <td>-0.312331</td>\n",
       "      <td>-0.721256</td>\n",
       "      <td>0.260251</td>\n",
       "      <td>0.182905</td>\n",
       "      <td>0</td>\n",
       "      <td>0</td>\n",
       "      <td>1</td>\n",
       "      <td>0</td>\n",
       "    </tr>\n",
       "    <tr>\n",
       "      <th>3</th>\n",
       "      <td>90000003</td>\n",
       "      <td>0</td>\n",
       "      <td>0</td>\n",
       "      <td>-0.122441</td>\n",
       "      <td>1.477163</td>\n",
       "      <td>0.308642</td>\n",
       "      <td>1.737473</td>\n",
       "      <td>0</td>\n",
       "      <td>-0.845289</td>\n",
       "      <td>-0.255701</td>\n",
       "      <td>...</td>\n",
       "      <td>0.024010</td>\n",
       "      <td>1.490314</td>\n",
       "      <td>1.456804</td>\n",
       "      <td>1.819788</td>\n",
       "      <td>1.693278</td>\n",
       "      <td>1.667890</td>\n",
       "      <td>0</td>\n",
       "      <td>0</td>\n",
       "      <td>1</td>\n",
       "      <td>0</td>\n",
       "    </tr>\n",
       "    <tr>\n",
       "      <th>12</th>\n",
       "      <td>90000012</td>\n",
       "      <td>0</td>\n",
       "      <td>0</td>\n",
       "      <td>-0.079622</td>\n",
       "      <td>-0.499772</td>\n",
       "      <td>0.000000</td>\n",
       "      <td>-1.885575</td>\n",
       "      <td>0</td>\n",
       "      <td>-0.354568</td>\n",
       "      <td>-1.085791</td>\n",
       "      <td>...</td>\n",
       "      <td>-0.616273</td>\n",
       "      <td>-0.512463</td>\n",
       "      <td>-0.489244</td>\n",
       "      <td>-0.721256</td>\n",
       "      <td>-0.889306</td>\n",
       "      <td>-0.997246</td>\n",
       "      <td>1</td>\n",
       "      <td>0</td>\n",
       "      <td>0</td>\n",
       "      <td>0</td>\n",
       "    </tr>\n",
       "    <tr>\n",
       "      <th>14</th>\n",
       "      <td>90000014</td>\n",
       "      <td>0</td>\n",
       "      <td>0</td>\n",
       "      <td>-0.125625</td>\n",
       "      <td>0.093308</td>\n",
       "      <td>0.280000</td>\n",
       "      <td>-0.568103</td>\n",
       "      <td>0</td>\n",
       "      <td>-0.721201</td>\n",
       "      <td>-0.029313</td>\n",
       "      <td>...</td>\n",
       "      <td>1.413375</td>\n",
       "      <td>0.048314</td>\n",
       "      <td>0.112261</td>\n",
       "      <td>0.814884</td>\n",
       "      <td>0.965098</td>\n",
       "      <td>0.954931</td>\n",
       "      <td>0</td>\n",
       "      <td>1</td>\n",
       "      <td>0</td>\n",
       "      <td>0</td>\n",
       "    </tr>\n",
       "    <tr>\n",
       "      <th>16</th>\n",
       "      <td>90000016</td>\n",
       "      <td>0</td>\n",
       "      <td>0</td>\n",
       "      <td>-0.125850</td>\n",
       "      <td>-0.227944</td>\n",
       "      <td>0.333333</td>\n",
       "      <td>-0.568103</td>\n",
       "      <td>0</td>\n",
       "      <td>-0.566513</td>\n",
       "      <td>-0.381473</td>\n",
       "      <td>...</td>\n",
       "      <td>0.024010</td>\n",
       "      <td>-0.192019</td>\n",
       "      <td>-0.241565</td>\n",
       "      <td>0.373112</td>\n",
       "      <td>0.444822</td>\n",
       "      <td>0.509795</td>\n",
       "      <td>0</td>\n",
       "      <td>1</td>\n",
       "      <td>0</td>\n",
       "      <td>0</td>\n",
       "    </tr>\n",
       "  </tbody>\n",
       "</table>\n",
       "<p>5 rows × 44 columns</p>\n",
       "</div>"
      ],
      "text/plain": [
       "    customer  category  suspicious  turnover  transaction_count  io_ratio  \\\n",
       "0   90000000         0           0  0.167287          -0.351502  0.142857   \n",
       "3   90000003         0           0 -0.122441           1.477163  0.308642   \n",
       "12  90000012         0           0 -0.079622          -0.499772  0.000000   \n",
       "14  90000014         0           0 -0.125625           0.093308  0.280000   \n",
       "16  90000016         0           0 -0.125850          -0.227944  0.333333   \n",
       "\n",
       "         age  is_pep  inactive_days_average  inactive_days_max ...  \\\n",
       "0   1.847262       0              -0.421400           0.109035 ...   \n",
       "3   1.737473       0              -0.845289          -0.255701 ...   \n",
       "12 -1.885575       0              -0.354568          -1.085791 ...   \n",
       "14 -0.568103       0              -0.721201          -0.029313 ...   \n",
       "16 -0.568103       0              -0.566513          -0.381473 ...   \n",
       "\n",
       "    distinct_counterparties_log  transaction_in  transaction_out  \\\n",
       "0                      1.038834       -0.432352        -0.312331   \n",
       "3                      0.024010        1.490314         1.456804   \n",
       "12                    -0.616273       -0.512463        -0.489244   \n",
       "14                     1.413375        0.048314         0.112261   \n",
       "16                     0.024010       -0.192019        -0.241565   \n",
       "\n",
       "    transaction_in_log  transaction_out_log  transaction_count_log  0  1  2  3  \n",
       "0            -0.721256             0.260251               0.182905  0  0  1  0  \n",
       "3             1.819788             1.693278               1.667890  0  0  1  0  \n",
       "12           -0.721256            -0.889306              -0.997246  1  0  0  0  \n",
       "14            0.814884             0.965098               0.954931  0  1  0  0  \n",
       "16            0.373112             0.444822               0.509795  0  1  0  0  \n",
       "\n",
       "[5 rows x 44 columns]"
      ]
     },
     "execution_count": 35,
     "metadata": {},
     "output_type": "execute_result"
    }
   ],
   "source": [
    "data_people_valiadion.head()"
   ]
  },
  {
   "cell_type": "code",
   "execution_count": 36,
   "metadata": {
    "collapsed": true
   },
   "outputs": [],
   "source": [
    "data_people_valiadion = data_people_valiadion.drop(\"category\", axis=1)"
   ]
  },
  {
   "cell_type": "code",
   "execution_count": 37,
   "metadata": {
    "collapsed": true
   },
   "outputs": [],
   "source": [
    "data_people_valiadion = data_people_valiadion.drop(\"customer\", axis=1)"
   ]
  },
  {
   "cell_type": "code",
   "execution_count": 117,
   "metadata": {
    "collapsed": true
   },
   "outputs": [],
   "source": [
    "data_people_valiadion.to_csv('people_validate.csv')"
   ]
  },
  {
   "cell_type": "markdown",
   "metadata": {},
   "source": [
    "# Test data"
   ]
  },
  {
   "cell_type": "code",
   "execution_count": 39,
   "metadata": {},
   "outputs": [],
   "source": [
    "data_test =  pandas.read_csv(\"test.csv\")"
   ]
  },
  {
   "cell_type": "code",
   "execution_count": 40,
   "metadata": {
    "collapsed": true
   },
   "outputs": [],
   "source": [
    "data_people_test = data_test[data_test['category'] == 0]"
   ]
  },
  {
   "cell_type": "code",
   "execution_count": 41,
   "metadata": {},
   "outputs": [],
   "source": [
    "df = pandas.get_dummies(data_people_test['nationality'])\n",
    "df.insert(9, 117, 0)\n",
    "data_people_test = data_people_test.join(df)"
   ]
  },
  {
   "cell_type": "code",
   "execution_count": 42,
   "metadata": {},
   "outputs": [
    {
     "data": {
      "image/png": "[encoded data removed]",
      "text/plain": [
       "<matplotlib.figure.Figure at 0x108d86160>"
      ]
     },
     "metadata": {},
     "output_type": "display_data"
    }
   ],
   "source": [
    "plt.hist(data_people_test['distinct_counterparties'].apply(lambda x: 0 if x==0 else math.log(x)))\n",
    "plt.show()"
   ]
  },
  {
   "cell_type": "code",
   "execution_count": 43,
   "metadata": {},
   "outputs": [
    {
     "data": {
      "image/png": "[encoded data removed]",
      "text/plain": [
       "<matplotlib.figure.Figure at 0x108da4780>"
      ]
     },
     "metadata": {},
     "output_type": "display_data"
    }
   ],
   "source": [
    "plt.hist(data_people['age'], bins=10)\n",
    "plt.show()"
   ]
  },
  {
   "cell_type": "code",
   "execution_count": 44,
   "metadata": {},
   "outputs": [
    {
     "data": {
      "text/html": [
       "<div>\n",
       "<style scoped>\n",
       "    .dataframe tbody tr th:only-of-type {\n",
       "        vertical-align: middle;\n",
       "    }\n",
       "\n",
       "    .dataframe tbody tr th {\n",
       "        vertical-align: top;\n",
       "    }\n",
       "\n",
       "    .dataframe thead th {\n",
       "        text-align: right;\n",
       "    }\n",
       "</style>\n",
       "<table border=\"1\" class=\"dataframe\">\n",
       "  <thead>\n",
       "    <tr style=\"text-align: right;\">\n",
       "      <th></th>\n",
       "      <th>customer</th>\n",
       "      <th>category</th>\n",
       "      <th>turnover</th>\n",
       "      <th>transaction_count</th>\n",
       "      <th>io_ratio</th>\n",
       "      <th>age</th>\n",
       "      <th>nationality</th>\n",
       "      <th>is_pep</th>\n",
       "      <th>inactive_days_average</th>\n",
       "      <th>inactive_days_max</th>\n",
       "      <th>...</th>\n",
       "      <th>66</th>\n",
       "      <th>94</th>\n",
       "      <th>113</th>\n",
       "      <th>117</th>\n",
       "      <th>123</th>\n",
       "      <th>134</th>\n",
       "      <th>141</th>\n",
       "      <th>172</th>\n",
       "      <th>176</th>\n",
       "      <th>191</th>\n",
       "    </tr>\n",
       "  </thead>\n",
       "  <tbody>\n",
       "    <tr>\n",
       "      <th>0</th>\n",
       "      <td>91000000</td>\n",
       "      <td>0</td>\n",
       "      <td>1235859.85</td>\n",
       "      <td>1.0</td>\n",
       "      <td>0.00</td>\n",
       "      <td>64.0</td>\n",
       "      <td>33</td>\n",
       "      <td>0</td>\n",
       "      <td>106.42</td>\n",
       "      <td>107.0</td>\n",
       "      <td>...</td>\n",
       "      <td>0</td>\n",
       "      <td>0</td>\n",
       "      <td>0</td>\n",
       "      <td>0</td>\n",
       "      <td>0</td>\n",
       "      <td>0</td>\n",
       "      <td>0</td>\n",
       "      <td>0</td>\n",
       "      <td>0</td>\n",
       "      <td>0</td>\n",
       "    </tr>\n",
       "    <tr>\n",
       "      <th>2</th>\n",
       "      <td>91000002</td>\n",
       "      <td>0</td>\n",
       "      <td>22003.25</td>\n",
       "      <td>4.0</td>\n",
       "      <td>0.25</td>\n",
       "      <td>41.0</td>\n",
       "      <td>33</td>\n",
       "      <td>0</td>\n",
       "      <td>30.94</td>\n",
       "      <td>62.0</td>\n",
       "      <td>...</td>\n",
       "      <td>0</td>\n",
       "      <td>0</td>\n",
       "      <td>0</td>\n",
       "      <td>0</td>\n",
       "      <td>0</td>\n",
       "      <td>0</td>\n",
       "      <td>0</td>\n",
       "      <td>0</td>\n",
       "      <td>0</td>\n",
       "      <td>0</td>\n",
       "    </tr>\n",
       "    <tr>\n",
       "      <th>3</th>\n",
       "      <td>91000003</td>\n",
       "      <td>0</td>\n",
       "      <td>72947.07</td>\n",
       "      <td>4.0</td>\n",
       "      <td>0.50</td>\n",
       "      <td>16.0</td>\n",
       "      <td>94</td>\n",
       "      <td>0</td>\n",
       "      <td>24.19</td>\n",
       "      <td>97.0</td>\n",
       "      <td>...</td>\n",
       "      <td>0</td>\n",
       "      <td>1</td>\n",
       "      <td>0</td>\n",
       "      <td>0</td>\n",
       "      <td>0</td>\n",
       "      <td>0</td>\n",
       "      <td>0</td>\n",
       "      <td>0</td>\n",
       "      <td>0</td>\n",
       "      <td>0</td>\n",
       "    </tr>\n",
       "    <tr>\n",
       "      <th>4</th>\n",
       "      <td>91000004</td>\n",
       "      <td>0</td>\n",
       "      <td>9964.06</td>\n",
       "      <td>1.0</td>\n",
       "      <td>0.00</td>\n",
       "      <td>46.0</td>\n",
       "      <td>50</td>\n",
       "      <td>0</td>\n",
       "      <td>47.84</td>\n",
       "      <td>48.0</td>\n",
       "      <td>...</td>\n",
       "      <td>0</td>\n",
       "      <td>0</td>\n",
       "      <td>0</td>\n",
       "      <td>0</td>\n",
       "      <td>0</td>\n",
       "      <td>0</td>\n",
       "      <td>0</td>\n",
       "      <td>0</td>\n",
       "      <td>0</td>\n",
       "      <td>0</td>\n",
       "    </tr>\n",
       "    <tr>\n",
       "      <th>5</th>\n",
       "      <td>91000005</td>\n",
       "      <td>0</td>\n",
       "      <td>4083.56</td>\n",
       "      <td>5.0</td>\n",
       "      <td>0.00</td>\n",
       "      <td>81.0</td>\n",
       "      <td>172</td>\n",
       "      <td>0</td>\n",
       "      <td>28.20</td>\n",
       "      <td>113.0</td>\n",
       "      <td>...</td>\n",
       "      <td>0</td>\n",
       "      <td>0</td>\n",
       "      <td>0</td>\n",
       "      <td>0</td>\n",
       "      <td>0</td>\n",
       "      <td>0</td>\n",
       "      <td>0</td>\n",
       "      <td>1</td>\n",
       "      <td>0</td>\n",
       "      <td>0</td>\n",
       "    </tr>\n",
       "  </tbody>\n",
       "</table>\n",
       "<p>5 rows × 31 columns</p>\n",
       "</div>"
      ],
      "text/plain": [
       "   customer  category    turnover  transaction_count  io_ratio   age  \\\n",
       "0  91000000         0  1235859.85                1.0      0.00  64.0   \n",
       "2  91000002         0    22003.25                4.0      0.25  41.0   \n",
       "3  91000003         0    72947.07                4.0      0.50  16.0   \n",
       "4  91000004         0     9964.06                1.0      0.00  46.0   \n",
       "5  91000005         0     4083.56                5.0      0.00  81.0   \n",
       "\n",
       "   nationality  is_pep  inactive_days_average  inactive_days_max ...   66  94  \\\n",
       "0           33       0                 106.42              107.0 ...    0   0   \n",
       "2           33       0                  30.94               62.0 ...    0   0   \n",
       "3           94       0                  24.19               97.0 ...    0   1   \n",
       "4           50       0                  47.84               48.0 ...    0   0   \n",
       "5          172       0                  28.20              113.0 ...    0   0   \n",
       "\n",
       "   113  117  123  134  141  172  176  191  \n",
       "0    0    0    0    0    0    0    0    0  \n",
       "2    0    0    0    0    0    0    0    0  \n",
       "3    0    0    0    0    0    0    0    0  \n",
       "4    0    0    0    0    0    0    0    0  \n",
       "5    0    0    0    0    0    1    0    0  \n",
       "\n",
       "[5 rows x 31 columns]"
      ]
     },
     "execution_count": 44,
     "metadata": {},
     "output_type": "execute_result"
    }
   ],
   "source": [
    "data_people_test.head()"
   ]
  },
  {
   "cell_type": "code",
   "execution_count": 45,
   "metadata": {
    "collapsed": true
   },
   "outputs": [],
   "source": [
    "data_people_test = data_people_test.drop(\"category\", axis=1)\n",
    "data_people_test = data_people_test.drop(\"customer\", axis=1)\n",
    "data_people_test[\"turnover_log\"] = data_people_test[\"turnover\"].apply(lambda x: 0 if x < 1 else math.log(x))\n",
    "data_people_test[\"atm_withdrawal_log\"] = data_people_test[\"atm_withdrawal\"].apply(lambda x: 0 if x < 1 else math.log(x))\n",
    "data_people_test[\"atm_deposit_log\"] = data_people_test[\"atm_deposit\"].apply(lambda x: 0 if x < 1 else math.log(x))\n",
    "data_people_test[\"distinct_counterparties_log\"] = data_people_test[\"distinct_counterparties\"].apply(lambda x: 0 if x < 1 else math.log(x))\n",
    "data_people_test['transaction_in'] = data_people_test[[\"transaction_count\",\"io_ratio\"]].apply(lambda x: x['transaction_count']*x['io_ratio'] ,axis=1)\n",
    "data_people_test['transaction_out'] = data_people_test[[\"transaction_count\",\"transaction_in\"]].apply(lambda x: x['transaction_count']-x['transaction_in'] ,axis=1)\n",
    "data_people_test[\"transaction_in_log\"] = data_people_test[\"transaction_in\"].apply(lambda x: 0 if x < 1 else math.log(x))\n",
    "data_people_test[\"transaction_out_log\"] = data_people_test[\"transaction_out\"].apply(lambda x: 0 if x < 1 else math.log(x))\n",
    "data_people_test[\"transaction_count_log\"] = data_people_test[\"transaction_count\"].apply(lambda x: 0 if x < 1 else math.log(x))"
   ]
  },
  {
   "cell_type": "code",
   "execution_count": 46,
   "metadata": {},
   "outputs": [],
   "source": [
    "for col in [ 'turnover_log', 'atm_withdrawal_log',\n",
    "       'atm_deposit_log', 'distinct_counterparties_log', 'transaction_in',\n",
    "       'transaction_out', 'transaction_in_log', 'transaction_out_log',\n",
    "       'transaction_count_log', 'atm_withdrawal', 'atm_deposit', 'distinct_counterparties', 'n_of_accounts',\n",
    "        'transaction_count',\"inactive_days_max\", 'inactive_days_average', \"turnover\"]:\n",
    "    mean =  mean_dict[col][0]\n",
    "    std = mean_dict[col][1]\n",
    "    data_people_test[col] = data_people_test[col].apply(lambda x: (x-mean)/std)"
   ]
  },
  {
   "cell_type": "code",
   "execution_count": 47,
   "metadata": {},
   "outputs": [],
   "source": [
    "data_people_test['age_temp'] = data_people_test['age'].apply(lambda x: 0 if x<18 else(1 if x<49 else (2 if x<100 else 3)))\n",
    "data_people_test = data_people_test.join(pandas.get_dummies(data_people_test['age_temp']))"
   ]
  },
  {
   "cell_type": "code",
   "execution_count": 48,
   "metadata": {},
   "outputs": [],
   "source": [
    "data_people_test  = data_people_test.drop(\"age_temp\", axis=1)\n",
    "data_people_test  = data_people_test.drop(\"nationality\", axis=1)"
   ]
  },
  {
   "cell_type": "code",
   "execution_count": 49,
   "metadata": {},
   "outputs": [],
   "source": [
    "for col in [\"age\"]:\n",
    "    mean = mean_dict[col][0]\n",
    "    std = mean_dict[col][1]\n",
    "    data_people_test[col] = data_people_test[col].apply(lambda x: (x-mean)/std)"
   ]
  },
  {
   "cell_type": "code",
   "execution_count": 50,
   "metadata": {},
   "outputs": [
    {
     "data": {
      "text/plain": [
       "Index([                   'turnover',           'transaction_count',\n",
       "                          'io_ratio',                         'age',\n",
       "                            'is_pep',       'inactive_days_average',\n",
       "                 'inactive_days_max',               'n_of_accounts',\n",
       "           'distinct_counterparties',                'channel_risk',\n",
       "                    'atm_withdrawal',                 'atm_deposit',\n",
       "                                  18,                            32,\n",
       "                                  33,                            45,\n",
       "                                  47,                            50,\n",
       "                                  66,                            94,\n",
       "                                 113,                           117,\n",
       "                                 123,                           134,\n",
       "                                 141,                           172,\n",
       "                                 176,                           191,\n",
       "                      'turnover_log',          'atm_withdrawal_log',\n",
       "                   'atm_deposit_log', 'distinct_counterparties_log',\n",
       "                    'transaction_in',             'transaction_out',\n",
       "                'transaction_in_log',         'transaction_out_log',\n",
       "             'transaction_count_log',                             0,\n",
       "                                   1,                             2,\n",
       "                                   3],\n",
       "      dtype='object')"
      ]
     },
     "execution_count": 50,
     "metadata": {},
     "output_type": "execute_result"
    }
   ],
   "source": [
    "data_people_valiadion.keys()[1:]"
   ]
  },
  {
   "cell_type": "code",
   "execution_count": 202,
   "metadata": {},
   "outputs": [],
   "source": [
    "data_people_test.to_csv('people_test.csv')"
   ]
  },
  {
   "cell_type": "markdown",
   "metadata": {},
   "source": [
    "# Data Companies"
   ]
  },
  {
   "cell_type": "code",
   "execution_count": 183,
   "metadata": {},
   "outputs": [],
   "source": [
    "data_companies = data_companies.drop(\"customer\", axis=1)"
   ]
  },
  {
   "cell_type": "code",
   "execution_count": 184,
   "metadata": {},
   "outputs": [],
   "source": [
    "data_companies[\"turnover_log\"] = data_companies[\"turnover\"].apply(lambda x: 0 if x < 1 else math.log(x))\n",
    "data_companies[\"atm_withdrawal_log\"] = data_companies[\"atm_withdrawal\"].apply(lambda x: 0 if x < 1 else math.log(x))\n",
    "data_companies[\"atm_deposit_log\"] = data_companies[\"atm_deposit\"].apply(lambda x: 0 if x < 1 else math.log(x))\n",
    "data_companies[\"distinct_counterparties_log\"] = data_companies[\"distinct_counterparties\"].apply(lambda x: 0 if x < 1 else math.log(x))\n",
    "data_companies['transaction_in'] = data_companies[[\"transaction_count\",\"io_ratio\"]].apply(lambda x: x['transaction_count']*x['io_ratio'] ,axis=1)\n",
    "data_companies['transaction_out'] = data_companies[[\"transaction_count\",\"transaction_in\"]].apply(lambda x: x['transaction_count']-x['transaction_in'] ,axis=1)\n",
    "data_companies[\"transaction_in_log\"] = data_companies[\"transaction_in\"].apply(lambda x: 0 if x < 1 else math.log(x))\n",
    "data_companies[\"transaction_out_log\"] = data_companies[\"transaction_out\"].apply(lambda x: 0 if x < 1 else math.log(x))\n",
    "data_companies[\"transaction_count_log\"] = data_companies[\"transaction_count\"].apply(lambda x: 0 if x < 1 else math.log(x))"
   ]
  },
  {
   "cell_type": "code",
   "execution_count": 185,
   "metadata": {},
   "outputs": [],
   "source": [
    "mean_dict_comapnies = {}\n",
    "for col in [ 'turnover_log', 'atm_withdrawal_log',\n",
    "       'atm_deposit_log', 'distinct_counterparties_log', 'transaction_in',\n",
    "       'transaction_out', 'transaction_in_log', 'transaction_out_log',\n",
    "       'transaction_count_log', 'atm_withdrawal', 'atm_deposit', 'distinct_counterparties', 'n_of_accounts',\n",
    "        'transaction_count',\"inactive_days_max\", 'inactive_days_average', \"turnover\"]:\n",
    "    mean = data_companies[col].mean()\n",
    "    std = data_companies[col].std()\n",
    "    mean_dict_comapnies[col] = (mean,std)\n",
    "    data_companies[col] = data_companies[col].apply(lambda x: (x-mean)/std)"
   ]
  },
  {
   "cell_type": "code",
   "execution_count": 186,
   "metadata": {},
   "outputs": [],
   "source": [
    "data_companies = data_companies.join(pandas.get_dummies(data_companies['nationality']))\n",
    "data_companies  = data_companies.drop(\"nationality\", axis=1)\n",
    "data_companies['category'] = data_companies['category'].apply(lambda x: x-1)"
   ]
  },
  {
   "cell_type": "code",
   "execution_count": 187,
   "metadata": {},
   "outputs": [],
   "source": [
    "data_companies.to_csv('final_train_companies.csv')"
   ]
  },
  {
   "cell_type": "markdown",
   "metadata": {},
   "source": [
    "# Test companies"
   ]
  },
  {
   "cell_type": "code",
   "execution_count": 190,
   "metadata": {},
   "outputs": [],
   "source": [
    "data_companies_test = data_test[data_test['category'] != 0]\n",
    "data_companies_test = data_companies_test.drop(\"customer\", axis=1)"
   ]
  },
  {
   "cell_type": "code",
   "execution_count": 191,
   "metadata": {},
   "outputs": [],
   "source": [
    "data_companies_test[\"turnover_log\"] = data_companies_test[\"turnover\"].apply(lambda x: 0 if x < 1 else math.log(x))\n",
    "data_companies_test[\"atm_withdrawal_log\"] = data_companies_test[\"atm_withdrawal\"].apply(lambda x: 0 if x < 1 else math.log(x))\n",
    "data_companies_test[\"atm_deposit_log\"] = data_companies_test[\"atm_deposit\"].apply(lambda x: 0 if x < 1 else math.log(x))\n",
    "data_companies_test[\"distinct_counterparties_log\"] = data_companies_test[\"distinct_counterparties\"].apply(lambda x: 0 if x < 1 else math.log(x))\n",
    "data_companies_test['transaction_in'] = data_companies_test[[\"transaction_count\",\"io_ratio\"]].apply(lambda x: x['transaction_count']*x['io_ratio'] ,axis=1)\n",
    "data_companies_test['transaction_out'] = data_companies_test[[\"transaction_count\",\"transaction_in\"]].apply(lambda x: x['transaction_count']-x['transaction_in'] ,axis=1)\n",
    "data_companies_test[\"transaction_in_log\"] = data_companies_test[\"transaction_in\"].apply(lambda x: 0 if x < 1 else math.log(x))\n",
    "data_companies_test[\"transaction_out_log\"] = data_companies_test[\"transaction_out\"].apply(lambda x: 0 if x < 1 else math.log(x))\n",
    "data_companies_test[\"transaction_count_log\"] = data_companies_test[\"transaction_count\"].apply(lambda x: 0 if x < 1 else math.log(x))"
   ]
  },
  {
   "cell_type": "code",
   "execution_count": 192,
   "metadata": {
    "collapsed": true
   },
   "outputs": [],
   "source": [
    "for col in [ 'turnover_log', 'atm_withdrawal_log',\n",
    "       'atm_deposit_log', 'distinct_counterparties_log', 'transaction_in',\n",
    "       'transaction_out', 'transaction_in_log', 'transaction_out_log',\n",
    "       'transaction_count_log', 'atm_withdrawal', 'atm_deposit', 'distinct_counterparties', 'n_of_accounts',\n",
    "        'transaction_count',\"inactive_days_max\", 'inactive_days_average', \"turnover\"]:\n",
    "    mean = mean_dict_comapnies[col][0]\n",
    "    std = mean_dict_comapnies[col][1]\n",
    "    data_companies_test[col] = data_companies_test[col].apply(lambda x: (x-mean)/std)"
   ]
  },
  {
   "cell_type": "code",
   "execution_count": 210,
   "metadata": {},
   "outputs": [],
   "source": [
    "df_companies = pandas.get_dummies(data_companies_test['nationality']) \n",
    "df_companies.insert(5,66,0)"
   ]
  },
  {
   "cell_type": "code",
   "execution_count": 215,
   "metadata": {},
   "outputs": [],
   "source": [
    "data_companies_test = data_companies_test.join(df_companies)"
   ]
  },
  {
   "cell_type": "code",
   "execution_count": 218,
   "metadata": {},
   "outputs": [],
   "source": [
    "data_companies_test = data_companies_test.drop(\"nationality\", axis=1)"
   ]
  },
  {
   "cell_type": "code",
   "execution_count": 219,
   "metadata": {
    "collapsed": true
   },
   "outputs": [],
   "source": [
    "data_companies_test = data_companies_test.drop(\"age\", axis=1)"
   ]
  },
  {
   "cell_type": "code",
   "execution_count": 220,
   "metadata": {
    "collapsed": true
   },
   "outputs": [],
   "source": [
    "data_companies_test = data_companies_test.drop(\"is_pep\", axis=1)"
   ]
  },
  {
   "cell_type": "code",
   "execution_count": 222,
   "metadata": {},
   "outputs": [],
   "source": [
    "data_companies_test['category'] = data_companies_test['category'].apply(lambda x: x-1)"
   ]
  },
  {
   "cell_type": "code",
   "execution_count": null,
   "metadata": {
    "collapsed": true
   },
   "outputs": [],
   "source": [
    "data_companies_test.to_csv(\"final_test_companies.csv\")"
   ]
  }
 ],
 "metadata": {
  "anaconda-cloud": {},
  "kernelspec": {
   "display_name": "Python (conda)",
   "language": "python",
   "name": "myenv"
  },
  "language_info": {
   "codemirror_mode": {
    "name": "ipython",
    "version": 3
   },
   "file_extension": ".py",
   "mimetype": "text/x-python",
   "name": "python",
   "nbconvert_exporter": "python",
   "pygments_lexer": "ipython3",
   "version": "3.6.7"
  }
 },
 "nbformat": 4,
 "nbformat_minor": 1
}
